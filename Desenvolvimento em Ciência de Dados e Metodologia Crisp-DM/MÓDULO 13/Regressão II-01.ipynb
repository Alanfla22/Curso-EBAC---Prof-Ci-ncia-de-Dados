{
  "cells": [
    {
      "cell_type": "markdown",
      "metadata": {
        "id": "-21220we3ie9"
      },
      "source": [
        "# EBAC - Regressão II - regressão múltipla\n",
        "\n",
        "## Tarefa I"
      ]
    },
    {
      "cell_type": "markdown",
      "metadata": {
        "id": "eW0QOI163ifV"
      },
      "source": [
        "#### Previsão de renda\n",
        "\n",
        "Vamos trabalhar com a base 'previsao_de_renda.csv', que é a base do seu próximo projeto. Vamos usar os recursos que vimos até aqui nesta base.\n",
        "\n",
        "|variavel|descrição|\n",
        "|-|-|\n",
        "|data_ref                | Data de referência de coleta das variáveis |\n",
        "|index                   | Código de identificação do cliente|\n",
        "|sexo                    | Sexo do cliente|\n",
        "|posse_de_veiculo        | Indica se o cliente possui veículo|\n",
        "|posse_de_imovel         | Indica se o cliente possui imóvel|\n",
        "|qtd_filhos              | Quantidade de filhos do cliente|\n",
        "|tipo_renda              | Tipo de renda do cliente|\n",
        "|educacao                | Grau de instrução do cliente|\n",
        "|estado_civil            | Estado civil do cliente|\n",
        "|tipo_residencia         | Tipo de residência do cliente (própria, alugada etc)|\n",
        "|idade                   | Idade do cliente|\n",
        "|tempo_emprego           | Tempo no emprego atual|\n",
        "|qt_pessoas_residencia   | Quantidade de pessoas que moram na residência|\n",
        "|renda                   | Renda em reais|"
      ]
    },
    {
      "cell_type": "code",
      "execution_count": 43,
      "metadata": {
        "id": "lwlrb5WH3ifc"
      },
      "outputs": [],
      "source": [
        "import pandas as pd\n",
        "import numpy as np\n",
        "from seaborn import load_dataset\n",
        "import seaborn as sns\n",
        "import matplotlib.pyplot as plt\n",
        "\n",
        "import patsy\n",
        "import statsmodels.api as sm\n",
        "import statsmodels.formula.api as smf"
      ]
    },
    {
      "cell_type": "code",
      "source": [
        "from google.colab import drive\n",
        "drive.mount('/content/drive')"
      ],
      "metadata": {
        "colab": {
          "base_uri": "https://localhost:8080/"
        },
        "id": "a6i0uWxGKsu-",
        "outputId": "492f8a94-6cd9-46ad-cd97-213723b5d109"
      },
      "execution_count": 44,
      "outputs": [
        {
          "output_type": "stream",
          "name": "stdout",
          "text": [
            "Drive already mounted at /content/drive; to attempt to forcibly remount, call drive.mount(\"/content/drive\", force_remount=True).\n"
          ]
        }
      ]
    },
    {
      "cell_type": "code",
      "execution_count": 45,
      "metadata": {
        "id": "OzbpZvKW3ifp"
      },
      "outputs": [],
      "source": [
        "df = pd.read_csv('/content/drive/MyDrive/previsao_de_renda.csv')"
      ]
    },
    {
      "cell_type": "code",
      "execution_count": 46,
      "metadata": {
        "id": "5ZVDzvVj3ifr",
        "outputId": "04b6e6fa-227d-4430-8cf0-4aa6e7306507",
        "colab": {
          "base_uri": "https://localhost:8080/"
        }
      },
      "outputs": [
        {
          "output_type": "stream",
          "name": "stdout",
          "text": [
            "<class 'pandas.core.frame.DataFrame'>\n",
            "RangeIndex: 15000 entries, 0 to 14999\n",
            "Data columns (total 15 columns):\n",
            " #   Column                 Non-Null Count  Dtype  \n",
            "---  ------                 --------------  -----  \n",
            " 0   Unnamed: 0             15000 non-null  int64  \n",
            " 1   data_ref               15000 non-null  object \n",
            " 2   id_cliente             15000 non-null  int64  \n",
            " 3   sexo                   15000 non-null  object \n",
            " 4   posse_de_veiculo       15000 non-null  bool   \n",
            " 5   posse_de_imovel        15000 non-null  bool   \n",
            " 6   qtd_filhos             15000 non-null  int64  \n",
            " 7   tipo_renda             15000 non-null  object \n",
            " 8   educacao               15000 non-null  object \n",
            " 9   estado_civil           15000 non-null  object \n",
            " 10  tipo_residencia        15000 non-null  object \n",
            " 11  idade                  15000 non-null  int64  \n",
            " 12  tempo_emprego          12427 non-null  float64\n",
            " 13  qt_pessoas_residencia  15000 non-null  float64\n",
            " 14  renda                  15000 non-null  float64\n",
            "dtypes: bool(2), float64(3), int64(4), object(6)\n",
            "memory usage: 1.5+ MB\n"
          ]
        }
      ],
      "source": [
        "df.info()"
      ]
    },
    {
      "cell_type": "markdown",
      "metadata": {
        "id": "Yz1S6o-n3if3"
      },
      "source": [
        "1. Ajuste um modelo para prever log(renda) considerando todas as covariáveis disponíveis.\n",
        "    - Utilizando os recursos do Patsy, coloque as variáveis qualitativas como *dummies*.\n",
        "    - Mantenha sempre a categoria mais frequente como casela de referência\n",
        "    - Avalie os parâmetros e veja se parecem fazer sentido prático.  \n",
        "\n",
        "\n",
        "2. Remova a variável menos significante e analise:\n",
        "    - Observe os indicadores que vimos, e avalie se o modelo melhorou ou piorou na sua opinião.\n",
        "    - Observe os parâmetros e veja se algum se alterou muito.  \n",
        "\n",
        "\n",
        "3. Siga removendo as variáveis menos significantes, sempre que o *p-value* for menor que 5%. Compare o modelo final com o inicial. Observe os indicadores e conclua se o modelo parece melhor.\n",
        "    "
      ]
    },
    {
      "cell_type": "markdown",
      "source": [
        "***1 - Ajuste um modelo para prever log(renda) considerando todas as covariáveis disponíveis***"
      ],
      "metadata": {
        "id": "R45ycN_gLXET"
      }
    },
    {
      "cell_type": "code",
      "source": [
        "# excluindo variáveis que, por sua natureza, não devem fazer parte da construção do modelo\n",
        "\n",
        "df = df.drop(columns=['Unnamed: 0', 'id_cliente'])"
      ],
      "metadata": {
        "id": "PHDCK4FHPdaZ"
      },
      "execution_count": 47,
      "outputs": []
    },
    {
      "cell_type": "code",
      "execution_count": 48,
      "metadata": {
        "id": "csZVvHyd3if6",
        "colab": {
          "base_uri": "https://localhost:8080/",
          "height": 1000
        },
        "outputId": "b305b312-05c6-45a0-9f29-66f3e8c19a4c"
      },
      "outputs": [
        {
          "output_type": "execute_result",
          "data": {
            "text/plain": [
              "<class 'statsmodels.iolib.summary.Summary'>\n",
              "\"\"\"\n",
              "                            OLS Regression Results                            \n",
              "==============================================================================\n",
              "Dep. Variable:                  renda   R-squared:                       0.257\n",
              "Model:                            OLS   Adj. R-squared:                  0.255\n",
              "Method:                 Least Squares   F-statistic:                     112.7\n",
              "Date:                Sat, 24 Jun 2023   Prob (F-statistic):               0.00\n",
              "Time:                        21:33:52   Log-Likelihood:            -1.2878e+05\n",
              "No. Observations:               12427   AIC:                         2.576e+05\n",
              "Df Residuals:                   12388   BIC:                         2.579e+05\n",
              "Df Model:                          38                                         \n",
              "Covariance Type:            nonrobust                                         \n",
              "====================================================================================================\n",
              "                                       coef    std err          t      P>|t|      [0.025      0.975]\n",
              "----------------------------------------------------------------------------------------------------\n",
              "Intercept                        -5879.4874   2515.712     -2.337      0.019   -1.08e+04    -948.300\n",
              "data_ref[T.2015-02-01]             -50.5760    377.087     -0.134      0.893    -789.726     688.574\n",
              "data_ref[T.2015-03-01]             224.3334    378.075      0.593      0.553    -516.753     965.420\n",
              "data_ref[T.2015-04-01]             644.2383    376.941      1.709      0.087     -94.624    1383.101\n",
              "data_ref[T.2015-05-01]             177.6984    375.907      0.473      0.636    -559.138     914.535\n",
              "data_ref[T.2015-06-01]             642.5355    377.474      1.702      0.089     -97.373    1382.444\n",
              "data_ref[T.2015-07-01]             368.1166    376.181      0.979      0.328    -369.256    1105.490\n",
              "data_ref[T.2015-08-01]             210.0260    377.469      0.556      0.578    -529.872     949.924\n",
              "data_ref[T.2015-09-01]             153.4899    374.937      0.409      0.682    -581.446     888.425\n",
              "data_ref[T.2015-10-01]             270.5873    377.498      0.717      0.474    -469.367    1010.542\n",
              "data_ref[T.2015-11-01]             445.9166    377.674      1.181      0.238    -294.384    1186.217\n",
              "data_ref[T.2015-12-01]             621.5670    378.978      1.640      0.101    -121.289    1364.423\n",
              "data_ref[T.2016-01-01]             302.8712    377.441      0.802      0.422    -436.972    1042.715\n",
              "data_ref[T.2016-02-01]             -41.6680    377.355     -0.110      0.912    -781.342     698.006\n",
              "data_ref[T.2016-03-01]              57.9217    380.707      0.152      0.879    -688.323     804.166\n",
              "sexo[T.M]                         6054.7914    155.926     38.831      0.000    5749.152    6360.431\n",
              "posse_de_veiculo[T.True]            48.1619    150.456      0.320      0.749    -246.755     343.079\n",
              "posse_de_imovel[T.True]            363.7476    148.821      2.444      0.015      72.035     655.460\n",
              "tipo_renda[T.Bolsista]           -1285.7818   2566.067     -0.501      0.616   -6315.672    3744.108\n",
              "tipo_renda[T.Empresário]           829.2786    158.912      5.218      0.000     517.786    1140.771\n",
              "tipo_renda[T.Pensionista]        -2725.7882   2566.941     -1.062      0.288   -7757.392    2305.816\n",
              "tipo_renda[T.Servidor público]     138.7937    236.527      0.587      0.557    -324.836     602.424\n",
              "educacao[T.Pós graduação]         1017.3601   1691.601      0.601      0.548   -2298.441    4333.161\n",
              "educacao[T.Secundário]             570.3332    766.157      0.744      0.457    -931.455    2072.121\n",
              "educacao[T.Superior completo]     1185.7821    769.133      1.542      0.123    -321.837    2693.402\n",
              "educacao[T.Superior incompleto]    166.9395    827.796      0.202      0.840   -1455.669    1789.548\n",
              "estado_civil[T.Separado]          1164.5763   1183.767      0.984      0.325   -1155.791    3484.944\n",
              "estado_civil[T.Solteiro]           825.4338   1158.890      0.712      0.476   -1446.171    3097.039\n",
              "estado_civil[T.União]             -474.2839    267.911     -1.770      0.077    -999.430      50.862\n",
              "estado_civil[T.Viúvo]             1059.6596   1230.259      0.861      0.389   -1351.840    3471.159\n",
              "tipo_residencia[T.Casa]           -285.3807    576.277     -0.495      0.620   -1414.973     844.211\n",
              "tipo_residencia[T.Com os pais]    -369.1323    642.612     -0.574      0.566   -1628.752     890.487\n",
              "tipo_residencia[T.Comunitário]    -455.0603   1121.467     -0.406      0.685   -2653.309    1743.189\n",
              "tipo_residencia[T.Estúdio]          65.7938   1056.366      0.062      0.950   -2004.848    2136.436\n",
              "tipo_residencia[T.Governamental]    86.1836    702.241      0.123      0.902   -1290.318    1462.686\n",
              "qtd_filhos                       -1121.7135   1148.666     -0.977      0.329   -3373.278    1129.851\n",
              "idade                               42.1808      8.522      4.949      0.000      25.475      58.886\n",
              "tempo_emprego                      554.5884     11.049     50.192      0.000     532.930     576.247\n",
              "qt_pessoas_residencia             1269.9406   1146.608      1.108      0.268    -977.590    3517.471\n",
              "==============================================================================\n",
              "Omnibus:                    17561.957   Durbin-Watson:                   2.036\n",
              "Prob(Omnibus):                  0.000   Jarque-Bera (JB):          9856795.689\n",
              "Skew:                           8.119   Prob(JB):                         0.00\n",
              "Kurtosis:                     140.013   Cond. No.                     2.18e+03\n",
              "==============================================================================\n",
              "\n",
              "Notes:\n",
              "[1] Standard Errors assume that the covariance matrix of the errors is correctly specified.\n",
              "[2] The condition number is large, 2.18e+03. This might indicate that there are\n",
              "strong multicollinearity or other numerical problems.\n",
              "\"\"\""
            ],
            "text/html": [
              "<table class=\"simpletable\">\n",
              "<caption>OLS Regression Results</caption>\n",
              "<tr>\n",
              "  <th>Dep. Variable:</th>          <td>renda</td>      <th>  R-squared:         </th>  <td>   0.257</td>  \n",
              "</tr>\n",
              "<tr>\n",
              "  <th>Model:</th>                   <td>OLS</td>       <th>  Adj. R-squared:    </th>  <td>   0.255</td>  \n",
              "</tr>\n",
              "<tr>\n",
              "  <th>Method:</th>             <td>Least Squares</td>  <th>  F-statistic:       </th>  <td>   112.7</td>  \n",
              "</tr>\n",
              "<tr>\n",
              "  <th>Date:</th>             <td>Sat, 24 Jun 2023</td> <th>  Prob (F-statistic):</th>   <td>  0.00</td>   \n",
              "</tr>\n",
              "<tr>\n",
              "  <th>Time:</th>                 <td>21:33:52</td>     <th>  Log-Likelihood:    </th> <td>-1.2878e+05</td>\n",
              "</tr>\n",
              "<tr>\n",
              "  <th>No. Observations:</th>      <td> 12427</td>      <th>  AIC:               </th>  <td>2.576e+05</td> \n",
              "</tr>\n",
              "<tr>\n",
              "  <th>Df Residuals:</th>          <td> 12388</td>      <th>  BIC:               </th>  <td>2.579e+05</td> \n",
              "</tr>\n",
              "<tr>\n",
              "  <th>Df Model:</th>              <td>    38</td>      <th>                     </th>      <td> </td>     \n",
              "</tr>\n",
              "<tr>\n",
              "  <th>Covariance Type:</th>      <td>nonrobust</td>    <th>                     </th>      <td> </td>     \n",
              "</tr>\n",
              "</table>\n",
              "<table class=\"simpletable\">\n",
              "<tr>\n",
              "                  <td></td>                    <th>coef</th>     <th>std err</th>      <th>t</th>      <th>P>|t|</th>  <th>[0.025</th>    <th>0.975]</th>  \n",
              "</tr>\n",
              "<tr>\n",
              "  <th>Intercept</th>                        <td>-5879.4874</td> <td> 2515.712</td> <td>   -2.337</td> <td> 0.019</td> <td>-1.08e+04</td> <td> -948.300</td>\n",
              "</tr>\n",
              "<tr>\n",
              "  <th>data_ref[T.2015-02-01]</th>           <td>  -50.5760</td> <td>  377.087</td> <td>   -0.134</td> <td> 0.893</td> <td> -789.726</td> <td>  688.574</td>\n",
              "</tr>\n",
              "<tr>\n",
              "  <th>data_ref[T.2015-03-01]</th>           <td>  224.3334</td> <td>  378.075</td> <td>    0.593</td> <td> 0.553</td> <td> -516.753</td> <td>  965.420</td>\n",
              "</tr>\n",
              "<tr>\n",
              "  <th>data_ref[T.2015-04-01]</th>           <td>  644.2383</td> <td>  376.941</td> <td>    1.709</td> <td> 0.087</td> <td>  -94.624</td> <td> 1383.101</td>\n",
              "</tr>\n",
              "<tr>\n",
              "  <th>data_ref[T.2015-05-01]</th>           <td>  177.6984</td> <td>  375.907</td> <td>    0.473</td> <td> 0.636</td> <td> -559.138</td> <td>  914.535</td>\n",
              "</tr>\n",
              "<tr>\n",
              "  <th>data_ref[T.2015-06-01]</th>           <td>  642.5355</td> <td>  377.474</td> <td>    1.702</td> <td> 0.089</td> <td>  -97.373</td> <td> 1382.444</td>\n",
              "</tr>\n",
              "<tr>\n",
              "  <th>data_ref[T.2015-07-01]</th>           <td>  368.1166</td> <td>  376.181</td> <td>    0.979</td> <td> 0.328</td> <td> -369.256</td> <td> 1105.490</td>\n",
              "</tr>\n",
              "<tr>\n",
              "  <th>data_ref[T.2015-08-01]</th>           <td>  210.0260</td> <td>  377.469</td> <td>    0.556</td> <td> 0.578</td> <td> -529.872</td> <td>  949.924</td>\n",
              "</tr>\n",
              "<tr>\n",
              "  <th>data_ref[T.2015-09-01]</th>           <td>  153.4899</td> <td>  374.937</td> <td>    0.409</td> <td> 0.682</td> <td> -581.446</td> <td>  888.425</td>\n",
              "</tr>\n",
              "<tr>\n",
              "  <th>data_ref[T.2015-10-01]</th>           <td>  270.5873</td> <td>  377.498</td> <td>    0.717</td> <td> 0.474</td> <td> -469.367</td> <td> 1010.542</td>\n",
              "</tr>\n",
              "<tr>\n",
              "  <th>data_ref[T.2015-11-01]</th>           <td>  445.9166</td> <td>  377.674</td> <td>    1.181</td> <td> 0.238</td> <td> -294.384</td> <td> 1186.217</td>\n",
              "</tr>\n",
              "<tr>\n",
              "  <th>data_ref[T.2015-12-01]</th>           <td>  621.5670</td> <td>  378.978</td> <td>    1.640</td> <td> 0.101</td> <td> -121.289</td> <td> 1364.423</td>\n",
              "</tr>\n",
              "<tr>\n",
              "  <th>data_ref[T.2016-01-01]</th>           <td>  302.8712</td> <td>  377.441</td> <td>    0.802</td> <td> 0.422</td> <td> -436.972</td> <td> 1042.715</td>\n",
              "</tr>\n",
              "<tr>\n",
              "  <th>data_ref[T.2016-02-01]</th>           <td>  -41.6680</td> <td>  377.355</td> <td>   -0.110</td> <td> 0.912</td> <td> -781.342</td> <td>  698.006</td>\n",
              "</tr>\n",
              "<tr>\n",
              "  <th>data_ref[T.2016-03-01]</th>           <td>   57.9217</td> <td>  380.707</td> <td>    0.152</td> <td> 0.879</td> <td> -688.323</td> <td>  804.166</td>\n",
              "</tr>\n",
              "<tr>\n",
              "  <th>sexo[T.M]</th>                        <td> 6054.7914</td> <td>  155.926</td> <td>   38.831</td> <td> 0.000</td> <td> 5749.152</td> <td> 6360.431</td>\n",
              "</tr>\n",
              "<tr>\n",
              "  <th>posse_de_veiculo[T.True]</th>         <td>   48.1619</td> <td>  150.456</td> <td>    0.320</td> <td> 0.749</td> <td> -246.755</td> <td>  343.079</td>\n",
              "</tr>\n",
              "<tr>\n",
              "  <th>posse_de_imovel[T.True]</th>          <td>  363.7476</td> <td>  148.821</td> <td>    2.444</td> <td> 0.015</td> <td>   72.035</td> <td>  655.460</td>\n",
              "</tr>\n",
              "<tr>\n",
              "  <th>tipo_renda[T.Bolsista]</th>           <td>-1285.7818</td> <td> 2566.067</td> <td>   -0.501</td> <td> 0.616</td> <td>-6315.672</td> <td> 3744.108</td>\n",
              "</tr>\n",
              "<tr>\n",
              "  <th>tipo_renda[T.Empresário]</th>         <td>  829.2786</td> <td>  158.912</td> <td>    5.218</td> <td> 0.000</td> <td>  517.786</td> <td> 1140.771</td>\n",
              "</tr>\n",
              "<tr>\n",
              "  <th>tipo_renda[T.Pensionista]</th>        <td>-2725.7882</td> <td> 2566.941</td> <td>   -1.062</td> <td> 0.288</td> <td>-7757.392</td> <td> 2305.816</td>\n",
              "</tr>\n",
              "<tr>\n",
              "  <th>tipo_renda[T.Servidor público]</th>   <td>  138.7937</td> <td>  236.527</td> <td>    0.587</td> <td> 0.557</td> <td> -324.836</td> <td>  602.424</td>\n",
              "</tr>\n",
              "<tr>\n",
              "  <th>educacao[T.Pós graduação]</th>        <td> 1017.3601</td> <td> 1691.601</td> <td>    0.601</td> <td> 0.548</td> <td>-2298.441</td> <td> 4333.161</td>\n",
              "</tr>\n",
              "<tr>\n",
              "  <th>educacao[T.Secundário]</th>           <td>  570.3332</td> <td>  766.157</td> <td>    0.744</td> <td> 0.457</td> <td> -931.455</td> <td> 2072.121</td>\n",
              "</tr>\n",
              "<tr>\n",
              "  <th>educacao[T.Superior completo]</th>    <td> 1185.7821</td> <td>  769.133</td> <td>    1.542</td> <td> 0.123</td> <td> -321.837</td> <td> 2693.402</td>\n",
              "</tr>\n",
              "<tr>\n",
              "  <th>educacao[T.Superior incompleto]</th>  <td>  166.9395</td> <td>  827.796</td> <td>    0.202</td> <td> 0.840</td> <td>-1455.669</td> <td> 1789.548</td>\n",
              "</tr>\n",
              "<tr>\n",
              "  <th>estado_civil[T.Separado]</th>         <td> 1164.5763</td> <td> 1183.767</td> <td>    0.984</td> <td> 0.325</td> <td>-1155.791</td> <td> 3484.944</td>\n",
              "</tr>\n",
              "<tr>\n",
              "  <th>estado_civil[T.Solteiro]</th>         <td>  825.4338</td> <td> 1158.890</td> <td>    0.712</td> <td> 0.476</td> <td>-1446.171</td> <td> 3097.039</td>\n",
              "</tr>\n",
              "<tr>\n",
              "  <th>estado_civil[T.União]</th>            <td> -474.2839</td> <td>  267.911</td> <td>   -1.770</td> <td> 0.077</td> <td> -999.430</td> <td>   50.862</td>\n",
              "</tr>\n",
              "<tr>\n",
              "  <th>estado_civil[T.Viúvo]</th>            <td> 1059.6596</td> <td> 1230.259</td> <td>    0.861</td> <td> 0.389</td> <td>-1351.840</td> <td> 3471.159</td>\n",
              "</tr>\n",
              "<tr>\n",
              "  <th>tipo_residencia[T.Casa]</th>          <td> -285.3807</td> <td>  576.277</td> <td>   -0.495</td> <td> 0.620</td> <td>-1414.973</td> <td>  844.211</td>\n",
              "</tr>\n",
              "<tr>\n",
              "  <th>tipo_residencia[T.Com os pais]</th>   <td> -369.1323</td> <td>  642.612</td> <td>   -0.574</td> <td> 0.566</td> <td>-1628.752</td> <td>  890.487</td>\n",
              "</tr>\n",
              "<tr>\n",
              "  <th>tipo_residencia[T.Comunitário]</th>   <td> -455.0603</td> <td> 1121.467</td> <td>   -0.406</td> <td> 0.685</td> <td>-2653.309</td> <td> 1743.189</td>\n",
              "</tr>\n",
              "<tr>\n",
              "  <th>tipo_residencia[T.Estúdio]</th>       <td>   65.7938</td> <td> 1056.366</td> <td>    0.062</td> <td> 0.950</td> <td>-2004.848</td> <td> 2136.436</td>\n",
              "</tr>\n",
              "<tr>\n",
              "  <th>tipo_residencia[T.Governamental]</th> <td>   86.1836</td> <td>  702.241</td> <td>    0.123</td> <td> 0.902</td> <td>-1290.318</td> <td> 1462.686</td>\n",
              "</tr>\n",
              "<tr>\n",
              "  <th>qtd_filhos</th>                       <td>-1121.7135</td> <td> 1148.666</td> <td>   -0.977</td> <td> 0.329</td> <td>-3373.278</td> <td> 1129.851</td>\n",
              "</tr>\n",
              "<tr>\n",
              "  <th>idade</th>                            <td>   42.1808</td> <td>    8.522</td> <td>    4.949</td> <td> 0.000</td> <td>   25.475</td> <td>   58.886</td>\n",
              "</tr>\n",
              "<tr>\n",
              "  <th>tempo_emprego</th>                    <td>  554.5884</td> <td>   11.049</td> <td>   50.192</td> <td> 0.000</td> <td>  532.930</td> <td>  576.247</td>\n",
              "</tr>\n",
              "<tr>\n",
              "  <th>qt_pessoas_residencia</th>            <td> 1269.9406</td> <td> 1146.608</td> <td>    1.108</td> <td> 0.268</td> <td> -977.590</td> <td> 3517.471</td>\n",
              "</tr>\n",
              "</table>\n",
              "<table class=\"simpletable\">\n",
              "<tr>\n",
              "  <th>Omnibus:</th>       <td>17561.957</td> <th>  Durbin-Watson:     </th>  <td>   2.036</td>  \n",
              "</tr>\n",
              "<tr>\n",
              "  <th>Prob(Omnibus):</th>  <td> 0.000</td>   <th>  Jarque-Bera (JB):  </th> <td>9856795.689</td>\n",
              "</tr>\n",
              "<tr>\n",
              "  <th>Skew:</th>           <td> 8.119</td>   <th>  Prob(JB):          </th>  <td>    0.00</td>  \n",
              "</tr>\n",
              "<tr>\n",
              "  <th>Kurtosis:</th>       <td>140.013</td>  <th>  Cond. No.          </th>  <td>2.18e+03</td>  \n",
              "</tr>\n",
              "</table><br/><br/>Notes:<br/>[1] Standard Errors assume that the covariance matrix of the errors is correctly specified.<br/>[2] The condition number is large, 2.18e+03. This might indicate that there are<br/>strong multicollinearity or other numerical problems."
            ]
          },
          "metadata": {},
          "execution_count": 48
        }
      ],
      "source": [
        "# criando matriz de design (e a matriz y) utilizando o Patsy, para um modelo em renda, explicado pelas demais variáveis\n",
        "\n",
        "y, X = patsy.dmatrices('renda ~ data_ref + sexo + posse_de_veiculo + posse_de_imovel + qtd_filhos + tipo_renda + educacao + estado_civil + tipo_residencia + idade + tempo_emprego + qt_pessoas_residencia', df)\n",
        "\n",
        "reg = sm.OLS(y,X).fit()\n",
        "\n",
        "reg.summary()"
      ]
    },
    {
      "cell_type": "markdown",
      "source": [
        "***2 - Remova a variável menos significante e analise***\n",
        "\n",
        "***3 - Siga removendo as variáveis menos significantes, sempre que o p-value for menor que 5%. Compare o modelo final com o inicial. Observe os indicadores e conclua se o modelo parece melhor***"
      ],
      "metadata": {
        "id": "Ou4K34cXRMtg"
      }
    },
    {
      "cell_type": "code",
      "source": [
        "# criando matriz de design (e a matriz y) utilizando o Patsy, para um modelo em renda, explicado pelas demais variáveis, exclusive aquelas não significantes\n",
        "\n",
        "y, X = patsy.dmatrices('renda ~ sexo + posse_de_imovel + idade + tempo_emprego', df)\n",
        "\n",
        "reg_2 = sm.OLS(y,X).fit()\n",
        "\n",
        "reg_2.summary()"
      ],
      "metadata": {
        "colab": {
          "base_uri": "https://localhost:8080/",
          "height": 516
        },
        "id": "ZqvYVp82L8uq",
        "outputId": "156cf46c-30aa-435e-bea6-5b4236e79a95"
      },
      "execution_count": 49,
      "outputs": [
        {
          "output_type": "execute_result",
          "data": {
            "text/plain": [
              "<class 'statsmodels.iolib.summary.Summary'>\n",
              "\"\"\"\n",
              "                            OLS Regression Results                            \n",
              "==============================================================================\n",
              "Dep. Variable:                  renda   R-squared:                       0.252\n",
              "Model:                            OLS   Adj. R-squared:                  0.252\n",
              "Method:                 Least Squares   F-statistic:                     1047.\n",
              "Date:                Sat, 24 Jun 2023   Prob (F-statistic):               0.00\n",
              "Time:                        21:33:52   Log-Likelihood:            -1.2882e+05\n",
              "No. Observations:               12427   AIC:                         2.577e+05\n",
              "Df Residuals:                   12422   BIC:                         2.577e+05\n",
              "Df Model:                           4                                         \n",
              "Covariance Type:            nonrobust                                         \n",
              "===========================================================================================\n",
              "                              coef    std err          t      P>|t|      [0.025      0.975]\n",
              "-------------------------------------------------------------------------------------------\n",
              "Intercept               -2121.6370    329.140     -6.446      0.000   -2766.803   -1476.471\n",
              "sexo[T.M]                6045.7894    145.591     41.526      0.000    5760.409    6331.169\n",
              "posse_de_imovel[T.True]   394.7377    145.657      2.710      0.007     109.228     680.247\n",
              "idade                      37.5533      7.838      4.791      0.000      22.189      52.918\n",
              "tempo_emprego             550.4590     10.903     50.485      0.000     529.087     571.831\n",
              "==============================================================================\n",
              "Omnibus:                    17506.453   Durbin-Watson:                   2.036\n",
              "Prob(Omnibus):                  0.000   Jarque-Bera (JB):          9670624.952\n",
              "Skew:                           8.073   Prob(JB):                         0.00\n",
              "Kurtosis:                     138.705   Cond. No.                         206.\n",
              "==============================================================================\n",
              "\n",
              "Notes:\n",
              "[1] Standard Errors assume that the covariance matrix of the errors is correctly specified.\n",
              "\"\"\""
            ],
            "text/html": [
              "<table class=\"simpletable\">\n",
              "<caption>OLS Regression Results</caption>\n",
              "<tr>\n",
              "  <th>Dep. Variable:</th>          <td>renda</td>      <th>  R-squared:         </th>  <td>   0.252</td>  \n",
              "</tr>\n",
              "<tr>\n",
              "  <th>Model:</th>                   <td>OLS</td>       <th>  Adj. R-squared:    </th>  <td>   0.252</td>  \n",
              "</tr>\n",
              "<tr>\n",
              "  <th>Method:</th>             <td>Least Squares</td>  <th>  F-statistic:       </th>  <td>   1047.</td>  \n",
              "</tr>\n",
              "<tr>\n",
              "  <th>Date:</th>             <td>Sat, 24 Jun 2023</td> <th>  Prob (F-statistic):</th>   <td>  0.00</td>   \n",
              "</tr>\n",
              "<tr>\n",
              "  <th>Time:</th>                 <td>21:33:52</td>     <th>  Log-Likelihood:    </th> <td>-1.2882e+05</td>\n",
              "</tr>\n",
              "<tr>\n",
              "  <th>No. Observations:</th>      <td> 12427</td>      <th>  AIC:               </th>  <td>2.577e+05</td> \n",
              "</tr>\n",
              "<tr>\n",
              "  <th>Df Residuals:</th>          <td> 12422</td>      <th>  BIC:               </th>  <td>2.577e+05</td> \n",
              "</tr>\n",
              "<tr>\n",
              "  <th>Df Model:</th>              <td>     4</td>      <th>                     </th>      <td> </td>     \n",
              "</tr>\n",
              "<tr>\n",
              "  <th>Covariance Type:</th>      <td>nonrobust</td>    <th>                     </th>      <td> </td>     \n",
              "</tr>\n",
              "</table>\n",
              "<table class=\"simpletable\">\n",
              "<tr>\n",
              "             <td></td>                <th>coef</th>     <th>std err</th>      <th>t</th>      <th>P>|t|</th>  <th>[0.025</th>    <th>0.975]</th>  \n",
              "</tr>\n",
              "<tr>\n",
              "  <th>Intercept</th>               <td>-2121.6370</td> <td>  329.140</td> <td>   -6.446</td> <td> 0.000</td> <td>-2766.803</td> <td>-1476.471</td>\n",
              "</tr>\n",
              "<tr>\n",
              "  <th>sexo[T.M]</th>               <td> 6045.7894</td> <td>  145.591</td> <td>   41.526</td> <td> 0.000</td> <td> 5760.409</td> <td> 6331.169</td>\n",
              "</tr>\n",
              "<tr>\n",
              "  <th>posse_de_imovel[T.True]</th> <td>  394.7377</td> <td>  145.657</td> <td>    2.710</td> <td> 0.007</td> <td>  109.228</td> <td>  680.247</td>\n",
              "</tr>\n",
              "<tr>\n",
              "  <th>idade</th>                   <td>   37.5533</td> <td>    7.838</td> <td>    4.791</td> <td> 0.000</td> <td>   22.189</td> <td>   52.918</td>\n",
              "</tr>\n",
              "<tr>\n",
              "  <th>tempo_emprego</th>           <td>  550.4590</td> <td>   10.903</td> <td>   50.485</td> <td> 0.000</td> <td>  529.087</td> <td>  571.831</td>\n",
              "</tr>\n",
              "</table>\n",
              "<table class=\"simpletable\">\n",
              "<tr>\n",
              "  <th>Omnibus:</th>       <td>17506.453</td> <th>  Durbin-Watson:     </th>  <td>   2.036</td>  \n",
              "</tr>\n",
              "<tr>\n",
              "  <th>Prob(Omnibus):</th>  <td> 0.000</td>   <th>  Jarque-Bera (JB):  </th> <td>9670624.952</td>\n",
              "</tr>\n",
              "<tr>\n",
              "  <th>Skew:</th>           <td> 8.073</td>   <th>  Prob(JB):          </th>  <td>    0.00</td>  \n",
              "</tr>\n",
              "<tr>\n",
              "  <th>Kurtosis:</th>       <td>138.705</td>  <th>  Cond. No.          </th>  <td>    206.</td>  \n",
              "</tr>\n",
              "</table><br/><br/>Notes:<br/>[1] Standard Errors assume that the covariance matrix of the errors is correctly specified."
            ]
          },
          "metadata": {},
          "execution_count": 49
        }
      ]
    },
    {
      "cell_type": "markdown",
      "source": [
        "**Conclusão**: *O segundo modelo parece melhor. Além de ser muito menos complexo, apresenta um coefieciente de determinação R² (0.252) muito próximo ao apresentado pelo primeiro modelo (0.257)*"
      ],
      "metadata": {
        "id": "kxXDFPA4RlTR"
      }
    }
  ],
  "metadata": {
    "kernelspec": {
      "display_name": "Python 3",
      "language": "python",
      "name": "python3"
    },
    "language_info": {
      "codemirror_mode": {
        "name": "ipython",
        "version": 3
      },
      "file_extension": ".py",
      "mimetype": "text/x-python",
      "name": "python",
      "nbconvert_exporter": "python",
      "pygments_lexer": "ipython3",
      "version": "3.8.5"
    },
    "colab": {
      "provenance": []
    }
  },
  "nbformat": 4,
  "nbformat_minor": 0
}