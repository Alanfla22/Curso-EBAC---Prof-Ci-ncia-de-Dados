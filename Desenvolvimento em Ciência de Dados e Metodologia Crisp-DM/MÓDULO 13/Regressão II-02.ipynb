{
  "cells": [
    {
      "cell_type": "markdown",
      "metadata": {
        "id": "4zPcsZq13YVn"
      },
      "source": [
        "# EBAC - Regressão II - regressão múltipla\n",
        "\n",
        "## Tarefa I"
      ]
    },
    {
      "cell_type": "markdown",
      "metadata": {
        "id": "UR0mHVKJ3YWB"
      },
      "source": [
        "#### Previsão de renda II\n",
        "\n",
        "Vamos continuar trabalhando com a base 'previsao_de_renda.csv', que é a base do seu próximo projeto. Vamos usar os recursos que vimos até aqui nesta base.\n",
        "\n",
        "|variavel|descrição|\n",
        "|-|-|\n",
        "|data_ref                | Data de referência de coleta das variáveis |\n",
        "|index                   | Código de identificação do cliente|\n",
        "|sexo                    | Sexo do cliente|\n",
        "|posse_de_veiculo        | Indica se o cliente possui veículo|\n",
        "|posse_de_imovel         | Indica se o cliente possui imóvel|\n",
        "|qtd_filhos              | Quantidade de filhos do cliente|\n",
        "|tipo_renda              | Tipo de renda do cliente|\n",
        "|educacao                | Grau de instrução do cliente|\n",
        "|estado_civil            | Estado civil do cliente|\n",
        "|tipo_residencia         | Tipo de residência do cliente (própria, alugada etc)|\n",
        "|idade                   | Idade do cliente|\n",
        "|tempo_emprego           | Tempo no emprego atual|\n",
        "|qt_pessoas_residencia   | Quantidade de pessoas que moram na residência|\n",
        "|renda                   | Renda em reais|"
      ]
    },
    {
      "cell_type": "code",
      "execution_count": 222,
      "metadata": {
        "id": "xFn798uD3YWG"
      },
      "outputs": [],
      "source": [
        "import pandas as pd\n",
        "import numpy as np\n",
        "import seaborn as sns\n",
        "import matplotlib.pyplot as plt\n",
        "from sklearn.model_selection import train_test_split\n",
        "from sklearn.metrics import r2_score\n",
        "\n",
        "import patsy\n",
        "import statsmodels.api as sm\n",
        "import statsmodels.formula.api as smf"
      ]
    },
    {
      "cell_type": "code",
      "source": [
        "from google.colab import drive\n",
        "drive.mount('/content/drive')"
      ],
      "metadata": {
        "colab": {
          "base_uri": "https://localhost:8080/"
        },
        "id": "n3KAkn37V0Oe",
        "outputId": "909af1cb-e746-4f8c-e6ee-edce1a2d8473"
      },
      "execution_count": 223,
      "outputs": [
        {
          "output_type": "stream",
          "name": "stdout",
          "text": [
            "Drive already mounted at /content/drive; to attempt to forcibly remount, call drive.mount(\"/content/drive\", force_remount=True).\n"
          ]
        }
      ]
    },
    {
      "cell_type": "code",
      "execution_count": 224,
      "metadata": {
        "id": "EKiU41d63YWO",
        "colab": {
          "base_uri": "https://localhost:8080/",
          "height": 206
        },
        "outputId": "3e087a30-cfd4-429c-c5e9-ba748ee62b66"
      },
      "outputs": [
        {
          "output_type": "execute_result",
          "data": {
            "text/plain": [
              "   Unnamed: 0    data_ref  id_cliente sexo  posse_de_veiculo  posse_de_imovel  \\\n",
              "0           0  2015-01-01       15056    F             False             True   \n",
              "1           1  2015-01-01        9968    M              True             True   \n",
              "2           2  2015-01-01        4312    F              True             True   \n",
              "3           3  2015-01-01       10639    F             False             True   \n",
              "4           4  2015-01-01        7064    M              True            False   \n",
              "\n",
              "   qtd_filhos        tipo_renda           educacao estado_civil  \\\n",
              "0           0        Empresário         Secundário     Solteiro   \n",
              "1           0       Assalariado  Superior completo       Casado   \n",
              "2           0        Empresário  Superior completo       Casado   \n",
              "3           1  Servidor público  Superior completo       Casado   \n",
              "4           0       Assalariado         Secundário     Solteiro   \n",
              "\n",
              "  tipo_residencia  idade  tempo_emprego  qt_pessoas_residencia    renda  \n",
              "0            Casa     26       6.602740                    1.0  8060.34  \n",
              "1            Casa     28       7.183562                    2.0  1852.15  \n",
              "2            Casa     35       0.838356                    2.0  2253.89  \n",
              "3            Casa     30       4.846575                    3.0  6600.77  \n",
              "4   Governamental     33       4.293151                    1.0  6475.97  "
            ],
            "text/html": [
              "\n",
              "  <div id=\"df-2e614be8-716e-449c-bf60-76a3d48dc4ad\">\n",
              "    <div class=\"colab-df-container\">\n",
              "      <div>\n",
              "<style scoped>\n",
              "    .dataframe tbody tr th:only-of-type {\n",
              "        vertical-align: middle;\n",
              "    }\n",
              "\n",
              "    .dataframe tbody tr th {\n",
              "        vertical-align: top;\n",
              "    }\n",
              "\n",
              "    .dataframe thead th {\n",
              "        text-align: right;\n",
              "    }\n",
              "</style>\n",
              "<table border=\"1\" class=\"dataframe\">\n",
              "  <thead>\n",
              "    <tr style=\"text-align: right;\">\n",
              "      <th></th>\n",
              "      <th>Unnamed: 0</th>\n",
              "      <th>data_ref</th>\n",
              "      <th>id_cliente</th>\n",
              "      <th>sexo</th>\n",
              "      <th>posse_de_veiculo</th>\n",
              "      <th>posse_de_imovel</th>\n",
              "      <th>qtd_filhos</th>\n",
              "      <th>tipo_renda</th>\n",
              "      <th>educacao</th>\n",
              "      <th>estado_civil</th>\n",
              "      <th>tipo_residencia</th>\n",
              "      <th>idade</th>\n",
              "      <th>tempo_emprego</th>\n",
              "      <th>qt_pessoas_residencia</th>\n",
              "      <th>renda</th>\n",
              "    </tr>\n",
              "  </thead>\n",
              "  <tbody>\n",
              "    <tr>\n",
              "      <th>0</th>\n",
              "      <td>0</td>\n",
              "      <td>2015-01-01</td>\n",
              "      <td>15056</td>\n",
              "      <td>F</td>\n",
              "      <td>False</td>\n",
              "      <td>True</td>\n",
              "      <td>0</td>\n",
              "      <td>Empresário</td>\n",
              "      <td>Secundário</td>\n",
              "      <td>Solteiro</td>\n",
              "      <td>Casa</td>\n",
              "      <td>26</td>\n",
              "      <td>6.602740</td>\n",
              "      <td>1.0</td>\n",
              "      <td>8060.34</td>\n",
              "    </tr>\n",
              "    <tr>\n",
              "      <th>1</th>\n",
              "      <td>1</td>\n",
              "      <td>2015-01-01</td>\n",
              "      <td>9968</td>\n",
              "      <td>M</td>\n",
              "      <td>True</td>\n",
              "      <td>True</td>\n",
              "      <td>0</td>\n",
              "      <td>Assalariado</td>\n",
              "      <td>Superior completo</td>\n",
              "      <td>Casado</td>\n",
              "      <td>Casa</td>\n",
              "      <td>28</td>\n",
              "      <td>7.183562</td>\n",
              "      <td>2.0</td>\n",
              "      <td>1852.15</td>\n",
              "    </tr>\n",
              "    <tr>\n",
              "      <th>2</th>\n",
              "      <td>2</td>\n",
              "      <td>2015-01-01</td>\n",
              "      <td>4312</td>\n",
              "      <td>F</td>\n",
              "      <td>True</td>\n",
              "      <td>True</td>\n",
              "      <td>0</td>\n",
              "      <td>Empresário</td>\n",
              "      <td>Superior completo</td>\n",
              "      <td>Casado</td>\n",
              "      <td>Casa</td>\n",
              "      <td>35</td>\n",
              "      <td>0.838356</td>\n",
              "      <td>2.0</td>\n",
              "      <td>2253.89</td>\n",
              "    </tr>\n",
              "    <tr>\n",
              "      <th>3</th>\n",
              "      <td>3</td>\n",
              "      <td>2015-01-01</td>\n",
              "      <td>10639</td>\n",
              "      <td>F</td>\n",
              "      <td>False</td>\n",
              "      <td>True</td>\n",
              "      <td>1</td>\n",
              "      <td>Servidor público</td>\n",
              "      <td>Superior completo</td>\n",
              "      <td>Casado</td>\n",
              "      <td>Casa</td>\n",
              "      <td>30</td>\n",
              "      <td>4.846575</td>\n",
              "      <td>3.0</td>\n",
              "      <td>6600.77</td>\n",
              "    </tr>\n",
              "    <tr>\n",
              "      <th>4</th>\n",
              "      <td>4</td>\n",
              "      <td>2015-01-01</td>\n",
              "      <td>7064</td>\n",
              "      <td>M</td>\n",
              "      <td>True</td>\n",
              "      <td>False</td>\n",
              "      <td>0</td>\n",
              "      <td>Assalariado</td>\n",
              "      <td>Secundário</td>\n",
              "      <td>Solteiro</td>\n",
              "      <td>Governamental</td>\n",
              "      <td>33</td>\n",
              "      <td>4.293151</td>\n",
              "      <td>1.0</td>\n",
              "      <td>6475.97</td>\n",
              "    </tr>\n",
              "  </tbody>\n",
              "</table>\n",
              "</div>\n",
              "      <button class=\"colab-df-convert\" onclick=\"convertToInteractive('df-2e614be8-716e-449c-bf60-76a3d48dc4ad')\"\n",
              "              title=\"Convert this dataframe to an interactive table.\"\n",
              "              style=\"display:none;\">\n",
              "        \n",
              "  <svg xmlns=\"http://www.w3.org/2000/svg\" height=\"24px\"viewBox=\"0 0 24 24\"\n",
              "       width=\"24px\">\n",
              "    <path d=\"M0 0h24v24H0V0z\" fill=\"none\"/>\n",
              "    <path d=\"M18.56 5.44l.94 2.06.94-2.06 2.06-.94-2.06-.94-.94-2.06-.94 2.06-2.06.94zm-11 1L8.5 8.5l.94-2.06 2.06-.94-2.06-.94L8.5 2.5l-.94 2.06-2.06.94zm10 10l.94 2.06.94-2.06 2.06-.94-2.06-.94-.94-2.06-.94 2.06-2.06.94z\"/><path d=\"M17.41 7.96l-1.37-1.37c-.4-.4-.92-.59-1.43-.59-.52 0-1.04.2-1.43.59L10.3 9.45l-7.72 7.72c-.78.78-.78 2.05 0 2.83L4 21.41c.39.39.9.59 1.41.59.51 0 1.02-.2 1.41-.59l7.78-7.78 2.81-2.81c.8-.78.8-2.07 0-2.86zM5.41 20L4 18.59l7.72-7.72 1.47 1.35L5.41 20z\"/>\n",
              "  </svg>\n",
              "      </button>\n",
              "      \n",
              "  <style>\n",
              "    .colab-df-container {\n",
              "      display:flex;\n",
              "      flex-wrap:wrap;\n",
              "      gap: 12px;\n",
              "    }\n",
              "\n",
              "    .colab-df-convert {\n",
              "      background-color: #E8F0FE;\n",
              "      border: none;\n",
              "      border-radius: 50%;\n",
              "      cursor: pointer;\n",
              "      display: none;\n",
              "      fill: #1967D2;\n",
              "      height: 32px;\n",
              "      padding: 0 0 0 0;\n",
              "      width: 32px;\n",
              "    }\n",
              "\n",
              "    .colab-df-convert:hover {\n",
              "      background-color: #E2EBFA;\n",
              "      box-shadow: 0px 1px 2px rgba(60, 64, 67, 0.3), 0px 1px 3px 1px rgba(60, 64, 67, 0.15);\n",
              "      fill: #174EA6;\n",
              "    }\n",
              "\n",
              "    [theme=dark] .colab-df-convert {\n",
              "      background-color: #3B4455;\n",
              "      fill: #D2E3FC;\n",
              "    }\n",
              "\n",
              "    [theme=dark] .colab-df-convert:hover {\n",
              "      background-color: #434B5C;\n",
              "      box-shadow: 0px 1px 3px 1px rgba(0, 0, 0, 0.15);\n",
              "      filter: drop-shadow(0px 1px 2px rgba(0, 0, 0, 0.3));\n",
              "      fill: #FFFFFF;\n",
              "    }\n",
              "  </style>\n",
              "\n",
              "      <script>\n",
              "        const buttonEl =\n",
              "          document.querySelector('#df-2e614be8-716e-449c-bf60-76a3d48dc4ad button.colab-df-convert');\n",
              "        buttonEl.style.display =\n",
              "          google.colab.kernel.accessAllowed ? 'block' : 'none';\n",
              "\n",
              "        async function convertToInteractive(key) {\n",
              "          const element = document.querySelector('#df-2e614be8-716e-449c-bf60-76a3d48dc4ad');\n",
              "          const dataTable =\n",
              "            await google.colab.kernel.invokeFunction('convertToInteractive',\n",
              "                                                     [key], {});\n",
              "          if (!dataTable) return;\n",
              "\n",
              "          const docLinkHtml = 'Like what you see? Visit the ' +\n",
              "            '<a target=\"_blank\" href=https://colab.research.google.com/notebooks/data_table.ipynb>data table notebook</a>'\n",
              "            + ' to learn more about interactive tables.';\n",
              "          element.innerHTML = '';\n",
              "          dataTable['output_type'] = 'display_data';\n",
              "          await google.colab.output.renderOutput(dataTable, element);\n",
              "          const docLink = document.createElement('div');\n",
              "          docLink.innerHTML = docLinkHtml;\n",
              "          element.appendChild(docLink);\n",
              "        }\n",
              "      </script>\n",
              "    </div>\n",
              "  </div>\n",
              "  "
            ]
          },
          "metadata": {},
          "execution_count": 224
        }
      ],
      "source": [
        "df = pd.read_csv('/content/drive/MyDrive/previsao_de_renda.csv')\n",
        "\n",
        "df.head()"
      ]
    },
    {
      "cell_type": "code",
      "execution_count": 225,
      "metadata": {
        "id": "qpj9ooLU3YWQ",
        "outputId": "4cfd04eb-42a9-4a22-de6b-bd7790905b26",
        "colab": {
          "base_uri": "https://localhost:8080/"
        }
      },
      "outputs": [
        {
          "output_type": "stream",
          "name": "stdout",
          "text": [
            "<class 'pandas.core.frame.DataFrame'>\n",
            "RangeIndex: 15000 entries, 0 to 14999\n",
            "Data columns (total 15 columns):\n",
            " #   Column                 Non-Null Count  Dtype  \n",
            "---  ------                 --------------  -----  \n",
            " 0   Unnamed: 0             15000 non-null  int64  \n",
            " 1   data_ref               15000 non-null  object \n",
            " 2   id_cliente             15000 non-null  int64  \n",
            " 3   sexo                   15000 non-null  object \n",
            " 4   posse_de_veiculo       15000 non-null  bool   \n",
            " 5   posse_de_imovel        15000 non-null  bool   \n",
            " 6   qtd_filhos             15000 non-null  int64  \n",
            " 7   tipo_renda             15000 non-null  object \n",
            " 8   educacao               15000 non-null  object \n",
            " 9   estado_civil           15000 non-null  object \n",
            " 10  tipo_residencia        15000 non-null  object \n",
            " 11  idade                  15000 non-null  int64  \n",
            " 12  tempo_emprego          12427 non-null  float64\n",
            " 13  qt_pessoas_residencia  15000 non-null  float64\n",
            " 14  renda                  15000 non-null  float64\n",
            "dtypes: bool(2), float64(3), int64(4), object(6)\n",
            "memory usage: 1.5+ MB\n"
          ]
        }
      ],
      "source": [
        "df.info()"
      ]
    },
    {
      "cell_type": "code",
      "source": [
        "# Eliminando linhas com missing values\n",
        "\n",
        "df.dropna(axis=0, inplace=True)\n",
        "\n",
        "df.info()"
      ],
      "metadata": {
        "id": "js1qmkCv_eXz",
        "colab": {
          "base_uri": "https://localhost:8080/"
        },
        "outputId": "2881cea3-b172-4478-f602-06cebc3b3ddc"
      },
      "execution_count": 226,
      "outputs": [
        {
          "output_type": "stream",
          "name": "stdout",
          "text": [
            "<class 'pandas.core.frame.DataFrame'>\n",
            "Int64Index: 12427 entries, 0 to 14999\n",
            "Data columns (total 15 columns):\n",
            " #   Column                 Non-Null Count  Dtype  \n",
            "---  ------                 --------------  -----  \n",
            " 0   Unnamed: 0             12427 non-null  int64  \n",
            " 1   data_ref               12427 non-null  object \n",
            " 2   id_cliente             12427 non-null  int64  \n",
            " 3   sexo                   12427 non-null  object \n",
            " 4   posse_de_veiculo       12427 non-null  bool   \n",
            " 5   posse_de_imovel        12427 non-null  bool   \n",
            " 6   qtd_filhos             12427 non-null  int64  \n",
            " 7   tipo_renda             12427 non-null  object \n",
            " 8   educacao               12427 non-null  object \n",
            " 9   estado_civil           12427 non-null  object \n",
            " 10  tipo_residencia        12427 non-null  object \n",
            " 11  idade                  12427 non-null  int64  \n",
            " 12  tempo_emprego          12427 non-null  float64\n",
            " 13  qt_pessoas_residencia  12427 non-null  float64\n",
            " 14  renda                  12427 non-null  float64\n",
            "dtypes: bool(2), float64(3), int64(4), object(6)\n",
            "memory usage: 1.4+ MB\n"
          ]
        }
      ]
    },
    {
      "cell_type": "markdown",
      "metadata": {
        "id": "MND1sYjB3YWX"
      },
      "source": [
        "1. Separe a base em treinamento e teste (25% para teste, 75% para treinamento).\n",
        "2. Rode uma regularização *ridge* com alpha = [0, 0.001, 0.005, 0.01, 0.05, 0.1] e avalie o $R^2$ na base de testes. Qual o melhor modelo?\n",
        "3. Faça o mesmo que no passo 2, com uma regressão *LASSO*. Qual método chega a um melhor resultado?\n",
        "4. Rode um modelo *stepwise*. Avalie o $R^2$ na vase de testes. Qual o melhor resultado?\n",
        "5. Compare os parâmetros e avalie eventuais diferenças. Qual modelo você acha o melhor de todos?\n",
        "6. Partindo dos modelos que você ajustou, tente melhorar o $R^2$ na base de testes. Use a criatividade, veja se consegue inserir alguma transformação ou combinação de variáveis.\n",
        "7. Ajuste uma árvore de regressão e veja se consegue um $R^2$ melhor com ela."
      ]
    },
    {
      "cell_type": "markdown",
      "source": [
        "***1 - Separe a base em treinamento e teste (25% para teste, 75% para treinamento).***"
      ],
      "metadata": {
        "id": "mqRzcglZGFZR"
      }
    },
    {
      "cell_type": "code",
      "execution_count": 227,
      "metadata": {
        "id": "ZArCheNY3YWa"
      },
      "outputs": [],
      "source": [
        "# Separando 75% da base treinamento e 25% para teste\n",
        "\n",
        "treino, teste = train_test_split(df, train_size=0.75, random_state=2360873)"
      ]
    },
    {
      "cell_type": "markdown",
      "source": [
        "***2 - Rode uma regularização ridge com alpha = [0, 0.001, 0.005, 0.01, 0.05, 0.1] e avalie o  R2  na base de testes. Qual o melhor modelo?***"
      ],
      "metadata": {
        "id": "mUk97wblB7Y1"
      }
    },
    {
      "cell_type": "code",
      "source": [
        "# Criando modelo de regressão linear múltipla na base treino\n",
        "\n",
        "modelo = 'renda ~ sexo + posse_de_veiculo + posse_de_imovel + qtd_filhos + tipo_renda + educacao + estado_civil + tipo_residencia + idade + tempo_emprego + qt_pessoas_residencia'\n",
        "\n",
        "md = smf.ols(modelo, data=treino)"
      ],
      "metadata": {
        "id": "2F-quUgl-ghF"
      },
      "execution_count": 228,
      "outputs": []
    },
    {
      "cell_type": "code",
      "source": [
        "# Rodando modelo com regularização \"ridge\" com alpha 0, 0.001, 0.005, 0.01, 0.05 e 0.1\n",
        "\n",
        "lista_alpha = [0, 0.001, 0.005, 0.01, 0.05, 0.1]\n",
        "\n",
        "score_ridge = []\n",
        "\n",
        "for i in lista_alpha:\n",
        "\n",
        "  reg = md.fit_regularized(method='elastic_net',\n",
        "                         refit=True,\n",
        "                         L1_wt=0,\n",
        "                         alpha=i)\n",
        "\n",
        "  score = r2_score(teste['renda'], reg.predict(teste))\n",
        "\n",
        "  score_ridge.append(score)\n",
        "\n",
        "dados = pd.DataFrame(score_ridge, columns=['ridge'], index=lista_alpha)\n",
        "\n",
        "dados"
      ],
      "metadata": {
        "colab": {
          "base_uri": "https://localhost:8080/",
          "height": 238
        },
        "id": "GUppXmphFCjG",
        "outputId": "0e817bd2-cd8a-4923-f58a-a94ae1f4b5b5"
      },
      "execution_count": 229,
      "outputs": [
        {
          "output_type": "execute_result",
          "data": {
            "text/plain": [
              "          ridge\n",
              "0.000  0.270372\n",
              "0.001  0.271345\n",
              "0.005  0.272047\n",
              "0.010  0.272526\n",
              "0.050  0.271563\n",
              "0.100  0.266168"
            ],
            "text/html": [
              "\n",
              "  <div id=\"df-c0149839-ccd9-4eae-8db9-90e77e338570\">\n",
              "    <div class=\"colab-df-container\">\n",
              "      <div>\n",
              "<style scoped>\n",
              "    .dataframe tbody tr th:only-of-type {\n",
              "        vertical-align: middle;\n",
              "    }\n",
              "\n",
              "    .dataframe tbody tr th {\n",
              "        vertical-align: top;\n",
              "    }\n",
              "\n",
              "    .dataframe thead th {\n",
              "        text-align: right;\n",
              "    }\n",
              "</style>\n",
              "<table border=\"1\" class=\"dataframe\">\n",
              "  <thead>\n",
              "    <tr style=\"text-align: right;\">\n",
              "      <th></th>\n",
              "      <th>ridge</th>\n",
              "    </tr>\n",
              "  </thead>\n",
              "  <tbody>\n",
              "    <tr>\n",
              "      <th>0.000</th>\n",
              "      <td>0.270372</td>\n",
              "    </tr>\n",
              "    <tr>\n",
              "      <th>0.001</th>\n",
              "      <td>0.271345</td>\n",
              "    </tr>\n",
              "    <tr>\n",
              "      <th>0.005</th>\n",
              "      <td>0.272047</td>\n",
              "    </tr>\n",
              "    <tr>\n",
              "      <th>0.010</th>\n",
              "      <td>0.272526</td>\n",
              "    </tr>\n",
              "    <tr>\n",
              "      <th>0.050</th>\n",
              "      <td>0.271563</td>\n",
              "    </tr>\n",
              "    <tr>\n",
              "      <th>0.100</th>\n",
              "      <td>0.266168</td>\n",
              "    </tr>\n",
              "  </tbody>\n",
              "</table>\n",
              "</div>\n",
              "      <button class=\"colab-df-convert\" onclick=\"convertToInteractive('df-c0149839-ccd9-4eae-8db9-90e77e338570')\"\n",
              "              title=\"Convert this dataframe to an interactive table.\"\n",
              "              style=\"display:none;\">\n",
              "        \n",
              "  <svg xmlns=\"http://www.w3.org/2000/svg\" height=\"24px\"viewBox=\"0 0 24 24\"\n",
              "       width=\"24px\">\n",
              "    <path d=\"M0 0h24v24H0V0z\" fill=\"none\"/>\n",
              "    <path d=\"M18.56 5.44l.94 2.06.94-2.06 2.06-.94-2.06-.94-.94-2.06-.94 2.06-2.06.94zm-11 1L8.5 8.5l.94-2.06 2.06-.94-2.06-.94L8.5 2.5l-.94 2.06-2.06.94zm10 10l.94 2.06.94-2.06 2.06-.94-2.06-.94-.94-2.06-.94 2.06-2.06.94z\"/><path d=\"M17.41 7.96l-1.37-1.37c-.4-.4-.92-.59-1.43-.59-.52 0-1.04.2-1.43.59L10.3 9.45l-7.72 7.72c-.78.78-.78 2.05 0 2.83L4 21.41c.39.39.9.59 1.41.59.51 0 1.02-.2 1.41-.59l7.78-7.78 2.81-2.81c.8-.78.8-2.07 0-2.86zM5.41 20L4 18.59l7.72-7.72 1.47 1.35L5.41 20z\"/>\n",
              "  </svg>\n",
              "      </button>\n",
              "      \n",
              "  <style>\n",
              "    .colab-df-container {\n",
              "      display:flex;\n",
              "      flex-wrap:wrap;\n",
              "      gap: 12px;\n",
              "    }\n",
              "\n",
              "    .colab-df-convert {\n",
              "      background-color: #E8F0FE;\n",
              "      border: none;\n",
              "      border-radius: 50%;\n",
              "      cursor: pointer;\n",
              "      display: none;\n",
              "      fill: #1967D2;\n",
              "      height: 32px;\n",
              "      padding: 0 0 0 0;\n",
              "      width: 32px;\n",
              "    }\n",
              "\n",
              "    .colab-df-convert:hover {\n",
              "      background-color: #E2EBFA;\n",
              "      box-shadow: 0px 1px 2px rgba(60, 64, 67, 0.3), 0px 1px 3px 1px rgba(60, 64, 67, 0.15);\n",
              "      fill: #174EA6;\n",
              "    }\n",
              "\n",
              "    [theme=dark] .colab-df-convert {\n",
              "      background-color: #3B4455;\n",
              "      fill: #D2E3FC;\n",
              "    }\n",
              "\n",
              "    [theme=dark] .colab-df-convert:hover {\n",
              "      background-color: #434B5C;\n",
              "      box-shadow: 0px 1px 3px 1px rgba(0, 0, 0, 0.15);\n",
              "      filter: drop-shadow(0px 1px 2px rgba(0, 0, 0, 0.3));\n",
              "      fill: #FFFFFF;\n",
              "    }\n",
              "  </style>\n",
              "\n",
              "      <script>\n",
              "        const buttonEl =\n",
              "          document.querySelector('#df-c0149839-ccd9-4eae-8db9-90e77e338570 button.colab-df-convert');\n",
              "        buttonEl.style.display =\n",
              "          google.colab.kernel.accessAllowed ? 'block' : 'none';\n",
              "\n",
              "        async function convertToInteractive(key) {\n",
              "          const element = document.querySelector('#df-c0149839-ccd9-4eae-8db9-90e77e338570');\n",
              "          const dataTable =\n",
              "            await google.colab.kernel.invokeFunction('convertToInteractive',\n",
              "                                                     [key], {});\n",
              "          if (!dataTable) return;\n",
              "\n",
              "          const docLinkHtml = 'Like what you see? Visit the ' +\n",
              "            '<a target=\"_blank\" href=https://colab.research.google.com/notebooks/data_table.ipynb>data table notebook</a>'\n",
              "            + ' to learn more about interactive tables.';\n",
              "          element.innerHTML = '';\n",
              "          dataTable['output_type'] = 'display_data';\n",
              "          await google.colab.output.renderOutput(dataTable, element);\n",
              "          const docLink = document.createElement('div');\n",
              "          docLink.innerHTML = docLinkHtml;\n",
              "          element.appendChild(docLink);\n",
              "        }\n",
              "      </script>\n",
              "    </div>\n",
              "  </div>\n",
              "  "
            ]
          },
          "metadata": {},
          "execution_count": 229
        }
      ]
    },
    {
      "cell_type": "markdown",
      "source": [
        "*O modelo com alpha 0.01 chega ao melhor resultado*"
      ],
      "metadata": {
        "id": "hbh_EkuVINXu"
      }
    },
    {
      "cell_type": "markdown",
      "source": [
        "***3 - Faça o mesmo que no passo 2, com uma regressão LASSO. Qual método chega a um melhor resultado?***"
      ],
      "metadata": {
        "id": "JjuwqVajEJmH"
      }
    },
    {
      "cell_type": "code",
      "source": [
        "# Rodando modelo com regularização \"lasso\" com alpha 0, 0.001, 0.005, 0.01, 0.05 e 0.1\n",
        "\n",
        "score_lasso = []\n",
        "\n",
        "for i in lista_alpha:\n",
        "\n",
        "  reg = md.fit_regularized(method='elastic_net',\n",
        "                         refit=True,\n",
        "                         L1_wt=1,\n",
        "                         alpha=i)\n",
        "\n",
        "  score = r2_score(teste['renda'], reg.predict(teste))\n",
        "\n",
        "  score_lasso.append(score)\n",
        "\n",
        "dados['lasso'] = score_lasso\n",
        "\n",
        "dados"
      ],
      "metadata": {
        "colab": {
          "base_uri": "https://localhost:8080/",
          "height": 238
        },
        "id": "2vzXM17kIYN9",
        "outputId": "9ec1787b-e44e-4227-eabd-ff2ecdf66116"
      },
      "execution_count": 230,
      "outputs": [
        {
          "output_type": "execute_result",
          "data": {
            "text/plain": [
              "          ridge     lasso\n",
              "0.000  0.270372  0.270372\n",
              "0.001  0.271345  0.270372\n",
              "0.005  0.272047  0.270356\n",
              "0.010  0.272526  0.270372\n",
              "0.050  0.271563  0.270372\n",
              "0.100  0.266168  0.270356"
            ],
            "text/html": [
              "\n",
              "  <div id=\"df-236a5d38-432f-45fd-972e-14a5759dcda7\">\n",
              "    <div class=\"colab-df-container\">\n",
              "      <div>\n",
              "<style scoped>\n",
              "    .dataframe tbody tr th:only-of-type {\n",
              "        vertical-align: middle;\n",
              "    }\n",
              "\n",
              "    .dataframe tbody tr th {\n",
              "        vertical-align: top;\n",
              "    }\n",
              "\n",
              "    .dataframe thead th {\n",
              "        text-align: right;\n",
              "    }\n",
              "</style>\n",
              "<table border=\"1\" class=\"dataframe\">\n",
              "  <thead>\n",
              "    <tr style=\"text-align: right;\">\n",
              "      <th></th>\n",
              "      <th>ridge</th>\n",
              "      <th>lasso</th>\n",
              "    </tr>\n",
              "  </thead>\n",
              "  <tbody>\n",
              "    <tr>\n",
              "      <th>0.000</th>\n",
              "      <td>0.270372</td>\n",
              "      <td>0.270372</td>\n",
              "    </tr>\n",
              "    <tr>\n",
              "      <th>0.001</th>\n",
              "      <td>0.271345</td>\n",
              "      <td>0.270372</td>\n",
              "    </tr>\n",
              "    <tr>\n",
              "      <th>0.005</th>\n",
              "      <td>0.272047</td>\n",
              "      <td>0.270356</td>\n",
              "    </tr>\n",
              "    <tr>\n",
              "      <th>0.010</th>\n",
              "      <td>0.272526</td>\n",
              "      <td>0.270372</td>\n",
              "    </tr>\n",
              "    <tr>\n",
              "      <th>0.050</th>\n",
              "      <td>0.271563</td>\n",
              "      <td>0.270372</td>\n",
              "    </tr>\n",
              "    <tr>\n",
              "      <th>0.100</th>\n",
              "      <td>0.266168</td>\n",
              "      <td>0.270356</td>\n",
              "    </tr>\n",
              "  </tbody>\n",
              "</table>\n",
              "</div>\n",
              "      <button class=\"colab-df-convert\" onclick=\"convertToInteractive('df-236a5d38-432f-45fd-972e-14a5759dcda7')\"\n",
              "              title=\"Convert this dataframe to an interactive table.\"\n",
              "              style=\"display:none;\">\n",
              "        \n",
              "  <svg xmlns=\"http://www.w3.org/2000/svg\" height=\"24px\"viewBox=\"0 0 24 24\"\n",
              "       width=\"24px\">\n",
              "    <path d=\"M0 0h24v24H0V0z\" fill=\"none\"/>\n",
              "    <path d=\"M18.56 5.44l.94 2.06.94-2.06 2.06-.94-2.06-.94-.94-2.06-.94 2.06-2.06.94zm-11 1L8.5 8.5l.94-2.06 2.06-.94-2.06-.94L8.5 2.5l-.94 2.06-2.06.94zm10 10l.94 2.06.94-2.06 2.06-.94-2.06-.94-.94-2.06-.94 2.06-2.06.94z\"/><path d=\"M17.41 7.96l-1.37-1.37c-.4-.4-.92-.59-1.43-.59-.52 0-1.04.2-1.43.59L10.3 9.45l-7.72 7.72c-.78.78-.78 2.05 0 2.83L4 21.41c.39.39.9.59 1.41.59.51 0 1.02-.2 1.41-.59l7.78-7.78 2.81-2.81c.8-.78.8-2.07 0-2.86zM5.41 20L4 18.59l7.72-7.72 1.47 1.35L5.41 20z\"/>\n",
              "  </svg>\n",
              "      </button>\n",
              "      \n",
              "  <style>\n",
              "    .colab-df-container {\n",
              "      display:flex;\n",
              "      flex-wrap:wrap;\n",
              "      gap: 12px;\n",
              "    }\n",
              "\n",
              "    .colab-df-convert {\n",
              "      background-color: #E8F0FE;\n",
              "      border: none;\n",
              "      border-radius: 50%;\n",
              "      cursor: pointer;\n",
              "      display: none;\n",
              "      fill: #1967D2;\n",
              "      height: 32px;\n",
              "      padding: 0 0 0 0;\n",
              "      width: 32px;\n",
              "    }\n",
              "\n",
              "    .colab-df-convert:hover {\n",
              "      background-color: #E2EBFA;\n",
              "      box-shadow: 0px 1px 2px rgba(60, 64, 67, 0.3), 0px 1px 3px 1px rgba(60, 64, 67, 0.15);\n",
              "      fill: #174EA6;\n",
              "    }\n",
              "\n",
              "    [theme=dark] .colab-df-convert {\n",
              "      background-color: #3B4455;\n",
              "      fill: #D2E3FC;\n",
              "    }\n",
              "\n",
              "    [theme=dark] .colab-df-convert:hover {\n",
              "      background-color: #434B5C;\n",
              "      box-shadow: 0px 1px 3px 1px rgba(0, 0, 0, 0.15);\n",
              "      filter: drop-shadow(0px 1px 2px rgba(0, 0, 0, 0.3));\n",
              "      fill: #FFFFFF;\n",
              "    }\n",
              "  </style>\n",
              "\n",
              "      <script>\n",
              "        const buttonEl =\n",
              "          document.querySelector('#df-236a5d38-432f-45fd-972e-14a5759dcda7 button.colab-df-convert');\n",
              "        buttonEl.style.display =\n",
              "          google.colab.kernel.accessAllowed ? 'block' : 'none';\n",
              "\n",
              "        async function convertToInteractive(key) {\n",
              "          const element = document.querySelector('#df-236a5d38-432f-45fd-972e-14a5759dcda7');\n",
              "          const dataTable =\n",
              "            await google.colab.kernel.invokeFunction('convertToInteractive',\n",
              "                                                     [key], {});\n",
              "          if (!dataTable) return;\n",
              "\n",
              "          const docLinkHtml = 'Like what you see? Visit the ' +\n",
              "            '<a target=\"_blank\" href=https://colab.research.google.com/notebooks/data_table.ipynb>data table notebook</a>'\n",
              "            + ' to learn more about interactive tables.';\n",
              "          element.innerHTML = '';\n",
              "          dataTable['output_type'] = 'display_data';\n",
              "          await google.colab.output.renderOutput(dataTable, element);\n",
              "          const docLink = document.createElement('div');\n",
              "          docLink.innerHTML = docLinkHtml;\n",
              "          element.appendChild(docLink);\n",
              "        }\n",
              "      </script>\n",
              "    </div>\n",
              "  </div>\n",
              "  "
            ]
          },
          "metadata": {},
          "execution_count": 230
        }
      ]
    },
    {
      "cell_type": "markdown",
      "source": [
        "*O modelo com regularização \"ridge\" com alpha 0.01 chega ao melhor resultado*"
      ],
      "metadata": {
        "id": "jwA4h6w2ESdQ"
      }
    },
    {
      "cell_type": "markdown",
      "source": [
        "***4 - Rode um modelo stepwise. Avalie o  R2  na base de testes. Qual o melhor resultado?***"
      ],
      "metadata": {
        "id": "lEBBXikeHmUJ"
      }
    },
    {
      "cell_type": "code",
      "source": [
        "# criando a função de seleção de variáveis explicativas pelo método stepwise\n",
        "\n",
        "def stepwise_selection(X, y,\n",
        "                       initial_list=[],\n",
        "                       threshold_in=0.05,\n",
        "                       threshold_out = 0.05,\n",
        "                       verbose=True):\n",
        "    \"\"\" Perform a forward-backward feature selection\n",
        "    based on p-value from statsmodels.api.OLS\n",
        "    Arguments:\n",
        "        X - pandas.DataFrame with candidate features\n",
        "        y - list-like with the target\n",
        "        initial_list - list of features to start with (column names of X)\n",
        "        threshold_in - include a feature if its p-value < threshold_in\n",
        "        threshold_out - exclude a feature if its p-value > threshold_out\n",
        "        verbose - whether to print the sequence of inclusions and exclusions\n",
        "    Returns: list of selected features\n",
        "    Always set threshold_in < threshold_out to avoid infinite looping.\n",
        "    See https://en.wikipedia.org/wiki/Stepwise_regression for the details\n",
        "    \"\"\"\n",
        "    included = list(initial_list)\n",
        "    while True:\n",
        "        changed=False\n",
        "        # forward step\n",
        "        excluded = list(set(X.columns)-set(included))\n",
        "        new_pval = pd.Series(index=excluded, dtype=np.dtype('float64'))\n",
        "        for new_column in excluded:\n",
        "            model = sm.OLS(y, sm.add_constant(pd.DataFrame(X[included+[new_column]]))).fit()\n",
        "            new_pval[new_column] = model.pvalues[new_column]\n",
        "        best_pval = new_pval.min()\n",
        "        if best_pval < threshold_in:\n",
        "            best_feature = new_pval.index[new_pval.argmin()]\n",
        "            included.append(best_feature)\n",
        "            changed=True\n",
        "            if verbose:\n",
        "                 print('Add  {:30} with p-value {:.6}'.format(best_feature, best_pval))\n",
        "\n",
        "        # backward step\n",
        "        print(\"#############\")\n",
        "        print(included)\n",
        "        model = sm.OLS(y, sm.add_constant(pd.DataFrame(X[included]))).fit()\n",
        "        # use all coefs except intercept\n",
        "        pvalues = model.pvalues.iloc[1:]\n",
        "        worst_pval = pvalues.max() # null if pvalues is empty\n",
        "        if worst_pval > threshold_out:\n",
        "            changed=True\n",
        "            worst_feature = pvalues.argmax()\n",
        "            included.remove(worst_feature)\n",
        "            if verbose:\n",
        "                print('Drop {:30} with p-value {:.6}'.format(worst_feature, worst_pval))\n",
        "        if not changed:\n",
        "            break\n",
        "    return included\n",
        "\n"
      ],
      "metadata": {
        "id": "Vr70jPs8gqwN"
      },
      "execution_count": 231,
      "outputs": []
    },
    {
      "cell_type": "code",
      "source": [
        "# adequando a base de dados para a função stepwise\n",
        "\n",
        "# transformando as variáveis explicativas em tipo dummy e renomeando colunas\n",
        "\n",
        "X = treino[['sexo', 'posse_de_veiculo', 'posse_de_imovel', 'qtd_filhos', 'tipo_renda', 'educacao', 'estado_civil', 'tipo_residencia', 'idade', 'tempo_emprego', 'qt_pessoas_residencia', 'renda']]\n",
        "treino_dummy = pd.get_dummies(X)\n",
        "treino_dummy.rename(columns = {'educacao_Superior completo' : 'educacao_Superior_completo'}, inplace=True)\n",
        "x_treino = treino_dummy.drop('renda', axis=1)\n",
        "\n",
        "X = teste[['sexo', 'posse_de_veiculo', 'posse_de_imovel', 'qtd_filhos', 'tipo_renda', 'educacao', 'estado_civil', 'tipo_residencia', 'idade', 'tempo_emprego', 'qt_pessoas_residencia', 'renda']]\n",
        "teste_dummy = pd.get_dummies(X)\n",
        "teste_dummy.rename(columns = {'educacao_Superior completo' : 'educacao_Superior_completo'}, inplace=True)\n",
        "x_teste = teste_dummy.drop('renda', axis=1)\n",
        "\n",
        "# transformando dados do tipo bool em int\n",
        "\n",
        "x_treino['posse_de_veiculo'] = treino['posse_de_veiculo'].apply(int)\n",
        "x_treino['posse_de_imovel'] = treino['posse_de_imovel'].apply(int)\n",
        "x_teste['posse_de_veiculo'] = teste['posse_de_veiculo'].apply(int)\n",
        "x_teste['posse_de_imovel'] = teste['posse_de_imovel'].apply(int)\n",
        "\n"
      ],
      "metadata": {
        "id": "tXgkGPr4g_vw"
      },
      "execution_count": 232,
      "outputs": []
    },
    {
      "cell_type": "code",
      "source": [
        "# executando a função stepwise\n",
        "\n",
        "variaveis = stepwise_selection(x_treino, treino_dummy['renda'])\n",
        "\n",
        "print('resulting features:')\n",
        "print(variaveis)"
      ],
      "metadata": {
        "colab": {
          "base_uri": "https://localhost:8080/"
        },
        "id": "tylU_SYsjeEw",
        "outputId": "bd87f87d-26bc-4ea0-9ada-21edbb0cc05b"
      },
      "execution_count": 233,
      "outputs": [
        {
          "output_type": "stream",
          "name": "stdout",
          "text": [
            "Add  tempo_emprego                  with p-value 0.0\n",
            "#############\n",
            "['tempo_emprego']\n",
            "Add  sexo_M                         with p-value 1.28049e-256\n",
            "#############\n",
            "['tempo_emprego', 'sexo_M']\n",
            "Add  sexo_F                         with p-value 4.40213e-123\n",
            "#############\n",
            "['tempo_emprego', 'sexo_M', 'sexo_F']\n",
            "Add  idade                          with p-value 4.36743e-06\n",
            "#############\n",
            "['tempo_emprego', 'sexo_M', 'sexo_F', 'idade']\n",
            "Add  tipo_renda_Empresário          with p-value 1.35509e-05\n",
            "#############\n",
            "['tempo_emprego', 'sexo_M', 'sexo_F', 'idade', 'tipo_renda_Empresário']\n",
            "Add  educacao_Superior_completo     with p-value 0.00156882\n",
            "#############\n",
            "['tempo_emprego', 'sexo_M', 'sexo_F', 'idade', 'tipo_renda_Empresário', 'educacao_Superior_completo']\n",
            "Add  estado_civil_Casado            with p-value 0.0210294\n",
            "#############\n",
            "['tempo_emprego', 'sexo_M', 'sexo_F', 'idade', 'tipo_renda_Empresário', 'educacao_Superior_completo', 'estado_civil_Casado']\n",
            "#############\n",
            "['tempo_emprego', 'sexo_M', 'sexo_F', 'idade', 'tipo_renda_Empresário', 'educacao_Superior_completo', 'estado_civil_Casado']\n",
            "resulting features:\n",
            "['tempo_emprego', 'sexo_M', 'sexo_F', 'idade', 'tipo_renda_Empresário', 'educacao_Superior_completo', 'estado_civil_Casado']\n"
          ]
        }
      ]
    },
    {
      "cell_type": "code",
      "source": [
        "# criando modelo a partir das variáveis selecionadas pelo método stepwise\n",
        "\n",
        "y, X = patsy.dmatrices('renda ~ tempo_emprego + sexo_M + sexo_F + tipo_renda_Empresário + idade + educacao_Superior_completo + estado_civil_Casado + posse_de_imovel', treino_dummy )\n",
        "\n",
        "reg = sm.OLS(y,X).fit()\n",
        "\n",
        "# apurando o R² do modelo\n",
        "\n",
        "reg.rsquared\n"
      ],
      "metadata": {
        "colab": {
          "base_uri": "https://localhost:8080/"
        },
        "id": "0FJL9p9Hw7Px",
        "outputId": "282d668f-2385-43d6-803e-ceaa994ad53e"
      },
      "execution_count": 234,
      "outputs": [
        {
          "output_type": "execute_result",
          "data": {
            "text/plain": [
              "0.25126908699245254"
            ]
          },
          "metadata": {},
          "execution_count": 234
        }
      ]
    },
    {
      "cell_type": "markdown",
      "source": [
        "*O modelo com regularização \"ridge\" com alpha 0.01 ainda apresenta melhor resultado*"
      ],
      "metadata": {
        "id": "5-awO22c-Y74"
      }
    },
    {
      "cell_type": "markdown",
      "source": [
        "***5 - Compare os parâmetros e avalie eventuais diferenças. Qual modelo você acha o melhor de todos?***"
      ],
      "metadata": {
        "id": "WsC4ZjWorp2i"
      }
    },
    {
      "cell_type": "markdown",
      "source": [
        "*O modelo \"ridge\" com alpha 0.01 apresenta-se melhor de todos*"
      ],
      "metadata": {
        "id": "t7mqK7tUnlan"
      }
    },
    {
      "cell_type": "markdown",
      "source": [
        "***6 - Partindo dos modelos que você ajustou, tente melhorar o  R2  na base de testes. Use a criatividade, veja se consegue inserir alguma transformação ou combinação de variáveis.***"
      ],
      "metadata": {
        "id": "QdqQnNVQnC4C"
      }
    },
    {
      "cell_type": "code",
      "source": [
        "# rodando o modelo ridge com alpha 0.01 na base de treino\n",
        "\n",
        "modelo = 'renda ~ sexo + posse_de_veiculo + posse_de_imovel + qtd_filhos + tipo_renda + educacao + estado_civil + tipo_residencia + idade + tempo_emprego + qt_pessoas_residencia'\n",
        "\n",
        "md = smf.ols(modelo, data=treino)\n",
        "\n",
        "reg = md.fit_regularized(method='elastic_net',\n",
        "                         refit=True,\n",
        "                         L1_wt=0,\n",
        "                         alpha=0.01)\n",
        "\n",
        "r2_score(treino['renda'], reg.predict())"
      ],
      "metadata": {
        "colab": {
          "base_uri": "https://localhost:8080/"
        },
        "id": "hAT_iGaq4JHn",
        "outputId": "aaa1ab1f-1bbc-4338-919d-5f8f9759442b"
      },
      "execution_count": 235,
      "outputs": [
        {
          "output_type": "execute_result",
          "data": {
            "text/plain": [
              "0.25134695370143256"
            ]
          },
          "metadata": {},
          "execution_count": 235
        }
      ]
    },
    {
      "cell_type": "code",
      "source": [
        "# rodando modelo para verificar as variáveis não significantes\n",
        "\n",
        "modelo = 'renda ~ sexo + posse_de_veiculo + posse_de_imovel + qtd_filhos + tipo_renda + educacao + estado_civil + tipo_residencia + idade + tempo_emprego + qt_pessoas_residencia'\n",
        "\n",
        "y, X = patsy.dmatrices(modelo, treino)\n",
        "\n",
        "reg = sm.OLS(y,X).fit()\n",
        "\n",
        "reg.summary()"
      ],
      "metadata": {
        "colab": {
          "base_uri": "https://localhost:8080/",
          "height": 978
        },
        "id": "gaigCkhz0s-Q",
        "outputId": "58b4f9e8-3659-4508-ca85-a56eb14e6d65"
      },
      "execution_count": 236,
      "outputs": [
        {
          "output_type": "execute_result",
          "data": {
            "text/plain": [
              "<class 'statsmodels.iolib.summary.Summary'>\n",
              "\"\"\"\n",
              "                            OLS Regression Results                            \n",
              "==============================================================================\n",
              "Dep. Variable:                  renda   R-squared:                       0.252\n",
              "Model:                            OLS   Adj. R-squared:                  0.250\n",
              "Method:                 Least Squares   F-statistic:                     130.6\n",
              "Date:                Tue, 04 Jul 2023   Prob (F-statistic):               0.00\n",
              "Time:                        03:35:19   Log-Likelihood:                -96928.\n",
              "No. Observations:                9320   AIC:                         1.939e+05\n",
              "Df Residuals:                    9295   BIC:                         1.941e+05\n",
              "Df Model:                          24                                         \n",
              "Covariance Type:            nonrobust                                         \n",
              "====================================================================================================\n",
              "                                       coef    std err          t      P>|t|      [0.025      0.975]\n",
              "----------------------------------------------------------------------------------------------------\n",
              "Intercept                        -7923.1758   2889.816     -2.742      0.006   -1.36e+04   -2258.504\n",
              "sexo[T.M]                         6230.3670    186.540     33.400      0.000    5864.707    6596.027\n",
              "posse_de_veiculo[T.True]            22.0358    180.121      0.122      0.903    -331.041     375.113\n",
              "posse_de_imovel[T.True]            340.9355    178.092      1.914      0.056      -8.163     690.034\n",
              "tipo_renda[T.Bolsista]           -1897.4447   3986.931     -0.476      0.634   -9712.703    5917.813\n",
              "tipo_renda[T.Empresário]           793.0649    190.663      4.160      0.000     419.323    1166.807\n",
              "tipo_renda[T.Pensionista]        -2354.5081   3017.098     -0.780      0.435   -8268.681    3559.665\n",
              "tipo_renda[T.Servidor público]      77.2736    282.290      0.274      0.784    -476.076     630.624\n",
              "educacao[T.Pós graduação]         1372.0400   1935.268      0.709      0.478   -2421.509    5165.589\n",
              "educacao[T.Secundário]            1018.4406    925.457      1.100      0.271    -795.657    2832.539\n",
              "educacao[T.Superior completo]     1503.5760    928.464      1.619      0.105    -316.417    3323.570\n",
              "educacao[T.Superior incompleto]    447.6591    997.107      0.449      0.653   -1506.890    2402.208\n",
              "estado_civil[T.Separado]          2044.3367   1357.334      1.506      0.132    -616.336    4705.010\n",
              "estado_civil[T.Solteiro]          1650.6720   1329.956      1.241      0.215    -956.332    4257.677\n",
              "estado_civil[T.União]             -382.5607    321.253     -1.191      0.234   -1012.288     247.167\n",
              "estado_civil[T.Viúvo]             1761.4099   1419.982      1.240      0.215   -1022.067    4544.886\n",
              "tipo_residencia[T.Casa]           -245.0252    692.967     -0.354      0.724   -1603.393    1113.342\n",
              "tipo_residencia[T.Com os pais]    -273.7519    771.537     -0.355      0.723   -1786.134    1238.630\n",
              "tipo_residencia[T.Comunitário]    -459.5014   1271.099     -0.361      0.718   -2951.135    2032.132\n",
              "tipo_residencia[T.Estúdio]         503.4030   1284.350      0.392      0.695   -2014.205    3021.011\n",
              "tipo_residencia[T.Governamental]   438.4844    849.692      0.516      0.606   -1227.097    2104.066\n",
              "qtd_filhos                       -2084.9360   1312.989     -1.588      0.112   -4658.681     488.809\n",
              "idade                               43.1429     10.225      4.219      0.000      23.100      63.186\n",
              "tempo_emprego                      567.0530     13.243     42.818      0.000     541.093     593.013\n",
              "qt_pessoas_residencia             2171.9889   1311.193      1.656      0.098    -398.238    4742.215\n",
              "==============================================================================\n",
              "Omnibus:                    13603.862   Durbin-Watson:                   2.004\n",
              "Prob(Omnibus):                  0.000   Jarque-Bera (JB):          8559499.633\n",
              "Skew:                           8.610   Prob(JB):                         0.00\n",
              "Kurtosis:                     150.462   Cond. No.                     2.09e+03\n",
              "==============================================================================\n",
              "\n",
              "Notes:\n",
              "[1] Standard Errors assume that the covariance matrix of the errors is correctly specified.\n",
              "[2] The condition number is large, 2.09e+03. This might indicate that there are\n",
              "strong multicollinearity or other numerical problems.\n",
              "\"\"\""
            ],
            "text/html": [
              "<table class=\"simpletable\">\n",
              "<caption>OLS Regression Results</caption>\n",
              "<tr>\n",
              "  <th>Dep. Variable:</th>          <td>renda</td>      <th>  R-squared:         </th> <td>   0.252</td> \n",
              "</tr>\n",
              "<tr>\n",
              "  <th>Model:</th>                   <td>OLS</td>       <th>  Adj. R-squared:    </th> <td>   0.250</td> \n",
              "</tr>\n",
              "<tr>\n",
              "  <th>Method:</th>             <td>Least Squares</td>  <th>  F-statistic:       </th> <td>   130.6</td> \n",
              "</tr>\n",
              "<tr>\n",
              "  <th>Date:</th>             <td>Tue, 04 Jul 2023</td> <th>  Prob (F-statistic):</th>  <td>  0.00</td>  \n",
              "</tr>\n",
              "<tr>\n",
              "  <th>Time:</th>                 <td>03:35:19</td>     <th>  Log-Likelihood:    </th> <td> -96928.</td> \n",
              "</tr>\n",
              "<tr>\n",
              "  <th>No. Observations:</th>      <td>  9320</td>      <th>  AIC:               </th> <td>1.939e+05</td>\n",
              "</tr>\n",
              "<tr>\n",
              "  <th>Df Residuals:</th>          <td>  9295</td>      <th>  BIC:               </th> <td>1.941e+05</td>\n",
              "</tr>\n",
              "<tr>\n",
              "  <th>Df Model:</th>              <td>    24</td>      <th>                     </th>     <td> </td>    \n",
              "</tr>\n",
              "<tr>\n",
              "  <th>Covariance Type:</th>      <td>nonrobust</td>    <th>                     </th>     <td> </td>    \n",
              "</tr>\n",
              "</table>\n",
              "<table class=\"simpletable\">\n",
              "<tr>\n",
              "                  <td></td>                    <th>coef</th>     <th>std err</th>      <th>t</th>      <th>P>|t|</th>  <th>[0.025</th>    <th>0.975]</th>  \n",
              "</tr>\n",
              "<tr>\n",
              "  <th>Intercept</th>                        <td>-7923.1758</td> <td> 2889.816</td> <td>   -2.742</td> <td> 0.006</td> <td>-1.36e+04</td> <td>-2258.504</td>\n",
              "</tr>\n",
              "<tr>\n",
              "  <th>sexo[T.M]</th>                        <td> 6230.3670</td> <td>  186.540</td> <td>   33.400</td> <td> 0.000</td> <td> 5864.707</td> <td> 6596.027</td>\n",
              "</tr>\n",
              "<tr>\n",
              "  <th>posse_de_veiculo[T.True]</th>         <td>   22.0358</td> <td>  180.121</td> <td>    0.122</td> <td> 0.903</td> <td> -331.041</td> <td>  375.113</td>\n",
              "</tr>\n",
              "<tr>\n",
              "  <th>posse_de_imovel[T.True]</th>          <td>  340.9355</td> <td>  178.092</td> <td>    1.914</td> <td> 0.056</td> <td>   -8.163</td> <td>  690.034</td>\n",
              "</tr>\n",
              "<tr>\n",
              "  <th>tipo_renda[T.Bolsista]</th>           <td>-1897.4447</td> <td> 3986.931</td> <td>   -0.476</td> <td> 0.634</td> <td>-9712.703</td> <td> 5917.813</td>\n",
              "</tr>\n",
              "<tr>\n",
              "  <th>tipo_renda[T.Empresário]</th>         <td>  793.0649</td> <td>  190.663</td> <td>    4.160</td> <td> 0.000</td> <td>  419.323</td> <td> 1166.807</td>\n",
              "</tr>\n",
              "<tr>\n",
              "  <th>tipo_renda[T.Pensionista]</th>        <td>-2354.5081</td> <td> 3017.098</td> <td>   -0.780</td> <td> 0.435</td> <td>-8268.681</td> <td> 3559.665</td>\n",
              "</tr>\n",
              "<tr>\n",
              "  <th>tipo_renda[T.Servidor público]</th>   <td>   77.2736</td> <td>  282.290</td> <td>    0.274</td> <td> 0.784</td> <td> -476.076</td> <td>  630.624</td>\n",
              "</tr>\n",
              "<tr>\n",
              "  <th>educacao[T.Pós graduação]</th>        <td> 1372.0400</td> <td> 1935.268</td> <td>    0.709</td> <td> 0.478</td> <td>-2421.509</td> <td> 5165.589</td>\n",
              "</tr>\n",
              "<tr>\n",
              "  <th>educacao[T.Secundário]</th>           <td> 1018.4406</td> <td>  925.457</td> <td>    1.100</td> <td> 0.271</td> <td> -795.657</td> <td> 2832.539</td>\n",
              "</tr>\n",
              "<tr>\n",
              "  <th>educacao[T.Superior completo]</th>    <td> 1503.5760</td> <td>  928.464</td> <td>    1.619</td> <td> 0.105</td> <td> -316.417</td> <td> 3323.570</td>\n",
              "</tr>\n",
              "<tr>\n",
              "  <th>educacao[T.Superior incompleto]</th>  <td>  447.6591</td> <td>  997.107</td> <td>    0.449</td> <td> 0.653</td> <td>-1506.890</td> <td> 2402.208</td>\n",
              "</tr>\n",
              "<tr>\n",
              "  <th>estado_civil[T.Separado]</th>         <td> 2044.3367</td> <td> 1357.334</td> <td>    1.506</td> <td> 0.132</td> <td> -616.336</td> <td> 4705.010</td>\n",
              "</tr>\n",
              "<tr>\n",
              "  <th>estado_civil[T.Solteiro]</th>         <td> 1650.6720</td> <td> 1329.956</td> <td>    1.241</td> <td> 0.215</td> <td> -956.332</td> <td> 4257.677</td>\n",
              "</tr>\n",
              "<tr>\n",
              "  <th>estado_civil[T.União]</th>            <td> -382.5607</td> <td>  321.253</td> <td>   -1.191</td> <td> 0.234</td> <td>-1012.288</td> <td>  247.167</td>\n",
              "</tr>\n",
              "<tr>\n",
              "  <th>estado_civil[T.Viúvo]</th>            <td> 1761.4099</td> <td> 1419.982</td> <td>    1.240</td> <td> 0.215</td> <td>-1022.067</td> <td> 4544.886</td>\n",
              "</tr>\n",
              "<tr>\n",
              "  <th>tipo_residencia[T.Casa]</th>          <td> -245.0252</td> <td>  692.967</td> <td>   -0.354</td> <td> 0.724</td> <td>-1603.393</td> <td> 1113.342</td>\n",
              "</tr>\n",
              "<tr>\n",
              "  <th>tipo_residencia[T.Com os pais]</th>   <td> -273.7519</td> <td>  771.537</td> <td>   -0.355</td> <td> 0.723</td> <td>-1786.134</td> <td> 1238.630</td>\n",
              "</tr>\n",
              "<tr>\n",
              "  <th>tipo_residencia[T.Comunitário]</th>   <td> -459.5014</td> <td> 1271.099</td> <td>   -0.361</td> <td> 0.718</td> <td>-2951.135</td> <td> 2032.132</td>\n",
              "</tr>\n",
              "<tr>\n",
              "  <th>tipo_residencia[T.Estúdio]</th>       <td>  503.4030</td> <td> 1284.350</td> <td>    0.392</td> <td> 0.695</td> <td>-2014.205</td> <td> 3021.011</td>\n",
              "</tr>\n",
              "<tr>\n",
              "  <th>tipo_residencia[T.Governamental]</th> <td>  438.4844</td> <td>  849.692</td> <td>    0.516</td> <td> 0.606</td> <td>-1227.097</td> <td> 2104.066</td>\n",
              "</tr>\n",
              "<tr>\n",
              "  <th>qtd_filhos</th>                       <td>-2084.9360</td> <td> 1312.989</td> <td>   -1.588</td> <td> 0.112</td> <td>-4658.681</td> <td>  488.809</td>\n",
              "</tr>\n",
              "<tr>\n",
              "  <th>idade</th>                            <td>   43.1429</td> <td>   10.225</td> <td>    4.219</td> <td> 0.000</td> <td>   23.100</td> <td>   63.186</td>\n",
              "</tr>\n",
              "<tr>\n",
              "  <th>tempo_emprego</th>                    <td>  567.0530</td> <td>   13.243</td> <td>   42.818</td> <td> 0.000</td> <td>  541.093</td> <td>  593.013</td>\n",
              "</tr>\n",
              "<tr>\n",
              "  <th>qt_pessoas_residencia</th>            <td> 2171.9889</td> <td> 1311.193</td> <td>    1.656</td> <td> 0.098</td> <td> -398.238</td> <td> 4742.215</td>\n",
              "</tr>\n",
              "</table>\n",
              "<table class=\"simpletable\">\n",
              "<tr>\n",
              "  <th>Omnibus:</th>       <td>13603.862</td> <th>  Durbin-Watson:     </th>  <td>   2.004</td>  \n",
              "</tr>\n",
              "<tr>\n",
              "  <th>Prob(Omnibus):</th>  <td> 0.000</td>   <th>  Jarque-Bera (JB):  </th> <td>8559499.633</td>\n",
              "</tr>\n",
              "<tr>\n",
              "  <th>Skew:</th>           <td> 8.610</td>   <th>  Prob(JB):          </th>  <td>    0.00</td>  \n",
              "</tr>\n",
              "<tr>\n",
              "  <th>Kurtosis:</th>       <td>150.462</td>  <th>  Cond. No.          </th>  <td>2.09e+03</td>  \n",
              "</tr>\n",
              "</table><br/><br/>Notes:<br/>[1] Standard Errors assume that the covariance matrix of the errors is correctly specified.<br/>[2] The condition number is large, 2.09e+03. This might indicate that there are<br/>strong multicollinearity or other numerical problems."
            ]
          },
          "metadata": {},
          "execution_count": 236
        }
      ]
    },
    {
      "cell_type": "code",
      "source": [
        "# rodando modelo ridge somente com as variáveis explicativas\n",
        "\n",
        "modelo = 'renda ~ sexo + posse_de_imovel + idade + tempo_emprego'\n",
        "\n",
        "md = smf.ols(modelo, data=treino)\n",
        "\n",
        "reg = md.fit_regularized(method='elastic_net',\n",
        "                         refit=True,\n",
        "                         L1_wt=0,\n",
        "                         alpha=0.01)\n",
        "\n",
        "r2_score(treino['renda'], reg.predict())"
      ],
      "metadata": {
        "colab": {
          "base_uri": "https://localhost:8080/"
        },
        "id": "rCleM9Hl6Apa",
        "outputId": "10c79378-bd16-4e6d-c4e8-467255e31475"
      },
      "execution_count": 237,
      "outputs": [
        {
          "output_type": "execute_result",
          "data": {
            "text/plain": [
              "0.24822527007441297"
            ]
          },
          "metadata": {},
          "execution_count": 237
        }
      ]
    },
    {
      "cell_type": "code",
      "source": [
        "# analisando a distribuição da variável dependente \"renda\" e das previsões do modelo ridge com alpha 0.01 na base de treino\n",
        "\n",
        "sns.displot(treino['renda'])\n",
        "sns.displot(reg.predict())"
      ],
      "metadata": {
        "colab": {
          "base_uri": "https://localhost:8080/",
          "height": 1000
        },
        "id": "nMqmB_xm6byl",
        "outputId": "5015ed9a-25fe-499a-df74-ba43cdd5579d"
      },
      "execution_count": 238,
      "outputs": [
        {
          "output_type": "execute_result",
          "data": {
            "text/plain": [
              "<seaborn.axisgrid.FacetGrid at 0x7f914b9bf280>"
            ]
          },
          "metadata": {},
          "execution_count": 238
        },
        {
          "output_type": "display_data",
          "data": {
            "text/plain": [
              "<Figure size 500x500 with 1 Axes>"
            ],
            "image/png": "[encoded data removed]"
          },
          "metadata": {}
        },
        {
          "output_type": "display_data",
          "data": {
            "text/plain": [
              "<Figure size 500x500 with 1 Axes>"
            ],
            "image/png": "[encoded data removed]"
          },
          "metadata": {}
        }
      ]
    },
    {
      "cell_type": "markdown",
      "source": [
        "*Observa-se que a distribuição dos valores preditos é bastante diferente dos valores da variável \"renda\". Parece interessante experimentar novos modelos transformando os valores da nossa variável alvo*"
      ],
      "metadata": {
        "id": "K5YhSoZC7DBR"
      }
    },
    {
      "cell_type": "code",
      "source": [
        "# rodando o modelo ridge com alpha 0.01 na base de treino, explicando o logarítmo dos valores de \"renda\"\n",
        "\n",
        "# criando coluna com valores do logarítmos de renda\n",
        "\n",
        "treino['renda_log'] = np.log(treino['renda'])\n",
        "\n",
        "# rodando modelo ridge com variáveis explicativas significativas para explicar o logarítmo dos valores de renda\n",
        "\n",
        "modelo = 'np.log(renda) ~ sexo + posse_de_imovel + idade + tempo_emprego'\n",
        "\n",
        "md = smf.ols(modelo, data=treino)\n",
        "\n",
        "reg = md.fit_regularized(method='elastic_net',\n",
        "                         refit=True,\n",
        "                         L1_wt=0,\n",
        "                         alpha=0.01)\n",
        "\n",
        "r2_score(treino['renda_log'], reg.predict())"
      ],
      "metadata": {
        "colab": {
          "base_uri": "https://localhost:8080/"
        },
        "id": "FIeYFne550Kd",
        "outputId": "fb08eba1-2943-4226-afa6-f9986bda0913"
      },
      "execution_count": 239,
      "outputs": [
        {
          "output_type": "execute_result",
          "data": {
            "text/plain": [
              "0.2524764864645317"
            ]
          },
          "metadata": {},
          "execution_count": 239
        }
      ]
    },
    {
      "cell_type": "markdown",
      "source": [
        "*Aparentemente houve melhoria na performance do modelo. Será tentado outro método na criação de modelo*"
      ],
      "metadata": {
        "id": "S_0qwOPI8Zcr"
      }
    },
    {
      "cell_type": "code",
      "source": [
        "modelo = 'np.log(renda) ~ sexo + posse_de_imovel + idade + tempo_emprego'\n",
        "\n",
        "y, X = patsy.dmatrices(modelo, treino)\n",
        "\n",
        "reg = sm.OLS(y,X).fit()\n",
        "\n",
        "r2_score(treino['renda_log'], reg.predict())\n"
      ],
      "metadata": {
        "colab": {
          "base_uri": "https://localhost:8080/"
        },
        "id": "JEl8bGq62MTI",
        "outputId": "95cf4628-b83e-4f52-ac5c-41eebf8abf3b"
      },
      "execution_count": 240,
      "outputs": [
        {
          "output_type": "execute_result",
          "data": {
            "text/plain": [
              "0.34671026967723706"
            ]
          },
          "metadata": {},
          "execution_count": 240
        }
      ]
    },
    {
      "cell_type": "markdown",
      "source": [
        "*A julgar pelo coeficiente de determinação, nota-se que houve um salto de performance de R² 0.252 para R² 0.346*"
      ],
      "metadata": {
        "id": "OXpI8wd68u89"
      }
    }
  ],
  "metadata": {
    "kernelspec": {
      "display_name": "Python 3",
      "language": "python",
      "name": "python3"
    },
    "language_info": {
      "codemirror_mode": {
        "name": "ipython",
        "version": 3
      },
      "file_extension": ".py",
      "mimetype": "text/x-python",
      "name": "python",
      "nbconvert_exporter": "python",
      "pygments_lexer": "ipython3",
      "version": "3.8.5"
    },
    "colab": {
      "provenance": []
    }
  },
  "nbformat": 4,
  "nbformat_minor": 0
}