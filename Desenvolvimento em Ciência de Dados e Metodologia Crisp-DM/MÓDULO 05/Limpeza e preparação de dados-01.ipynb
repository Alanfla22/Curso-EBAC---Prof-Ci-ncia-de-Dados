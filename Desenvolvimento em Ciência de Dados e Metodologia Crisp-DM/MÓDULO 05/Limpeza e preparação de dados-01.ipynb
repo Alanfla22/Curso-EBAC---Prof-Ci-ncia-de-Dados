{
  "cells": [
    {
      "cell_type": "markdown",
      "metadata": {
        "id": "5cPtnhmlFmcy"
      },
      "source": [
        "# Módulo 5 Tarefa 1\n",
        "## Base de nascidos vivos do DataSUS\n",
        "O DataSUS disponibiliza diversos arquivos de dados com relação a seus segurados, conforme a [lei da transparência de informações públicas](https://www.sisgov.com/transparencia-acesso-informacao/#:~:text=A%20Lei%20da%20Transpar%C3%AAncia%20(LC,em%20um%20site%20na%20internet.). \n",
        "\n",
        "Essas informações podem ser obtidas pela internet [aqui](http://www2.datasus.gov.br/DATASUS/index.php?area=0901&item=1). Como o processo de obtenção desses arquivos foge um pouco do nosso escopo, deixamos o arquivo ```SINASC_RO_2019.csv``` já como vai ser encontrado no DataSUS. O dicionário de dados está no arquivo ```estrutura_sinasc_para_CD.pdf``` (o nome do arquivo tal qual no portal do DataSUS).\n",
        "\n",
        "### Nosso objetivo\n",
        "Queremos deixar uma base organizada para podermos estudar a relação entre partos com risco para o bebê e algumas condições como tempo de parto, consultas de pré-natal etc.\n",
        "\n",
        "#### Preparação da base\n",
        "1. Carregue a base 'SINASC_RO_2019.csv'. Conte o número de registros e o número de registros não duplicados da base. Dica: você aprendeu um método que remove duplicados, encadeie este método com um outro método que conta o número de linhas. **Há linhas duplicadas?**  \n",
        "\n",
        "2. Conte o número de valores *missing* por variável.  \n",
        "\n",
        "3. Ok, no item anterior você deve ter achado pouco prático ler a informação de tantas variáveis, muitas delas nem devem ser interesantes. Então crie uma seleção dessa base somente com as colunas que interessam. São elas:\n",
        "``` \n",
        "['LOCNASC', 'IDADEMAE', 'ESTCIVMAE', 'ESCMAE', 'QTDFILVIVO', \n",
        "    'GESTACAO', 'GRAVIDEZ', 'CONSULTAS', 'APGAR5'] \n",
        "```\n",
        "Refaça a contagem de valores *missings*.  \n",
        "\n",
        "4. Apgar é uma *nota* que o pediatra dá ao bebê quando nasce de acordo com algumas características associadas principalmente à respiração. Apgar 1 e Apgar 5 são as notas 1 e 5 minutos do nascimento. Apgar5 será a nossa variável de interesse principal. Então remova todos os registros com Apgar5 não preenchido. Para esta seleção, conte novamente o número de linhas e o número de *missings*.  \n",
        "\n",
        "5. observe que as variáveis ```['ESTCIVMAE', 'CONSULTAS']``` possuem o código ```9```, que significa *ignorado*. Vamos assumir que o não preenchido é o mesmo que o código ```9```.<br>\n",
        "6. Substitua os valores faltantes da quantitativa (```QTDFILVIVO```) por zero.  \n",
        "7. Das restantes, decida que valore te parece mais adequado (um 'não preenchido' ou um valor 'mais provável' como no item anterior) e preencha. Justifique. Lembre-se de que tratamento de dados é trabalho do cientista, e que estamos tomando decisões a todo o momento - não há necessariamente certo e errado aqui.  \n",
        "8. O Apgar possui uma classificação indicando se o bebê passou por asfixia:\n",
        "- Entre 8 e 10 está em uma faixa 'normal'. \n",
        "- Entre 6 e 7, significa que o recém-nascido passou por 'asfixia leve'. \n",
        "- Entre 4 e 5 significa 'asfixia moderada'.\n",
        "- Entre 0 e 3 significa 'asfixia severa'.  \n",
        "\n",
        "Crie uma categorização dessa variável com essa codificação e calcule as frequências dessa categorização.  \n",
        "<br>\n",
        "9. Renomeie as variáveis para que fiquem no *snake case*, ou seja, em letras minúsculas, com um *underscore* entre as palávras. Dica: repare que se você não quiser criar um *dataframe* novo, você vai precisar usar a opção ```inplace = True```."
      ]
    },
    {
      "cell_type": "code",
      "execution_count": 87,
      "metadata": {
        "colab": {
          "base_uri": "https://localhost:8080/"
        },
        "id": "TjuX2Q2IFmdN",
        "outputId": "fff5ec12-b305-4cd5-a405-3d7110f4720a"
      },
      "outputs": [
        {
          "output_type": "stream",
          "name": "stdout",
          "text": [
            "(27028, 69)\n"
          ]
        },
        {
          "output_type": "execute_result",
          "data": {
            "text/plain": [
              "(27028, 69)"
            ]
          },
          "metadata": {},
          "execution_count": 87
        }
      ],
      "source": [
        "import pandas as pd\n",
        "import requests\n",
        "\n",
        "# 1) seu código aqui\n",
        "sinasc = pd.read_csv('/content/SINASC_RO_2019.csv')\n",
        "print(sinasc.shape)\n",
        "sinasc.drop_duplicates().shape\n",
        "# Não há duplicados"
      ]
    },
    {
      "cell_type": "code",
      "execution_count": 88,
      "metadata": {
        "colab": {
          "base_uri": "https://localhost:8080/"
        },
        "id": "euf7VVr7FmdZ",
        "outputId": "b574d385-c99a-49c5-99be-ef9437079094"
      },
      "outputs": [
        {
          "output_type": "execute_result",
          "data": {
            "text/plain": [
              "DTRECORIGA    27028\n",
              "CODANOMAL     26814\n",
              "IDADEPAI      19421\n",
              "SERIESCMAE    12710\n",
              "DTULTMENST    10072\n",
              "              ...  \n",
              "PESO              0\n",
              "DTCADASTRO        0\n",
              "NUMEROLOTE        0\n",
              "VERSAOSIST        0\n",
              "ORIGEM            0\n",
              "Length: 69, dtype: int64"
            ]
          },
          "metadata": {},
          "execution_count": 88
        }
      ],
      "source": [
        "# 2) seu código aqui\n",
        "sinasc.isnull().sum().sort_values(ascending=False)"
      ]
    },
    {
      "cell_type": "code",
      "execution_count": 89,
      "metadata": {
        "colab": {
          "base_uri": "https://localhost:8080/"
        },
        "id": "XyF59zlPFmdb",
        "outputId": "826db39b-3e0a-435e-df96-38a20429b3ef"
      },
      "outputs": [
        {
          "output_type": "execute_result",
          "data": {
            "text/plain": [
              "QTDFILVIVO    1573\n",
              "GESTACAO      1232\n",
              "ESTCIVMAE      317\n",
              "ESCMAE         312\n",
              "APGAR5         103\n",
              "GRAVIDEZ        79\n",
              "LOCNASC          0\n",
              "IDADEMAE         0\n",
              "CONSULTAS        0\n",
              "dtype: int64"
            ]
          },
          "metadata": {},
          "execution_count": 89
        }
      ],
      "source": [
        "# 3) seu código aqui\n",
        "\n",
        "colunas_selec = ['LOCNASC', 'IDADEMAE', 'ESTCIVMAE', 'ESCMAE', 'QTDFILVIVO', \n",
        " 'GESTACAO', 'GRAVIDEZ', 'CONSULTAS', 'APGAR5']\n",
        "\n",
        "sinasc = sinasc[colunas_selec]\n",
        "sinasc.isnull().sum().sort_values(ascending=False)"
      ]
    },
    {
      "cell_type": "code",
      "execution_count": 90,
      "metadata": {
        "colab": {
          "base_uri": "https://localhost:8080/"
        },
        "id": "OhW0fWLhFmdd",
        "outputId": "081f4e59-92ed-4e88-c4a5-3989c8d3e006"
      },
      "outputs": [
        {
          "output_type": "stream",
          "name": "stderr",
          "text": [
            "/usr/local/lib/python3.9/dist-packages/pandas/util/_decorators.py:311: SettingWithCopyWarning: \n",
            "A value is trying to be set on a copy of a slice from a DataFrame\n",
            "\n",
            "See the caveats in the documentation: https://pandas.pydata.org/pandas-docs/stable/user_guide/indexing.html#returning-a-view-versus-a-copy\n",
            "  return func(*args, **kwargs)\n"
          ]
        },
        {
          "output_type": "execute_result",
          "data": {
            "text/plain": [
              "QTDFILVIVO    1566\n",
              "GESTACAO      1216\n",
              "ESTCIVMAE      315\n",
              "ESCMAE         310\n",
              "GRAVIDEZ        76\n",
              "LOCNASC          0\n",
              "IDADEMAE         0\n",
              "CONSULTAS        0\n",
              "APGAR5           0\n",
              "dtype: int64"
            ]
          },
          "metadata": {},
          "execution_count": 90
        }
      ],
      "source": [
        "# 4) seu código aqui\n",
        "\n",
        "sinasc.dropna(subset=['APGAR5'], inplace=True)\n",
        "sinasc.isnull().sum().sort_values(ascending=False)"
      ]
    },
    {
      "cell_type": "code",
      "execution_count": 91,
      "metadata": {
        "id": "WL4rHFEsFmdf",
        "colab": {
          "base_uri": "https://localhost:8080/"
        },
        "outputId": "e6544365-895a-4b43-f07d-ddc1618a4db1"
      },
      "outputs": [
        {
          "output_type": "stream",
          "name": "stderr",
          "text": [
            "<ipython-input-91-d8fe2faaa4bf>:4: SettingWithCopyWarning: \n",
            "A value is trying to be set on a copy of a slice from a DataFrame.\n",
            "Try using .loc[row_indexer,col_indexer] = value instead\n",
            "\n",
            "See the caveats in the documentation: https://pandas.pydata.org/pandas-docs/stable/user_guide/indexing.html#returning-a-view-versus-a-copy\n",
            "  sinasc['CONSULTAS'] = sinasc['CONSULTAS'].replace(nan, 9)\n",
            "<ipython-input-91-d8fe2faaa4bf>:5: SettingWithCopyWarning: \n",
            "A value is trying to be set on a copy of a slice from a DataFrame.\n",
            "Try using .loc[row_indexer,col_indexer] = value instead\n",
            "\n",
            "See the caveats in the documentation: https://pandas.pydata.org/pandas-docs/stable/user_guide/indexing.html#returning-a-view-versus-a-copy\n",
            "  sinasc['ESTCIVMAE'] = sinasc['ESTCIVMAE'].replace(nan, 9)\n"
          ]
        }
      ],
      "source": [
        "from numpy import nan\n",
        "# 5) seu código aqui\n",
        "\n",
        "sinasc['CONSULTAS'] = sinasc['CONSULTAS'].replace(nan, 9)\n",
        "sinasc['ESTCIVMAE'] = sinasc['ESTCIVMAE'].replace(nan, 9)"
      ]
    },
    {
      "cell_type": "code",
      "execution_count": 92,
      "metadata": {
        "id": "ZgduoNO-Fmdk",
        "colab": {
          "base_uri": "https://localhost:8080/"
        },
        "outputId": "946ff20f-ccc0-4955-c1d1-863af4cc4adc"
      },
      "outputs": [
        {
          "output_type": "stream",
          "name": "stderr",
          "text": [
            "<ipython-input-92-3d7fe5f56adc>:3: SettingWithCopyWarning: \n",
            "A value is trying to be set on a copy of a slice from a DataFrame.\n",
            "Try using .loc[row_indexer,col_indexer] = value instead\n",
            "\n",
            "See the caveats in the documentation: https://pandas.pydata.org/pandas-docs/stable/user_guide/indexing.html#returning-a-view-versus-a-copy\n",
            "  sinasc['QTDFILVIVO'] = sinasc['QTDFILVIVO'].replace(nan, 0)\n"
          ]
        },
        {
          "output_type": "execute_result",
          "data": {
            "text/plain": [
              "GESTACAO      1216\n",
              "ESCMAE         310\n",
              "GRAVIDEZ        76\n",
              "LOCNASC          0\n",
              "IDADEMAE         0\n",
              "ESTCIVMAE        0\n",
              "QTDFILVIVO       0\n",
              "CONSULTAS        0\n",
              "APGAR5           0\n",
              "dtype: int64"
            ]
          },
          "metadata": {},
          "execution_count": 92
        }
      ],
      "source": [
        "# 6) Seu código aqui\n",
        "\n",
        "sinasc['QTDFILVIVO'] = sinasc['QTDFILVIVO'].replace(nan, 0)\n",
        "sinasc.isnull().sum().sort_values(ascending=False)"
      ]
    },
    {
      "cell_type": "code",
      "execution_count": 93,
      "metadata": {
        "id": "uc96ecNCFmdn",
        "colab": {
          "base_uri": "https://localhost:8080/"
        },
        "outputId": "0eb815c2-4974-4013-c1b0-da9bf09b6690"
      },
      "outputs": [
        {
          "output_type": "execute_result",
          "data": {
            "text/plain": [
              "37 a 41 semanas        0.836509\n",
              "32 a 36 semanas        0.082971\n",
              "42 semanas e mais      0.025924\n",
              "28 a 31 semanas        0.006017\n",
              "22 a 27 semanas        0.003157\n",
              "Menos de 22 semanas    0.000260\n",
              "Name: GESTACAO, dtype: float64"
            ]
          },
          "metadata": {},
          "execution_count": 93
        }
      ],
      "source": [
        "# 7) seu código aqui\n",
        "\n",
        "QUANT_TOTAL = 26925\n",
        "\n",
        "# Representação dos missings (A) na coluna GESTACAO\n",
        "\n",
        "(sinasc['GESTACAO'].isnull().sum())/QUANT_TOTAL\n",
        "\n",
        "# Representação da categoria mais frequente (B) na coluna GESTACAO\n",
        "\n",
        "sinasc['GESTACAO'].value_counts()/QUANT_TOTAL\n",
        "\n"
      ]
    },
    {
      "cell_type": "code",
      "source": [
        "# Dado que: A é muito pouco significativo (4,51%); B é muito significativo (83,65%): Substitui-se A por B\n",
        "\n",
        "sinasc['GESTACAO'] = sinasc['GESTACAO'].replace(nan, '37 a 41 semanas')\n",
        "sinasc['GESTACAO'].unique()"
      ],
      "metadata": {
        "colab": {
          "base_uri": "https://localhost:8080/"
        },
        "id": "A3XFAGG_1WhQ",
        "outputId": "407e5df1-d4a1-4e21-89df-83a5f84e9595"
      },
      "execution_count": 94,
      "outputs": [
        {
          "output_type": "stream",
          "name": "stderr",
          "text": [
            "<ipython-input-94-7a57681557b5>:3: SettingWithCopyWarning: \n",
            "A value is trying to be set on a copy of a slice from a DataFrame.\n",
            "Try using .loc[row_indexer,col_indexer] = value instead\n",
            "\n",
            "See the caveats in the documentation: https://pandas.pydata.org/pandas-docs/stable/user_guide/indexing.html#returning-a-view-versus-a-copy\n",
            "  sinasc['GESTACAO'] = sinasc['GESTACAO'].replace(nan, '37 a 41 semanas')\n"
          ]
        },
        {
          "output_type": "execute_result",
          "data": {
            "text/plain": [
              "array(['37 a 41 semanas', '42 semanas e mais', '32 a 36 semanas',\n",
              "       '22 a 27 semanas', '28 a 31 semanas', 'Menos de 22 semanas'],\n",
              "      dtype=object)"
            ]
          },
          "metadata": {},
          "execution_count": 94
        }
      ]
    },
    {
      "cell_type": "code",
      "source": [
        "# Representação dos missings (A) na coluna ESCMAE\n",
        "\n",
        "(sinasc['ESCMAE'].isnull().sum())/QUANT_TOTAL\n"
      ],
      "metadata": {
        "colab": {
          "base_uri": "https://localhost:8080/"
        },
        "id": "UGa8__P5uOAc",
        "outputId": "7cd61cb3-7fac-4860-d4a8-cde18ad33f93"
      },
      "execution_count": 95,
      "outputs": [
        {
          "output_type": "execute_result",
          "data": {
            "text/plain": [
              "0.011513463324048283"
            ]
          },
          "metadata": {},
          "execution_count": 95
        }
      ]
    },
    {
      "cell_type": "code",
      "source": [
        "# Representação da categoria mais frequente (B) na coluna ESCMAE\n",
        "\n",
        "sinasc['ESCMAE'].value_counts()/QUANT_TOTAL"
      ],
      "metadata": {
        "colab": {
          "base_uri": "https://localhost:8080/"
        },
        "id": "FGZXAI2v4K9t",
        "outputId": "c2506bbe-1fe4-41e2-aa51-261db3ccd117"
      },
      "execution_count": 96,
      "outputs": [
        {
          "output_type": "execute_result",
          "data": {
            "text/plain": [
              "8 a 11 anos        0.578682\n",
              "12 anos ou mais    0.213816\n",
              "4 a 7 anos         0.175562\n",
              "1 a 3 anos         0.018942\n",
              "Nenhuma            0.001486\n",
              "Name: ESCMAE, dtype: float64"
            ]
          },
          "metadata": {},
          "execution_count": 96
        }
      ]
    },
    {
      "cell_type": "code",
      "source": [
        "# Dado que: A é muito pouco significativo (1,15%); B é muito significativo (57,86%): Substitui-se A por B\n",
        "\n",
        "sinasc['ESCMAE'] = sinasc['ESCMAE'].replace(nan, '8 a 11 anos')\n",
        "sinasc['ESCMAE'].unique()"
      ],
      "metadata": {
        "colab": {
          "base_uri": "https://localhost:8080/"
        },
        "id": "0GMJ9oad4Vtw",
        "outputId": "2480028f-2e0e-4d97-dbe4-1a2d58b3d3ae"
      },
      "execution_count": 97,
      "outputs": [
        {
          "output_type": "execute_result",
          "data": {
            "text/plain": [
              "array(['8 a 11 anos', '12 anos ou mais', '1 a 3 anos', '4 a 7 anos',\n",
              "       'Nenhuma'], dtype=object)"
            ]
          },
          "metadata": {},
          "execution_count": 97
        }
      ]
    },
    {
      "cell_type": "code",
      "source": [
        "# Representação dos missings (A) na coluna GRAVIDEZ\n",
        "\n",
        "(sinasc['GRAVIDEZ'].isnull().sum())/QUANT_TOTAL"
      ],
      "metadata": {
        "colab": {
          "base_uri": "https://localhost:8080/"
        },
        "id": "rMtn2abQ4_zw",
        "outputId": "2d3b62e5-7bc2-4a5c-d41e-d1337c74b3c2"
      },
      "execution_count": 98,
      "outputs": [
        {
          "output_type": "execute_result",
          "data": {
            "text/plain": [
              "0.0028226555246053855"
            ]
          },
          "metadata": {},
          "execution_count": 98
        }
      ]
    },
    {
      "cell_type": "code",
      "source": [
        "# Representação da categoria mais frequente (B) na coluna GRAVIDEZ\n",
        "\n",
        "sinasc['GRAVIDEZ'].value_counts()/QUANT_TOTAL"
      ],
      "metadata": {
        "colab": {
          "base_uri": "https://localhost:8080/"
        },
        "id": "P43QQ9yW5AFK",
        "outputId": "e724f70c-05e2-458d-853a-40fc5017e997"
      },
      "execution_count": 99,
      "outputs": [
        {
          "output_type": "execute_result",
          "data": {
            "text/plain": [
              "Única              0.978867\n",
              "Dupla              0.018124\n",
              "Tríplice e mais    0.000186\n",
              "Name: GRAVIDEZ, dtype: float64"
            ]
          },
          "metadata": {},
          "execution_count": 99
        }
      ]
    },
    {
      "cell_type": "code",
      "source": [
        "# Dado que: A é muito pouco significativo (0,28%); B é muito significativo (97,88%): Substitui-se A por B\n",
        "\n",
        "sinasc['GRAVIDEZ'] = sinasc['GRAVIDEZ'].replace(nan, 'Única')\n",
        "sinasc['GRAVIDEZ'].unique()"
      ],
      "metadata": {
        "colab": {
          "base_uri": "https://localhost:8080/"
        },
        "id": "4vKehm5R5AX3",
        "outputId": "011ad61e-8d3a-494d-9afc-5b0484571ef6"
      },
      "execution_count": 100,
      "outputs": [
        {
          "output_type": "execute_result",
          "data": {
            "text/plain": [
              "array(['Única', 'Dupla', 'Tríplice e mais'], dtype=object)"
            ]
          },
          "metadata": {},
          "execution_count": 100
        }
      ]
    },
    {
      "cell_type": "code",
      "execution_count": 101,
      "metadata": {
        "id": "UNbFbsrrFmdp",
        "colab": {
          "base_uri": "https://localhost:8080/"
        },
        "outputId": "a48dd9c6-bfa5-4680-9a9c-60c1851b70fd"
      },
      "outputs": [
        {
          "output_type": "execute_result",
          "data": {
            "text/plain": [
              "normal      24469\n",
              "leve         2235\n",
              "moderada      124\n",
              "severa         80\n",
              "Name: ASFIXIA, dtype: int64"
            ]
          },
          "metadata": {},
          "execution_count": 101
        }
      ],
      "source": [
        "# 8) seu código aqui\n",
        "\n",
        "sinasc['ASFIXIA'] = pd.cut(x=sinasc['APGAR5'],\n",
        "               bins=[0, 4, 6, 8, 11],\n",
        "               labels=['severa', 'moderada', 'leve', 'normal'])\n",
        "              \n",
        "sinasc['ASFIXIA'].value_counts()"
      ]
    },
    {
      "cell_type": "code",
      "execution_count": 102,
      "metadata": {
        "id": "2qiSYML1Fmdr",
        "colab": {
          "base_uri": "https://localhost:8080/"
        },
        "outputId": "0e2898b0-4583-424e-803a-98344210d3c1"
      },
      "outputs": [
        {
          "output_type": "execute_result",
          "data": {
            "text/plain": [
              "Index(['locnasc', 'idademae', 'estcivmae', 'escmae', 'qtdfilvivo', 'gestacao',\n",
              "       'gravidez', 'consultas', 'apgar5', 'asfixia'],\n",
              "      dtype='object')"
            ]
          },
          "metadata": {},
          "execution_count": 102
        }
      ],
      "source": [
        "# 9) seu código aqui\n",
        "\n",
        "sinasc.columns = sinasc.columns.str.lower()\n",
        "\n",
        "sinasc.columns"
      ]
    }
  ],
  "metadata": {
    "kernelspec": {
      "display_name": "Python 3",
      "language": "python",
      "name": "python3"
    },
    "language_info": {
      "codemirror_mode": {
        "name": "ipython",
        "version": 3
      },
      "file_extension": ".py",
      "mimetype": "text/x-python",
      "name": "python",
      "nbconvert_exporter": "python",
      "pygments_lexer": "ipython3",
      "version": "3.8.5"
    },
    "colab": {
      "provenance": []
    }
  },
  "nbformat": 4,
  "nbformat_minor": 0
}