{
  "cells": [
    {
      "cell_type": "markdown",
      "metadata": {
        "id": "Gm-pmW6F_wDc"
      },
      "source": [
        "![image.png](attachment:image.png)\n",
        "\n",
        "# Tarefa I"
      ]
    },
    {
      "cell_type": "markdown",
      "metadata": {
        "id": "4lQw4zHI_wDe"
      },
      "source": [
        "1. Qual a principal diferença entre um *behaviour score* e um *credit score*?"
      ]
    },
    {
      "cell_type": "markdown",
      "source": [
        "`Enquanto os scores de crédito se concentram em histórico de pagamento e dívidas anteriores, o Behavior Scoring considera comportamento financeiro atual do cliente como indicador de risco de crédito`"
      ],
      "metadata": {
        "id": "8JOPpEU7NJ9W"
      }
    },
    {
      "cell_type": "markdown",
      "metadata": {
        "id": "AfEd_8fp_wDe"
      },
      "source": [
        "2. Por que é tão comum se estabelecer janelas de desempenho de 12 meses, e 12 safras para o desenvolvimento de modelos?"
      ]
    },
    {
      "cell_type": "markdown",
      "metadata": {
        "id": "tRPyu7WL_wDe"
      },
      "source": [
        "`Para diminuir os efeitos da sazonalidade no treinamento do modelo`\n",
        "\n",
        "\n",
        "\n"
      ]
    },
    {
      "cell_type": "markdown",
      "metadata": {
        "id": "_gM3xjdn_wDe"
      },
      "source": [
        "3. Qual a diferença entre amostra *out of time* e amostra *out of sample*?"
      ]
    },
    {
      "cell_type": "markdown",
      "metadata": {
        "id": "Pe8B9fSL_wDf"
      },
      "source": [
        "`Ambos são base de dados para testes do modelo, no entanto a construção da amostra out of time é diferenciada com a utilização do intervalo de tempo como critério para a separação dos dados`"
      ]
    },
    {
      "cell_type": "markdown",
      "metadata": {
        "id": "EVDedAbu_wDf"
      },
      "source": [
        "4. Se os dados da variavel resposta estão sistematicamente corrompidos para duas das safras de desenvolvimento, o que você faria?"
      ]
    },
    {
      "cell_type": "markdown",
      "metadata": {
        "id": "62q-KZzD_wDf"
      },
      "source": [
        "`Excluiria da base de desenvolvimento`"
      ]
    }
  ],
  "metadata": {
    "kernelspec": {
      "display_name": "Python 3",
      "language": "python",
      "name": "python3"
    },
    "language_info": {
      "codemirror_mode": {
        "name": "ipython",
        "version": 3
      },
      "file_extension": ".py",
      "mimetype": "text/x-python",
      "name": "python",
      "nbconvert_exporter": "python",
      "pygments_lexer": "ipython3",
      "version": "3.8.5"
    },
    "toc": {
      "base_numbering": 1,
      "nav_menu": {},
      "number_sections": false,
      "sideBar": true,
      "skip_h1_title": true,
      "title_cell": "Índice",
      "title_sidebar": "Conteúdo",
      "toc_cell": false,
      "toc_position": {},
      "toc_section_display": true,
      "toc_window_display": false
    },
    "varInspector": {
      "cols": {
        "lenName": 16,
        "lenType": 16,
        "lenVar": 40
      },
      "kernels_config": {
        "python": {
          "delete_cmd_postfix": "",
          "delete_cmd_prefix": "del ",
          "library": "var_list.py",
          "varRefreshCmd": "print(var_dic_list())"
        },
        "r": {
          "delete_cmd_postfix": ") ",
          "delete_cmd_prefix": "rm(",
          "library": "var_list.r",
          "varRefreshCmd": "cat(var_dic_list()) "
        }
      },
      "types_to_exclude": [
        "module",
        "function",
        "builtin_function_or_method",
        "instance",
        "_Feature"
      ],
      "window_display": false
    },
    "colab": {
      "provenance": []
    }
  },
  "nbformat": 4,
  "nbformat_minor": 0
}