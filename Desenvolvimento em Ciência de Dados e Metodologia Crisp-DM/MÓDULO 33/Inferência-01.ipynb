{
  "cells": [
    {
      "cell_type": "markdown",
      "metadata": {
        "id": "dZA0FjlPwhTC"
      },
      "source": [
        "![image.png](attachment:image.png)"
      ]
    },
    {
      "cell_type": "markdown",
      "metadata": {
        "id": "usxiBIw1whTK"
      },
      "source": [
        "# Tarefa"
      ]
    },
    {
      "cell_type": "code",
      "execution_count": 71,
      "metadata": {
        "id": "wVSRqk0gwhTK"
      },
      "outputs": [],
      "source": [
        "import pandas as pd\n",
        "import seaborn as sns\n",
        "import matplotlib.pyplot as plt\n",
        "import scipy.stats as st\n",
        "import numpy as np"
      ]
    },
    {
      "cell_type": "code",
      "execution_count": 72,
      "metadata": {
        "id": "B4eGJofSwhTM"
      },
      "outputs": [],
      "source": [
        "pg = sns.load_dataset('penguins')"
      ]
    },
    {
      "cell_type": "code",
      "execution_count": 73,
      "metadata": {
        "colab": {
          "base_uri": "https://localhost:8080/",
          "height": 143
        },
        "id": "MasXRl3YwhTO",
        "outputId": "7754501f-0e73-4d15-8c1d-1dae45f06789"
      },
      "outputs": [
        {
          "output_type": "execute_result",
          "data": {
            "text/plain": [
              "        count         mean         std     min     25%     50%     75%     max\n",
              "sex                                                                           \n",
              "Female  165.0  3862.272727  666.172050  2700.0  3350.0  3650.0  4550.0  5200.0\n",
              "Male    168.0  4545.684524  787.628884  3250.0  3900.0  4300.0  5312.5  6300.0"
            ],
            "text/html": [
              "\n",
              "  <div id=\"df-fe8479be-2235-4a76-ac51-9dc46c5d2494\" class=\"colab-df-container\">\n",
              "    <div>\n",
              "<style scoped>\n",
              "    .dataframe tbody tr th:only-of-type {\n",
              "        vertical-align: middle;\n",
              "    }\n",
              "\n",
              "    .dataframe tbody tr th {\n",
              "        vertical-align: top;\n",
              "    }\n",
              "\n",
              "    .dataframe thead th {\n",
              "        text-align: right;\n",
              "    }\n",
              "</style>\n",
              "<table border=\"1\" class=\"dataframe\">\n",
              "  <thead>\n",
              "    <tr style=\"text-align: right;\">\n",
              "      <th></th>\n",
              "      <th>count</th>\n",
              "      <th>mean</th>\n",
              "      <th>std</th>\n",
              "      <th>min</th>\n",
              "      <th>25%</th>\n",
              "      <th>50%</th>\n",
              "      <th>75%</th>\n",
              "      <th>max</th>\n",
              "    </tr>\n",
              "    <tr>\n",
              "      <th>sex</th>\n",
              "      <th></th>\n",
              "      <th></th>\n",
              "      <th></th>\n",
              "      <th></th>\n",
              "      <th></th>\n",
              "      <th></th>\n",
              "      <th></th>\n",
              "      <th></th>\n",
              "    </tr>\n",
              "  </thead>\n",
              "  <tbody>\n",
              "    <tr>\n",
              "      <th>Female</th>\n",
              "      <td>165.0</td>\n",
              "      <td>3862.272727</td>\n",
              "      <td>666.172050</td>\n",
              "      <td>2700.0</td>\n",
              "      <td>3350.0</td>\n",
              "      <td>3650.0</td>\n",
              "      <td>4550.0</td>\n",
              "      <td>5200.0</td>\n",
              "    </tr>\n",
              "    <tr>\n",
              "      <th>Male</th>\n",
              "      <td>168.0</td>\n",
              "      <td>4545.684524</td>\n",
              "      <td>787.628884</td>\n",
              "      <td>3250.0</td>\n",
              "      <td>3900.0</td>\n",
              "      <td>4300.0</td>\n",
              "      <td>5312.5</td>\n",
              "      <td>6300.0</td>\n",
              "    </tr>\n",
              "  </tbody>\n",
              "</table>\n",
              "</div>\n",
              "    <div class=\"colab-df-buttons\">\n",
              "\n",
              "  <div class=\"colab-df-container\">\n",
              "    <button class=\"colab-df-convert\" onclick=\"convertToInteractive('df-fe8479be-2235-4a76-ac51-9dc46c5d2494')\"\n",
              "            title=\"Convert this dataframe to an interactive table.\"\n",
              "            style=\"display:none;\">\n",
              "\n",
              "  <svg xmlns=\"http://www.w3.org/2000/svg\" height=\"24px\" viewBox=\"0 -960 960 960\">\n",
              "    <path d=\"M120-120v-720h720v720H120Zm60-500h600v-160H180v160Zm220 220h160v-160H400v160Zm0 220h160v-160H400v160ZM180-400h160v-160H180v160Zm440 0h160v-160H620v160ZM180-180h160v-160H180v160Zm440 0h160v-160H620v160Z\"/>\n",
              "  </svg>\n",
              "    </button>\n",
              "\n",
              "  <style>\n",
              "    .colab-df-container {\n",
              "      display:flex;\n",
              "      gap: 12px;\n",
              "    }\n",
              "\n",
              "    .colab-df-convert {\n",
              "      background-color: #E8F0FE;\n",
              "      border: none;\n",
              "      border-radius: 50%;\n",
              "      cursor: pointer;\n",
              "      display: none;\n",
              "      fill: #1967D2;\n",
              "      height: 32px;\n",
              "      padding: 0 0 0 0;\n",
              "      width: 32px;\n",
              "    }\n",
              "\n",
              "    .colab-df-convert:hover {\n",
              "      background-color: #E2EBFA;\n",
              "      box-shadow: 0px 1px 2px rgba(60, 64, 67, 0.3), 0px 1px 3px 1px rgba(60, 64, 67, 0.15);\n",
              "      fill: #174EA6;\n",
              "    }\n",
              "\n",
              "    .colab-df-buttons div {\n",
              "      margin-bottom: 4px;\n",
              "    }\n",
              "\n",
              "    [theme=dark] .colab-df-convert {\n",
              "      background-color: #3B4455;\n",
              "      fill: #D2E3FC;\n",
              "    }\n",
              "\n",
              "    [theme=dark] .colab-df-convert:hover {\n",
              "      background-color: #434B5C;\n",
              "      box-shadow: 0px 1px 3px 1px rgba(0, 0, 0, 0.15);\n",
              "      filter: drop-shadow(0px 1px 2px rgba(0, 0, 0, 0.3));\n",
              "      fill: #FFFFFF;\n",
              "    }\n",
              "  </style>\n",
              "\n",
              "    <script>\n",
              "      const buttonEl =\n",
              "        document.querySelector('#df-fe8479be-2235-4a76-ac51-9dc46c5d2494 button.colab-df-convert');\n",
              "      buttonEl.style.display =\n",
              "        google.colab.kernel.accessAllowed ? 'block' : 'none';\n",
              "\n",
              "      async function convertToInteractive(key) {\n",
              "        const element = document.querySelector('#df-fe8479be-2235-4a76-ac51-9dc46c5d2494');\n",
              "        const dataTable =\n",
              "          await google.colab.kernel.invokeFunction('convertToInteractive',\n",
              "                                                    [key], {});\n",
              "        if (!dataTable) return;\n",
              "\n",
              "        const docLinkHtml = 'Like what you see? Visit the ' +\n",
              "          '<a target=\"_blank\" href=https://colab.research.google.com/notebooks/data_table.ipynb>data table notebook</a>'\n",
              "          + ' to learn more about interactive tables.';\n",
              "        element.innerHTML = '';\n",
              "        dataTable['output_type'] = 'display_data';\n",
              "        await google.colab.output.renderOutput(dataTable, element);\n",
              "        const docLink = document.createElement('div');\n",
              "        docLink.innerHTML = docLinkHtml;\n",
              "        element.appendChild(docLink);\n",
              "      }\n",
              "    </script>\n",
              "  </div>\n",
              "\n",
              "\n",
              "<div id=\"df-717baa49-56f9-469d-8220-89c7532a98c1\">\n",
              "  <button class=\"colab-df-quickchart\" onclick=\"quickchart('df-717baa49-56f9-469d-8220-89c7532a98c1')\"\n",
              "            title=\"Suggest charts.\"\n",
              "            style=\"display:none;\">\n",
              "\n",
              "<svg xmlns=\"http://www.w3.org/2000/svg\" height=\"24px\"viewBox=\"0 0 24 24\"\n",
              "     width=\"24px\">\n",
              "    <g>\n",
              "        <path d=\"M19 3H5c-1.1 0-2 .9-2 2v14c0 1.1.9 2 2 2h14c1.1 0 2-.9 2-2V5c0-1.1-.9-2-2-2zM9 17H7v-7h2v7zm4 0h-2V7h2v10zm4 0h-2v-4h2v4z\"/>\n",
              "    </g>\n",
              "</svg>\n",
              "  </button>\n",
              "\n",
              "<style>\n",
              "  .colab-df-quickchart {\n",
              "      --bg-color: #E8F0FE;\n",
              "      --fill-color: #1967D2;\n",
              "      --hover-bg-color: #E2EBFA;\n",
              "      --hover-fill-color: #174EA6;\n",
              "      --disabled-fill-color: #AAA;\n",
              "      --disabled-bg-color: #DDD;\n",
              "  }\n",
              "\n",
              "  [theme=dark] .colab-df-quickchart {\n",
              "      --bg-color: #3B4455;\n",
              "      --fill-color: #D2E3FC;\n",
              "      --hover-bg-color: #434B5C;\n",
              "      --hover-fill-color: #FFFFFF;\n",
              "      --disabled-bg-color: #3B4455;\n",
              "      --disabled-fill-color: #666;\n",
              "  }\n",
              "\n",
              "  .colab-df-quickchart {\n",
              "    background-color: var(--bg-color);\n",
              "    border: none;\n",
              "    border-radius: 50%;\n",
              "    cursor: pointer;\n",
              "    display: none;\n",
              "    fill: var(--fill-color);\n",
              "    height: 32px;\n",
              "    padding: 0;\n",
              "    width: 32px;\n",
              "  }\n",
              "\n",
              "  .colab-df-quickchart:hover {\n",
              "    background-color: var(--hover-bg-color);\n",
              "    box-shadow: 0 1px 2px rgba(60, 64, 67, 0.3), 0 1px 3px 1px rgba(60, 64, 67, 0.15);\n",
              "    fill: var(--button-hover-fill-color);\n",
              "  }\n",
              "\n",
              "  .colab-df-quickchart-complete:disabled,\n",
              "  .colab-df-quickchart-complete:disabled:hover {\n",
              "    background-color: var(--disabled-bg-color);\n",
              "    fill: var(--disabled-fill-color);\n",
              "    box-shadow: none;\n",
              "  }\n",
              "\n",
              "  .colab-df-spinner {\n",
              "    border: 2px solid var(--fill-color);\n",
              "    border-color: transparent;\n",
              "    border-bottom-color: var(--fill-color);\n",
              "    animation:\n",
              "      spin 1s steps(1) infinite;\n",
              "  }\n",
              "\n",
              "  @keyframes spin {\n",
              "    0% {\n",
              "      border-color: transparent;\n",
              "      border-bottom-color: var(--fill-color);\n",
              "      border-left-color: var(--fill-color);\n",
              "    }\n",
              "    20% {\n",
              "      border-color: transparent;\n",
              "      border-left-color: var(--fill-color);\n",
              "      border-top-color: var(--fill-color);\n",
              "    }\n",
              "    30% {\n",
              "      border-color: transparent;\n",
              "      border-left-color: var(--fill-color);\n",
              "      border-top-color: var(--fill-color);\n",
              "      border-right-color: var(--fill-color);\n",
              "    }\n",
              "    40% {\n",
              "      border-color: transparent;\n",
              "      border-right-color: var(--fill-color);\n",
              "      border-top-color: var(--fill-color);\n",
              "    }\n",
              "    60% {\n",
              "      border-color: transparent;\n",
              "      border-right-color: var(--fill-color);\n",
              "    }\n",
              "    80% {\n",
              "      border-color: transparent;\n",
              "      border-right-color: var(--fill-color);\n",
              "      border-bottom-color: var(--fill-color);\n",
              "    }\n",
              "    90% {\n",
              "      border-color: transparent;\n",
              "      border-bottom-color: var(--fill-color);\n",
              "    }\n",
              "  }\n",
              "</style>\n",
              "\n",
              "  <script>\n",
              "    async function quickchart(key) {\n",
              "      const quickchartButtonEl =\n",
              "        document.querySelector('#' + key + ' button');\n",
              "      quickchartButtonEl.disabled = true;  // To prevent multiple clicks.\n",
              "      quickchartButtonEl.classList.add('colab-df-spinner');\n",
              "      try {\n",
              "        const charts = await google.colab.kernel.invokeFunction(\n",
              "            'suggestCharts', [key], {});\n",
              "      } catch (error) {\n",
              "        console.error('Error during call to suggestCharts:', error);\n",
              "      }\n",
              "      quickchartButtonEl.classList.remove('colab-df-spinner');\n",
              "      quickchartButtonEl.classList.add('colab-df-quickchart-complete');\n",
              "    }\n",
              "    (() => {\n",
              "      let quickchartButtonEl =\n",
              "        document.querySelector('#df-717baa49-56f9-469d-8220-89c7532a98c1 button');\n",
              "      quickchartButtonEl.style.display =\n",
              "        google.colab.kernel.accessAllowed ? 'block' : 'none';\n",
              "    })();\n",
              "  </script>\n",
              "</div>\n",
              "    </div>\n",
              "  </div>\n"
            ]
          },
          "metadata": {},
          "execution_count": 73
        }
      ],
      "source": [
        "pg.groupby('sex')['body_mass_g'].describe()"
      ]
    },
    {
      "cell_type": "code",
      "execution_count": 74,
      "metadata": {
        "colab": {
          "base_uri": "https://localhost:8080/",
          "height": 466
        },
        "id": "m79cEC2YwhTP",
        "outputId": "6442c271-28b2-48d0-bac5-eac2ce430dad"
      },
      "outputs": [
        {
          "output_type": "execute_result",
          "data": {
            "text/plain": [
              "<Axes: xlabel='sex', ylabel='body_mass_g'>"
            ]
          },
          "metadata": {},
          "execution_count": 74
        },
        {
          "output_type": "display_data",
          "data": {
            "text/plain": [
              "<Figure size 640x480 with 1 Axes>"
            ],
            "image/png": "[encoded data removed]"
          },
          "metadata": {}
        }
      ],
      "source": [
        "sns.pointplot(data=pg, x='sex', y = 'body_mass_g')"
      ]
    },
    {
      "cell_type": "markdown",
      "metadata": {
        "id": "EolHl4e_whTQ"
      },
      "source": [
        "## 1) Diferença de peso entre machos e fêmeas\n",
        "\n",
        "Na base de pinguins, podemos ver que há diferença de peso entre machos e fêmeas. Mas será que é uma conclusão extrapolável a toda a população de pinguins? Assumindo que essa amostra é aleatória e representativa da população de pinguins, realize um teste T com 5% de significância para verificar se podemos induzir esta conclusão para a população toda."
      ]
    },
    {
      "cell_type": "code",
      "execution_count": 75,
      "metadata": {
        "colab": {
          "base_uri": "https://localhost:8080/"
        },
        "id": "aA--R1PtwhTQ",
        "outputId": "ec56f15c-5122-4129-88dc-d8142d64305c"
      },
      "outputs": [
        {
          "output_type": "stream",
          "name": "stdout",
          "text": [
            "diferença: 683.41\n",
            "desvio padrão: 729.43\n",
            "erro padrão: 326.21\n",
            "estatística do teste: 2.09\n",
            "região crítica: 1.67 ou mais\n",
            "p-value: 0.02020 ou mais\n"
          ]
        }
      ],
      "source": [
        "\n",
        "\n",
        "desvpad = pg.groupby('sex')['body_mass_g'].var().mean()**.5\n",
        "Média_A = pg.groupby('sex')['body_mass_g'].mean()['Female']\n",
        "Média_B = pg.groupby('sex')['body_mass_g'].mean()['Male']\n",
        "\n",
        "diferença = Média_B - Média_A # Numerador da fórmula\n",
        "erro_padrao = desvpad*((2/10)**.5) # variância amostral*raiz(2/n)\n",
        "t = diferença/erro_padrao     # Estatística do teste\n",
        "RC = st.t.ppf(.95, 60)        # Região crítica: sob h0, t está na RC 5% das vezes\n",
        "p_value=1-st.t.cdf(t, 60)     # p-value: a menor significância para a qual rejeitamos o teste\n",
        "\n",
        "print(f'diferença: {diferença:.2f}')\n",
        "print(f'desvio padrão: {desvpad:.2f}')\n",
        "print(f'erro padrão: {erro_padrao:.2f}')\n",
        "print(f'estatística do teste: {t:.2f}')\n",
        "print(f'região crítica: {RC:.2f} ou mais')\n",
        "print(f'p-value: {p_value:.5f} ou mais')"
      ]
    },
    {
      "cell_type": "markdown",
      "metadata": {
        "id": "t0n-CMhWwhTR"
      },
      "source": [
        "## 2) (opcional) Representação gráfica do teste\n",
        "\n",
        "Siga os passos da aula para você poder visualizar a estatística do teste, sua distribuição e a região crítica do teste."
      ]
    },
    {
      "cell_type": "code",
      "execution_count": 76,
      "metadata": {
        "colab": {
          "base_uri": "https://localhost:8080/",
          "height": 308
        },
        "id": "SiedSDdpwhTR",
        "outputId": "0e2ccb1f-11f9-41c2-c0cc-4e811c562190"
      },
      "outputs": [
        {
          "output_type": "stream",
          "name": "stdout",
          "text": [
            "A probabilidade para valores entre 1,67 e inf é de 5,00%\n"
          ]
        },
        {
          "output_type": "display_data",
          "data": {
            "text/plain": [
              "<Figure size 1000x300 with 1 Axes>"
            ],
            "image/png": "[encoded data removed]"
          },
          "metadata": {}
        }
      ],
      "source": [
        "\n",
        "fig, ax = plt.subplots(figsize=(10,3))\n",
        "\n",
        "# Parâmetros da densidade sob H0\n",
        "mu = 0\n",
        "variance = 1\n",
        "sigma = variance**.5\n",
        "\n",
        "# Valores de X e Y para plotar a densidade\n",
        "x = np.linspace(mu - 3*sigma, mu + 3*sigma, 100)\n",
        "y = st.t.pdf(x, 60)\n",
        "\n",
        "# low = início da região crítica do teste\n",
        "low = st.t.ppf(.95, 60)\n",
        "high = np.inf\n",
        "\n",
        "# Gráfico da densidade\n",
        "ax.plot(x, y)\n",
        "# Esta linha de referência marca o valor observado da estatística do teste\n",
        "ax.vlines(x=[t],\n",
        "             ymin=0, ymax=y.max(),\n",
        "             colors='r', linestyles='dotted')\n",
        "\n",
        "# área\n",
        "plt.fill_between(x, y, where=(low < x) & (x < high), alpha=.5)\n",
        "\n",
        "# Probabilidade de X pertencer à área\n",
        "prob_area = st.t.cdf(high, 60) - st.t.cdf(low, 60)\n",
        "print(f'A probabilidade para valores entre {low:.2f} e {high:.2f} é de {prob_area:.2%}'.replace('.',','))"
      ]
    },
    {
      "cell_type": "markdown",
      "metadata": {
        "id": "PPIP5mhSwhTR"
      },
      "source": [
        "## 3) Considere as espécies\n",
        "\n",
        "Repita o exercício I, uma vez para cada espécie de pinguim. Qual é o *p-value* associado a cada raça?"
      ]
    },
    {
      "cell_type": "code",
      "source": [
        "pg['species'].value_counts()"
      ],
      "metadata": {
        "colab": {
          "base_uri": "https://localhost:8080/"
        },
        "id": "R-l67nKhE0Hj",
        "outputId": "dda0f77d-8e33-4e1a-f973-fb5d40666c7d"
      },
      "execution_count": 77,
      "outputs": [
        {
          "output_type": "execute_result",
          "data": {
            "text/plain": [
              "Adelie       152\n",
              "Gentoo       124\n",
              "Chinstrap     68\n",
              "Name: species, dtype: int64"
            ]
          },
          "metadata": {},
          "execution_count": 77
        }
      ]
    },
    {
      "cell_type": "code",
      "execution_count": 78,
      "metadata": {
        "colab": {
          "base_uri": "https://localhost:8080/"
        },
        "id": "vvNP3-k1whTS",
        "outputId": "d24f804e-759e-49f5-c664-05686135341d"
      },
      "outputs": [
        {
          "output_type": "stream",
          "name": "stdout",
          "text": [
            "p-value da espécie Adelie: 0.00000 ou mais\n"
          ]
        }
      ],
      "source": [
        "\n",
        "pg_ad = pg[pg['species'] == 'Adelie'] # base da espécie Adelie\n",
        "\n",
        "desvpad = pg_ad.groupby('sex')['body_mass_g'].var().mean()**.5\n",
        "Média_A = pg_ad.groupby('sex')['body_mass_g'].mean()['Female']\n",
        "Média_B = pg_ad.groupby('sex')['body_mass_g'].mean()['Male']\n",
        "\n",
        "diferença = Média_B - Média_A # Numerador da fórmula\n",
        "erro_padrao = desvpad*((2/10)**.5) # variância amostral*raiz(2/n)\n",
        "t = diferença/erro_padrao     # Estatística do teste\n",
        "RC = st.t.ppf(.95, 60)        # Região crítica: sob h0, t está na RC 5% das vezes\n",
        "p_value=1-st.t.cdf(t, 60)     # p-value: a menor significância para a qual rejeitamos o teste\n",
        "\n",
        "print(f'p-value da espécie Adelie: {p_value:.5f} ou mais')"
      ]
    },
    {
      "cell_type": "code",
      "source": [
        "\n",
        "pg_ge = pg[pg['species'] == 'Gentoo'] # base da espécie Gentoo\n",
        "\n",
        "desvpad = pg_ge.groupby('sex')['body_mass_g'].var().mean()**.5\n",
        "Média_A = pg_ge.groupby('sex')['body_mass_g'].mean()['Female']\n",
        "Média_B = pg_ge.groupby('sex')['body_mass_g'].mean()['Male']\n",
        "\n",
        "diferença = Média_B - Média_A # Numerador da fórmula\n",
        "erro_padrao = desvpad*((2/10)**.5) # variância amostral*raiz(2/n)\n",
        "t = diferença/erro_padrao     # Estatística do teste\n",
        "RC = st.t.ppf(.95, 60)        # Região crítica: sob h0, t está na RC 5% das vezes\n",
        "p_value=1-st.t.cdf(t, 60)     # p-value: a menor significância para a qual rejeitamos o teste\n",
        "\n",
        "\n",
        "print(f'p-value da espécie Gentoo: {p_value:.5f} ou mais')"
      ],
      "metadata": {
        "colab": {
          "base_uri": "https://localhost:8080/"
        },
        "id": "5q3KrIfADf3P",
        "outputId": "70eaeb7d-ce79-4171-8264-b99fa8d961f3"
      },
      "execution_count": 79,
      "outputs": [
        {
          "output_type": "stream",
          "name": "stdout",
          "text": [
            "p-value da espécie Gentoo: 0.00000 ou mais\n"
          ]
        }
      ]
    },
    {
      "cell_type": "code",
      "source": [
        "\n",
        "pg_ch = pg[pg['species'] == 'Chinstrap'] # base da espécie Chinstrap\n",
        "\n",
        "desvpad = pg_ch.groupby('sex')['body_mass_g'].var().mean()**.5\n",
        "Média_A = pg_ch.groupby('sex')['body_mass_g'].mean()['Female']\n",
        "Média_B = pg_ch.groupby('sex')['body_mass_g'].mean()['Male']\n",
        "\n",
        "diferença = Média_B - Média_A # Numerador da fórmula\n",
        "erro_padrao = desvpad*((2/10)**.5) # variância amostral*raiz(2/n)\n",
        "t = diferença/erro_padrao     # Estatística do teste\n",
        "RC = st.t.ppf(.95, 60)        # Região crítica: sob h0, t está na RC 5% das vezes\n",
        "p_value=1-st.t.cdf(t, 60)     # p-value: a menor significância para a qual rejeitamos o teste\n",
        "\n",
        "\n",
        "print(f'p-value da espécie Chinstrap: {p_value:.5f} ou mais')"
      ],
      "metadata": {
        "colab": {
          "base_uri": "https://localhost:8080/"
        },
        "id": "NS6LeSPLF2rm",
        "outputId": "248fbd1b-3640-4ec1-9f41-9ad2f605d7cd"
      },
      "execution_count": 80,
      "outputs": [
        {
          "output_type": "stream",
          "name": "stdout",
          "text": [
            "p-value da espécie Chinstrap: 0.00321 ou mais\n"
          ]
        }
      ]
    }
  ],
  "metadata": {
    "kernelspec": {
      "display_name": "Python 3",
      "language": "python",
      "name": "python3"
    },
    "language_info": {
      "codemirror_mode": {
        "name": "ipython",
        "version": 3
      },
      "file_extension": ".py",
      "mimetype": "text/x-python",
      "name": "python",
      "nbconvert_exporter": "python",
      "pygments_lexer": "ipython3",
      "version": "3.8.5"
    },
    "toc": {
      "base_numbering": 1,
      "nav_menu": {},
      "number_sections": false,
      "sideBar": true,
      "skip_h1_title": true,
      "title_cell": "Índice",
      "title_sidebar": "Conteúdo",
      "toc_cell": false,
      "toc_position": {},
      "toc_section_display": true,
      "toc_window_display": false
    },
    "varInspector": {
      "cols": {
        "lenName": 16,
        "lenType": 16,
        "lenVar": 40
      },
      "kernels_config": {
        "python": {
          "delete_cmd_postfix": "",
          "delete_cmd_prefix": "del ",
          "library": "var_list.py",
          "varRefreshCmd": "print(var_dic_list())"
        },
        "r": {
          "delete_cmd_postfix": ") ",
          "delete_cmd_prefix": "rm(",
          "library": "var_list.r",
          "varRefreshCmd": "cat(var_dic_list()) "
        }
      },
      "types_to_exclude": [
        "module",
        "function",
        "builtin_function_or_method",
        "instance",
        "_Feature"
      ],
      "window_display": false
    },
    "colab": {
      "provenance": []
    }
  },
  "nbformat": 4,
  "nbformat_minor": 0
}