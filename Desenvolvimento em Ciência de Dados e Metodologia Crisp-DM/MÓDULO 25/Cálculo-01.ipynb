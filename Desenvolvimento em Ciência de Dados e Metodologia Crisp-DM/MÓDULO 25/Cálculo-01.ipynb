{
  "cells": [
    {
      "cell_type": "markdown",
      "metadata": {
        "id": "N5qqRJR3JCRR"
      },
      "source": [
        "# Cálculo - Tarefa 01\n",
        "\n",
        "1. Marque quais desses métodos/algoritmos muito populares em ciência de dados são baseados no uso de derivada:\n",
        "\n",
        "    1. Método Mínimos Quadrados\n",
        "    2. Gradiente descendente\n",
        "    3. Newton Raphson\n",
        "    4. CART (Árvore de decisão)"
      ]
    },
    {
      "cell_type": "markdown",
      "source": [
        "Método Mínimos Quadrados, Gradiente descendente, 3. Newton Raphson\n",
        "\n",
        "---\n",
        "\n"
      ],
      "metadata": {
        "id": "DHxUeovVJGZP"
      }
    },
    {
      "cell_type": "markdown",
      "metadata": {
        "id": "QF8J-jyQJCRV"
      },
      "source": [
        "2. Dada uma base de dados com uma variável resposta $y$ e um conjunto de variáveis explicativas. Considere uma estrutura de um modelo de regressão. Explique com suas palavras por que não é possível obter parâmetros que forneçam um erro quadrático médio (EQM) menor que o obtido com estimadores de mínimos quadrados."
      ]
    },
    {
      "cell_type": "markdown",
      "source": [
        "Não é possível pois o EQM obtido pelos estimadores é resultado da derivação, aproximando ao máximo do EQM ideal"
      ],
      "metadata": {
        "id": "r4USlmtmV76s"
      }
    },
    {
      "cell_type": "code",
      "source": [],
      "metadata": {
        "id": "3ZNJR9dgV7cF"
      },
      "execution_count": null,
      "outputs": []
    },
    {
      "cell_type": "code",
      "execution_count": null,
      "metadata": {
        "id": "GhumXhHzJCRW"
      },
      "outputs": [],
      "source": []
    }
  ],
  "metadata": {
    "kernelspec": {
      "display_name": "Python 3",
      "language": "python",
      "name": "python3"
    },
    "language_info": {
      "codemirror_mode": {
        "name": "ipython",
        "version": 3
      },
      "file_extension": ".py",
      "mimetype": "text/x-python",
      "name": "python",
      "nbconvert_exporter": "python",
      "pygments_lexer": "ipython3",
      "version": "3.8.5"
    },
    "toc": {
      "base_numbering": 1,
      "nav_menu": {},
      "number_sections": true,
      "sideBar": true,
      "skip_h1_title": true,
      "title_cell": "Índice",
      "title_sidebar": "Conteúdo",
      "toc_cell": false,
      "toc_position": {},
      "toc_section_display": true,
      "toc_window_display": false
    },
    "varInspector": {
      "cols": {
        "lenName": 16,
        "lenType": 16,
        "lenVar": 40
      },
      "kernels_config": {
        "python": {
          "delete_cmd_postfix": "",
          "delete_cmd_prefix": "del ",
          "library": "var_list.py",
          "varRefreshCmd": "print(var_dic_list())"
        },
        "r": {
          "delete_cmd_postfix": ") ",
          "delete_cmd_prefix": "rm(",
          "library": "var_list.r",
          "varRefreshCmd": "cat(var_dic_list()) "
        }
      },
      "types_to_exclude": [
        "module",
        "function",
        "builtin_function_or_method",
        "instance",
        "_Feature"
      ],
      "window_display": false
    },
    "colab": {
      "provenance": []
    }
  },
  "nbformat": 4,
  "nbformat_minor": 0
}