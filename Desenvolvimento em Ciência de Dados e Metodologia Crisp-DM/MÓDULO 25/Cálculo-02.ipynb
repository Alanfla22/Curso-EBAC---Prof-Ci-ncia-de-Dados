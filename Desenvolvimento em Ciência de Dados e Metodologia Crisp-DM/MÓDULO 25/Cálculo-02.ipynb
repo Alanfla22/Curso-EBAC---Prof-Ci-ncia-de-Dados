{
  "cells": [
    {
      "cell_type": "markdown",
      "metadata": {
        "id": "0-MWLIFYZNDM"
      },
      "source": [
        "# Cálculo - Tarefa 02\n",
        "\n",
        "1- Calcule de forma numérica a integral da função $x^3$ avaliada entre os pontos $1$ e $2$. Identifique o número de retângulos que você usou.  \n",
        "2- Calcule essa área de forma analítica."
      ]
    },
    {
      "cell_type": "markdown",
      "source": [
        "R1: Variação da área entre os dois pontos:(2-1)³/2 = 0,5\n",
        "\n",
        "Área total = 1³ + 0,5;\n",
        "Área total = 1,5\n",
        "\n",
        "OBS: Foi usado um quadrado (1³ x 1) e um triângulo ((2-1)³/2)"
      ],
      "metadata": {
        "id": "MNnyxxKJZXU8"
      }
    },
    {
      "cell_type": "markdown",
      "source": [
        "R2: integral de x³ = -1/2x² + k\n",
        "\n",
        "Então a variação da integral entre os pontos 1 e 2 é igual a:\n",
        "(-1/2.2² + k) - (-1/2.1² + k) =\n",
        "-1/8 + 1/2 =\n",
        "3/8 =\n",
        "0,375\n",
        "\n",
        "área total = 1³ + 0,375;\n",
        "área total = 1,375\n"
      ],
      "metadata": {
        "id": "NVxZbxIkZynD"
      }
    },
    {
      "cell_type": "code",
      "execution_count": null,
      "metadata": {
        "id": "5N5r-b5GZNDO"
      },
      "outputs": [],
      "source": []
    }
  ],
  "metadata": {
    "kernelspec": {
      "display_name": "Python 3",
      "language": "python",
      "name": "python3"
    },
    "language_info": {
      "codemirror_mode": {
        "name": "ipython",
        "version": 3
      },
      "file_extension": ".py",
      "mimetype": "text/x-python",
      "name": "python",
      "nbconvert_exporter": "python",
      "pygments_lexer": "ipython3",
      "version": "3.8.5"
    },
    "toc": {
      "base_numbering": 1,
      "nav_menu": {},
      "number_sections": true,
      "sideBar": true,
      "skip_h1_title": true,
      "title_cell": "Índice",
      "title_sidebar": "Conteúdo",
      "toc_cell": false,
      "toc_position": {},
      "toc_section_display": true,
      "toc_window_display": false
    },
    "varInspector": {
      "cols": {
        "lenName": 16,
        "lenType": 16,
        "lenVar": 40
      },
      "kernels_config": {
        "python": {
          "delete_cmd_postfix": "",
          "delete_cmd_prefix": "del ",
          "library": "var_list.py",
          "varRefreshCmd": "print(var_dic_list())"
        },
        "r": {
          "delete_cmd_postfix": ") ",
          "delete_cmd_prefix": "rm(",
          "library": "var_list.r",
          "varRefreshCmd": "cat(var_dic_list()) "
        }
      },
      "types_to_exclude": [
        "module",
        "function",
        "builtin_function_or_method",
        "instance",
        "_Feature"
      ],
      "window_display": false
    },
    "colab": {
      "provenance": []
    }
  },
  "nbformat": 4,
  "nbformat_minor": 0
}