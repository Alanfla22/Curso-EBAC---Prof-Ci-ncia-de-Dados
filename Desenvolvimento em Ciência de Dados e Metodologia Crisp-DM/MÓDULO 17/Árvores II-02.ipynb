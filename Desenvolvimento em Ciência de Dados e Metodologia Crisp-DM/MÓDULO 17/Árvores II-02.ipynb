{
  "cells": [
    {
      "cell_type": "markdown",
      "metadata": {
        "id": "4xUg1qoVFiY4"
      },
      "source": [
        "# Árvores II - Tarefa 2"
      ]
    },
    {
      "cell_type": "markdown",
      "metadata": {
        "id": "FyQg_eVlFiY_"
      },
      "source": [
        "### 1. Carregar as bases\n",
        "\n",
        "Vamos carregar as bases lidas na tarefa passada. Se você salvou essas bases em arquivo texto, basta fazer a leitura com o comando ```pd.read_csv``` das seguintes bases:\n",
        "\n",
        "- X_train\n",
        "- Y_train\n",
        "- X_test\n",
        "- Y_test\n",
        "\n",
        "Não se esqueça de considerar a leitura dos índices dos arquivos no ```read_csv()```!"
      ]
    },
    {
      "cell_type": "code",
      "execution_count": 105,
      "metadata": {
        "id": "tFpb2-FcFiZD"
      },
      "outputs": [],
      "source": [
        "import pandas as pd\n",
        "import seaborn as sns\n",
        "import matplotlib.pyplot as plt\n",
        "import numpy as np\n",
        "from sklearn.tree import DecisionTreeClassifier\n",
        "from sklearn.model_selection import train_test_split\n"
      ]
    },
    {
      "cell_type": "code",
      "source": [
        "from google.colab import drive\n",
        "drive.mount('/content/drive')"
      ],
      "metadata": {
        "colab": {
          "base_uri": "https://localhost:8080/"
        },
        "id": "zgLGoLuWg8Vl",
        "outputId": "b09f25fd-cbe7-443d-bb34-9c770e936c88"
      },
      "execution_count": 106,
      "outputs": [
        {
          "output_type": "stream",
          "name": "stdout",
          "text": [
            "Drive already mounted at /content/drive; to attempt to forcibly remount, call drive.mount(\"/content/drive\", force_remount=True).\n"
          ]
        }
      ]
    },
    {
      "cell_type": "code",
      "execution_count": 107,
      "metadata": {
        "id": "dd3vZ6iTFiZJ"
      },
      "outputs": [],
      "source": [
        "\n",
        "X_train = pd.read_csv('/content/drive/MyDrive/X_train_comp.csv')\n",
        "y_train = pd.read_csv('/content/drive/MyDrive/y_train.txt', sep=' ', header=None)\n",
        "X_test = pd.read_csv('/content/drive/MyDrive/X_test_comp.csv')\n",
        "y_test = pd.read_csv('/content/drive/MyDrive/y_test.txt', sep=' ', header=None)"
      ]
    },
    {
      "cell_type": "code",
      "source": [
        "y_train.columns = ['status']\n",
        "y_test.columns = ['status']"
      ],
      "metadata": {
        "id": "8TYVP_CHk6Kb"
      },
      "execution_count": 108,
      "outputs": []
    },
    {
      "cell_type": "code",
      "source": [
        "X_train.drop(labels='Unnamed: 0', axis=1, inplace=True)\n",
        "X_test.drop(labels='Unnamed: 0', axis=1, inplace=True)"
      ],
      "metadata": {
        "id": "z7WYPXplmVGx"
      },
      "execution_count": 109,
      "outputs": []
    },
    {
      "cell_type": "markdown",
      "metadata": {
        "id": "WjHGZ5EyFiZL"
      },
      "source": [
        "### 2. Divisão da base em Treino, Validação e Teste\n",
        "\n",
        "A base já se encontra dividida em Treino e Validação. O que vamos fazer então é extrair uma base de Validação da base de Treino.\n",
        "\n",
        "Extraia 25% da base de treino como base de validação."
      ]
    },
    {
      "cell_type": "code",
      "execution_count": 110,
      "metadata": {
        "id": "CG-oxefKFiZN"
      },
      "outputs": [],
      "source": [
        "\n",
        "X_train, X_valid, y_train, y_valid = train_test_split(X_train, y_train, test_size=.25, random_state=1729)"
      ]
    },
    {
      "cell_type": "markdown",
      "metadata": {
        "id": "-cZ7Y-AiFiZO"
      },
      "source": [
        "### 3. Melhores 3 variáveis\n",
        "\n",
        "Rode uma árvore com profundidade máxima igual a 4 para prever a atividade humana com todas as variáveis.\n",
        "Observe a importância das variáveis e considere as 3 variáveis com maior importância para os próximos passos.\n",
        "Dica: utilize o atributo ```clf.feature_importances_``` da árvore treinada."
      ]
    },
    {
      "cell_type": "code",
      "execution_count": 111,
      "metadata": {
        "id": "SC54zAw4FiZQ"
      },
      "outputs": [],
      "source": [
        "# Rode uma árvore com profundidade máxima igual a 4 para prever a atividade humana com todas as variáveis\n",
        "\n",
        "clf = DecisionTreeClassifier(random_state=2360873, max_depth=4).fit(X_train, y_train)"
      ]
    },
    {
      "cell_type": "code",
      "source": [
        "# considere as 3 variáveis com maior importância para os próximos passos\n",
        "\n",
        "indice_importancia = []\n",
        "\n",
        "lista_importancia = clf.feature_importances_\n",
        "\n",
        "while len(indice_importancia) < 3:\n",
        "\n",
        "  indice_importancia.append(np.argmax(lista_importancia))\n",
        "\n",
        "  lista_importancia[np.argmax(lista_importancia)] = 0\n",
        "\n",
        "X_train.columns[indice_importancia] # As 3 variáveis com maior importância\n"
      ],
      "metadata": {
        "colab": {
          "base_uri": "https://localhost:8080/"
        },
        "id": "W-bo5velUjYN",
        "outputId": "a4e3e7d1-bff8-4430-f18b-72ee95dbfaea"
      },
      "execution_count": 112,
      "outputs": [
        {
          "output_type": "execute_result",
          "data": {
            "text/plain": [
              "Index(['tGravityAcc-energy()-X', 'fBodyAcc-mad()-X', 'angle(Y,gravityMean)'], dtype='object')"
            ]
          },
          "metadata": {},
          "execution_count": 112
        }
      ]
    },
    {
      "cell_type": "markdown",
      "metadata": {
        "id": "tSmmFhtOFiZR"
      },
      "source": [
        "### 4. Construa uma árvore com as 3 melhores variáveis\n",
        "\n",
        "Utilizando as três variáveis encontradas acima, construa uma árvore de decisão. Encontre o melhor ```ccp_alpha``` utilizando a base de validação, conforme a estrutura que vimos em aula."
      ]
    },
    {
      "cell_type": "code",
      "source": [
        "\n",
        "caminho = DecisionTreeClassifier(random_state=2360873).cost_complexity_pruning_path(X_train[['tGravityAcc-energy()-X', 'fBodyAcc-mad()-X', 'angle(Y,gravityMean)']], y_train)\n",
        "ccp_alphas, impurities = caminho.ccp_alphas, caminho.impurities"
      ],
      "metadata": {
        "id": "DCSCyAEm7yf-"
      },
      "execution_count": 113,
      "outputs": []
    },
    {
      "cell_type": "code",
      "source": [
        "\n",
        "clfs = []\n",
        "for ccp_alpha in ccp_alphas:\n",
        "    clf = DecisionTreeClassifier(random_state=2360873, ccp_alpha=ccp_alpha).fit(X_train[['tGravityAcc-energy()-X', 'fBodyAcc-mad()-X', 'angle(Y,gravityMean)']], y_train)\n",
        "    clfs.append(clf)"
      ],
      "metadata": {
        "id": "xqACo0Tu7x8F"
      },
      "execution_count": 114,
      "outputs": []
    },
    {
      "cell_type": "code",
      "execution_count": 115,
      "metadata": {
        "id": "K2JlwXD3FiZT",
        "colab": {
          "base_uri": "https://localhost:8080/",
          "height": 472
        },
        "outputId": "5945a60c-23b4-4a3a-e778-47abaf538f7d"
      },
      "outputs": [
        {
          "output_type": "display_data",
          "data": {
            "text/plain": [
              "<Figure size 640x480 with 1 Axes>"
            ],
            "image/png": "[encoded data removed]"
          },
          "metadata": {}
        }
      ],
      "source": [
        "\n",
        "# Encontre o melhor ccp_alpha utilizando a base de validação\n",
        "\n",
        "train_scores = [clf.score(X_train[['tGravityAcc-energy()-X', 'fBodyAcc-mad()-X', 'angle(Y,gravityMean)']], y_train) for clf in clfs]\n",
        "valid_scores = [clf.score(X_valid[['tGravityAcc-energy()-X', 'fBodyAcc-mad()-X', 'angle(Y,gravityMean)']], y_valid) for clf in clfs]\n",
        "\n",
        "fig, ax = plt.subplots()\n",
        "ax.set_xlabel(\"alpha\")\n",
        "ax.set_ylabel(\"Acurácia\")\n",
        "ax.set_title(\"Acurácia x alpha do conjunto de dados de treino e validação\")\n",
        "ax.plot(ccp_alphas, train_scores, marker='o', label=\"validação\",\n",
        "        drawstyle=\"steps-post\")\n",
        "ax.plot(ccp_alphas, valid_scores, marker='o', label=\"teste\",\n",
        "        drawstyle=\"steps-post\")\n",
        "ax.legend()\n",
        "plt.show()"
      ]
    },
    {
      "cell_type": "code",
      "source": [
        "\n",
        "\n",
        "ind_melhor_arvore = len(valid_scores) - valid_scores[::-1].index(max(valid_scores)) - 1\n",
        "melhor_arvore = clfs[ind_melhor_arvore]\n",
        "\n",
        "print(f'Acurácia da melhor árvore na base de validação: {valid_scores[ind_melhor_arvore]*100:.2f}')\n",
        "\n",
        "melhor_arvore"
      ],
      "metadata": {
        "colab": {
          "base_uri": "https://localhost:8080/",
          "height": 93
        },
        "id": "S6w3i1o562Mk",
        "outputId": "9be3174b-d434-41e4-b068-7e807cd47ca8"
      },
      "execution_count": 116,
      "outputs": [
        {
          "output_type": "stream",
          "name": "stdout",
          "text": [
            "Acurácia da melhor árvore na base de validação: 88.63\n"
          ]
        },
        {
          "output_type": "execute_result",
          "data": {
            "text/plain": [
              "DecisionTreeClassifier(ccp_alpha=0.00047359892972861743, random_state=2360873)"
            ],
            "text/html": [
              "<style>#sk-container-id-4 {color: black;background-color: white;}#sk-container-id-4 pre{padding: 0;}#sk-container-id-4 div.sk-toggleable {background-color: white;}#sk-container-id-4 label.sk-toggleable__label {cursor: pointer;display: block;width: 100%;margin-bottom: 0;padding: 0.3em;box-sizing: border-box;text-align: center;}#sk-container-id-4 label.sk-toggleable__label-arrow:before {content: \"▸\";float: left;margin-right: 0.25em;color: #696969;}#sk-container-id-4 label.sk-toggleable__label-arrow:hover:before {color: black;}#sk-container-id-4 div.sk-estimator:hover label.sk-toggleable__label-arrow:before {color: black;}#sk-container-id-4 div.sk-toggleable__content {max-height: 0;max-width: 0;overflow: hidden;text-align: left;background-color: #f0f8ff;}#sk-container-id-4 div.sk-toggleable__content pre {margin: 0.2em;color: black;border-radius: 0.25em;background-color: #f0f8ff;}#sk-container-id-4 input.sk-toggleable__control:checked~div.sk-toggleable__content {max-height: 200px;max-width: 100%;overflow: auto;}#sk-container-id-4 input.sk-toggleable__control:checked~label.sk-toggleable__label-arrow:before {content: \"▾\";}#sk-container-id-4 div.sk-estimator input.sk-toggleable__control:checked~label.sk-toggleable__label {background-color: #d4ebff;}#sk-container-id-4 div.sk-label input.sk-toggleable__control:checked~label.sk-toggleable__label {background-color: #d4ebff;}#sk-container-id-4 input.sk-hidden--visually {border: 0;clip: rect(1px 1px 1px 1px);clip: rect(1px, 1px, 1px, 1px);height: 1px;margin: -1px;overflow: hidden;padding: 0;position: absolute;width: 1px;}#sk-container-id-4 div.sk-estimator {font-family: monospace;background-color: #f0f8ff;border: 1px dotted black;border-radius: 0.25em;box-sizing: border-box;margin-bottom: 0.5em;}#sk-container-id-4 div.sk-estimator:hover {background-color: #d4ebff;}#sk-container-id-4 div.sk-parallel-item::after {content: \"\";width: 100%;border-bottom: 1px solid gray;flex-grow: 1;}#sk-container-id-4 div.sk-label:hover label.sk-toggleable__label {background-color: #d4ebff;}#sk-container-id-4 div.sk-serial::before {content: \"\";position: absolute;border-left: 1px solid gray;box-sizing: border-box;top: 0;bottom: 0;left: 50%;z-index: 0;}#sk-container-id-4 div.sk-serial {display: flex;flex-direction: column;align-items: center;background-color: white;padding-right: 0.2em;padding-left: 0.2em;position: relative;}#sk-container-id-4 div.sk-item {position: relative;z-index: 1;}#sk-container-id-4 div.sk-parallel {display: flex;align-items: stretch;justify-content: center;background-color: white;position: relative;}#sk-container-id-4 div.sk-item::before, #sk-container-id-4 div.sk-parallel-item::before {content: \"\";position: absolute;border-left: 1px solid gray;box-sizing: border-box;top: 0;bottom: 0;left: 50%;z-index: -1;}#sk-container-id-4 div.sk-parallel-item {display: flex;flex-direction: column;z-index: 1;position: relative;background-color: white;}#sk-container-id-4 div.sk-parallel-item:first-child::after {align-self: flex-end;width: 50%;}#sk-container-id-4 div.sk-parallel-item:last-child::after {align-self: flex-start;width: 50%;}#sk-container-id-4 div.sk-parallel-item:only-child::after {width: 0;}#sk-container-id-4 div.sk-dashed-wrapped {border: 1px dashed gray;margin: 0 0.4em 0.5em 0.4em;box-sizing: border-box;padding-bottom: 0.4em;background-color: white;}#sk-container-id-4 div.sk-label label {font-family: monospace;font-weight: bold;display: inline-block;line-height: 1.2em;}#sk-container-id-4 div.sk-label-container {text-align: center;}#sk-container-id-4 div.sk-container {/* jupyter's `normalize.less` sets `[hidden] { display: none; }` but bootstrap.min.css set `[hidden] { display: none !important; }` so we also need the `!important` here to be able to override the default hidden behavior on the sphinx rendered scikit-learn.org. See: https://github.com/scikit-learn/scikit-learn/issues/21755 */display: inline-block !important;position: relative;}#sk-container-id-4 div.sk-text-repr-fallback {display: none;}</style><div id=\"sk-container-id-4\" class=\"sk-top-container\"><div class=\"sk-text-repr-fallback\"><pre>DecisionTreeClassifier(ccp_alpha=0.00047359892972861743, random_state=2360873)</pre><b>In a Jupyter environment, please rerun this cell to show the HTML representation or trust the notebook. <br />On GitHub, the HTML representation is unable to render, please try loading this page with nbviewer.org.</b></div><div class=\"sk-container\" hidden><div class=\"sk-item\"><div class=\"sk-estimator sk-toggleable\"><input class=\"sk-toggleable__control sk-hidden--visually\" id=\"sk-estimator-id-4\" type=\"checkbox\" checked><label for=\"sk-estimator-id-4\" class=\"sk-toggleable__label sk-toggleable__label-arrow\">DecisionTreeClassifier</label><div class=\"sk-toggleable__content\"><pre>DecisionTreeClassifier(ccp_alpha=0.00047359892972861743, random_state=2360873)</pre></div></div></div></div></div>"
            ]
          },
          "metadata": {},
          "execution_count": 116
        }
      ]
    },
    {
      "cell_type": "markdown",
      "metadata": {
        "id": "dboScc4mFiZV"
      },
      "source": [
        "### 5. Avaliação do modelo\n",
        "\n",
        "Avalie a árvore encontrada no item anterior na base de testes."
      ]
    },
    {
      "cell_type": "code",
      "execution_count": 117,
      "metadata": {
        "id": "5axTY7qkFiZW",
        "colab": {
          "base_uri": "https://localhost:8080/"
        },
        "outputId": "a9866c1c-68f6-4809-9785-6de1e9a9f494"
      },
      "outputs": [
        {
          "output_type": "stream",
          "name": "stdout",
          "text": [
            "Acurácia: 72.28\n"
          ]
        }
      ],
      "source": [
        "\n",
        "acuracia_teste = melhor_arvore.score(X_test[['tGravityAcc-energy()-X', 'fBodyAcc-mad()-X', 'angle(Y,gravityMean)']], y_test)\n",
        "\n",
        "print(f'Acurácia: {acuracia_teste*100:.2f}')\n",
        "\n"
      ]
    }
  ],
  "metadata": {
    "kernelspec": {
      "display_name": "Python 3",
      "language": "python",
      "name": "python3"
    },
    "language_info": {
      "codemirror_mode": {
        "name": "ipython",
        "version": 3
      },
      "file_extension": ".py",
      "mimetype": "text/x-python",
      "name": "python",
      "nbconvert_exporter": "python",
      "pygments_lexer": "ipython3",
      "version": "3.8.5"
    },
    "colab": {
      "provenance": []
    }
  },
  "nbformat": 4,
  "nbformat_minor": 0
}