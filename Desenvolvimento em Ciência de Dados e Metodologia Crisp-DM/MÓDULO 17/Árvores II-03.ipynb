{
  "cells": [
    {
      "cell_type": "markdown",
      "metadata": {
        "id": "NXrBJu-rGrc2"
      },
      "source": [
        "![image.png](attachment:image.png)"
      ]
    },
    {
      "cell_type": "markdown",
      "metadata": {
        "id": "PopuCRaMGrc9"
      },
      "source": [
        "# Árvores II - Tarefa 3"
      ]
    },
    {
      "cell_type": "markdown",
      "metadata": {
        "id": "aoDmNlsoGrc_"
      },
      "source": [
        "### 1. Carregar as bases\n",
        "\n",
        "Vamos utilizar nesta tarefa as bases de reconhecimento de atividade humana através do celular. Carregue novamente as bases salvas na tarefa I."
      ]
    },
    {
      "cell_type": "code",
      "execution_count": 176,
      "metadata": {
        "id": "t8IklVATGrdD"
      },
      "outputs": [],
      "source": [
        "import pandas as pd\n",
        "import seaborn as sns\n",
        "import matplotlib.pyplot as plt\n",
        "import numpy as np\n",
        "from sklearn.tree import DecisionTreeClassifier\n",
        "from sklearn.model_selection import train_test_split\n",
        "from sklearn.model_selection import GridSearchCV\n",
        "from sklearn.metrics import ConfusionMatrixDisplay"
      ]
    },
    {
      "cell_type": "code",
      "source": [
        "from google.colab import drive\n",
        "drive.mount('/content/drive')"
      ],
      "metadata": {
        "colab": {
          "base_uri": "https://localhost:8080/"
        },
        "id": "G1CNOkWWevJQ",
        "outputId": "a2e1ab77-dbf5-4132-ca0d-fb052ff1dc19"
      },
      "execution_count": 177,
      "outputs": [
        {
          "output_type": "stream",
          "name": "stdout",
          "text": [
            "Drive already mounted at /content/drive; to attempt to forcibly remount, call drive.mount(\"/content/drive\", force_remount=True).\n"
          ]
        }
      ]
    },
    {
      "cell_type": "code",
      "execution_count": 178,
      "metadata": {
        "id": "FA9GkRRVGrdI"
      },
      "outputs": [],
      "source": [
        "X_train = pd.read_csv('/content/drive/MyDrive/X_train_comp.csv')\n",
        "y_train = pd.read_csv('/content/drive/MyDrive/y_train.txt', sep=' ', header=None)\n",
        "X_test = pd.read_csv('/content/drive/MyDrive/X_test_comp.csv')\n",
        "y_test = pd.read_csv('/content/drive/MyDrive/y_test.txt', sep=' ', header=None)"
      ]
    },
    {
      "cell_type": "markdown",
      "metadata": {
        "id": "EMSbyIqPGrdK"
      },
      "source": [
        "### 2. Calcule os ```ccp_alphas```.\n",
        "\n",
        "Vamos seguir uma lógica bem em linha com o que já estamso acostumados, com as seguintes orientações:\n",
        "\n",
        "- Utilizar treinamento e teste conforme já vieram definidos originalmente\n",
        "- Por pragmatismo, utilizar ```min_samples_leaf=20```\n",
        "- Utilize as mesmas \"3 melhores variáveis\" identificadas no exercício anterior."
      ]
    },
    {
      "cell_type": "code",
      "source": [
        "# calculando os ccp_alphas utilizando as melhores variáveis identificadas no exercício anterior\n",
        "\n",
        "caminho = DecisionTreeClassifier(random_state=2360873, min_samples_leaf=20).cost_complexity_pruning_path(X_train[['tGravityAcc-energy()-X', 'fBodyAcc-mad()-X', 'angle(Y,gravityMean)']], y_train)\n",
        "ccp_alphas, impurities = caminho.ccp_alphas, caminho.impurities"
      ],
      "metadata": {
        "id": "MVqP3l2MgG0j"
      },
      "execution_count": 179,
      "outputs": []
    },
    {
      "cell_type": "code",
      "source": [
        "# garantindo que os ccp_alphas são únicos e positivos\n",
        "\n",
        "ccp_alphas = np.unique(ccp_alphas[ccp_alphas>=0])"
      ],
      "metadata": {
        "id": "J6GPWj6_-SZI"
      },
      "execution_count": 180,
      "outputs": []
    },
    {
      "cell_type": "markdown",
      "metadata": {
        "id": "Ju7KrbYpGrdN"
      },
      "source": [
        "### 3. *Grid Search*\n",
        "\n",
        "Vou deixar especificações iniciais mínimas, que visam limitar o tempo de máquina, pois um procedimento desses pode demorar muito tempo dependendo da especificação. Mas conforme você for ficando confortável com o tempo consumido pelo procedimento, pode fazer um algoritmo mais exaustivo, por exemplo, avaliando mais valores de ```ccp_alpha```.\n",
        "\n",
        "- Meça o tempo\n",
        "- Utilize a base de treinamento\n",
        "- Utilize um *cross validation* do tipo *k-fold*, especifique k=10\n",
        "- Você pode ler 1 a cada ```k``` valores para uma melhor varredura utilizando, por exemplo, ```ccp_alpha[::10]```\n",
        "- Não se esqueça de limitar o número de variáveis"
      ]
    },
    {
      "cell_type": "code",
      "execution_count": 181,
      "metadata": {
        "id": "Mc69oJOTGrdQ",
        "colab": {
          "base_uri": "https://localhost:8080/",
          "height": 154
        },
        "outputId": "88d58aaa-d4b4-4f9e-840c-7a0e2ff144a1"
      },
      "outputs": [
        {
          "output_type": "stream",
          "name": "stdout",
          "text": [
            "CPU times: user 34.5 s, sys: 63.1 ms, total: 34.5 s\n",
            "Wall time: 34.7 s\n"
          ]
        },
        {
          "output_type": "execute_result",
          "data": {
            "text/plain": [
              "GridSearchCV(cv=10, estimator=DecisionTreeClassifier(random_state=2360873),\n",
              "             param_grid={'ccp_alpha': array([0.00000000e+00, 1.23777219e-07, 5.44995104e-06, 6.96674540e-06,\n",
              "       7.04310757e-06, 7.64604257e-06, 9.48000132e-06, 9.51056033e-06,\n",
              "       9.97461008e-06, 1.10593595e-05, 1.82436050e-05, 2.47390551e-05,\n",
              "       2.96765259e-05, 3.15544286e-05, 3.69307877e-05, 4.13966031e-05,\n",
              "       4.219...\n",
              "       1.20133204e-03, 1.25126209e-03, 1.40661682e-03, 1.48212491e-03,\n",
              "       1.67487823e-03, 1.78389909e-03, 1.93520433e-03, 2.00403134e-03,\n",
              "       2.09941305e-03, 2.30144574e-03, 2.40743372e-03, 2.49787393e-03,\n",
              "       2.62823385e-03, 2.65096886e-03, 3.09222797e-03, 3.81607263e-03,\n",
              "       4.29651934e-03, 4.90778373e-03, 5.38489539e-03, 6.98899314e-03,\n",
              "       7.14303075e-03, 1.03332221e-02, 3.47995139e-02, 7.61968072e-02,\n",
              "       1.09363718e-01, 1.67221582e-01, 1.85811143e-01])})"
            ],
            "text/html": [
              "<style>#sk-container-id-10 {color: black;background-color: white;}#sk-container-id-10 pre{padding: 0;}#sk-container-id-10 div.sk-toggleable {background-color: white;}#sk-container-id-10 label.sk-toggleable__label {cursor: pointer;display: block;width: 100%;margin-bottom: 0;padding: 0.3em;box-sizing: border-box;text-align: center;}#sk-container-id-10 label.sk-toggleable__label-arrow:before {content: \"▸\";float: left;margin-right: 0.25em;color: #696969;}#sk-container-id-10 label.sk-toggleable__label-arrow:hover:before {color: black;}#sk-container-id-10 div.sk-estimator:hover label.sk-toggleable__label-arrow:before {color: black;}#sk-container-id-10 div.sk-toggleable__content {max-height: 0;max-width: 0;overflow: hidden;text-align: left;background-color: #f0f8ff;}#sk-container-id-10 div.sk-toggleable__content pre {margin: 0.2em;color: black;border-radius: 0.25em;background-color: #f0f8ff;}#sk-container-id-10 input.sk-toggleable__control:checked~div.sk-toggleable__content {max-height: 200px;max-width: 100%;overflow: auto;}#sk-container-id-10 input.sk-toggleable__control:checked~label.sk-toggleable__label-arrow:before {content: \"▾\";}#sk-container-id-10 div.sk-estimator input.sk-toggleable__control:checked~label.sk-toggleable__label {background-color: #d4ebff;}#sk-container-id-10 div.sk-label input.sk-toggleable__control:checked~label.sk-toggleable__label {background-color: #d4ebff;}#sk-container-id-10 input.sk-hidden--visually {border: 0;clip: rect(1px 1px 1px 1px);clip: rect(1px, 1px, 1px, 1px);height: 1px;margin: -1px;overflow: hidden;padding: 0;position: absolute;width: 1px;}#sk-container-id-10 div.sk-estimator {font-family: monospace;background-color: #f0f8ff;border: 1px dotted black;border-radius: 0.25em;box-sizing: border-box;margin-bottom: 0.5em;}#sk-container-id-10 div.sk-estimator:hover {background-color: #d4ebff;}#sk-container-id-10 div.sk-parallel-item::after {content: \"\";width: 100%;border-bottom: 1px solid gray;flex-grow: 1;}#sk-container-id-10 div.sk-label:hover label.sk-toggleable__label {background-color: #d4ebff;}#sk-container-id-10 div.sk-serial::before {content: \"\";position: absolute;border-left: 1px solid gray;box-sizing: border-box;top: 0;bottom: 0;left: 50%;z-index: 0;}#sk-container-id-10 div.sk-serial {display: flex;flex-direction: column;align-items: center;background-color: white;padding-right: 0.2em;padding-left: 0.2em;position: relative;}#sk-container-id-10 div.sk-item {position: relative;z-index: 1;}#sk-container-id-10 div.sk-parallel {display: flex;align-items: stretch;justify-content: center;background-color: white;position: relative;}#sk-container-id-10 div.sk-item::before, #sk-container-id-10 div.sk-parallel-item::before {content: \"\";position: absolute;border-left: 1px solid gray;box-sizing: border-box;top: 0;bottom: 0;left: 50%;z-index: -1;}#sk-container-id-10 div.sk-parallel-item {display: flex;flex-direction: column;z-index: 1;position: relative;background-color: white;}#sk-container-id-10 div.sk-parallel-item:first-child::after {align-self: flex-end;width: 50%;}#sk-container-id-10 div.sk-parallel-item:last-child::after {align-self: flex-start;width: 50%;}#sk-container-id-10 div.sk-parallel-item:only-child::after {width: 0;}#sk-container-id-10 div.sk-dashed-wrapped {border: 1px dashed gray;margin: 0 0.4em 0.5em 0.4em;box-sizing: border-box;padding-bottom: 0.4em;background-color: white;}#sk-container-id-10 div.sk-label label {font-family: monospace;font-weight: bold;display: inline-block;line-height: 1.2em;}#sk-container-id-10 div.sk-label-container {text-align: center;}#sk-container-id-10 div.sk-container {/* jupyter's `normalize.less` sets `[hidden] { display: none; }` but bootstrap.min.css set `[hidden] { display: none !important; }` so we also need the `!important` here to be able to override the default hidden behavior on the sphinx rendered scikit-learn.org. See: https://github.com/scikit-learn/scikit-learn/issues/21755 */display: inline-block !important;position: relative;}#sk-container-id-10 div.sk-text-repr-fallback {display: none;}</style><div id=\"sk-container-id-10\" class=\"sk-top-container\"><div class=\"sk-text-repr-fallback\"><pre>GridSearchCV(cv=10, estimator=DecisionTreeClassifier(random_state=2360873),\n",
              "             param_grid={&#x27;ccp_alpha&#x27;: array([0.00000000e+00, 1.23777219e-07, 5.44995104e-06, 6.96674540e-06,\n",
              "       7.04310757e-06, 7.64604257e-06, 9.48000132e-06, 9.51056033e-06,\n",
              "       9.97461008e-06, 1.10593595e-05, 1.82436050e-05, 2.47390551e-05,\n",
              "       2.96765259e-05, 3.15544286e-05, 3.69307877e-05, 4.13966031e-05,\n",
              "       4.219...\n",
              "       1.20133204e-03, 1.25126209e-03, 1.40661682e-03, 1.48212491e-03,\n",
              "       1.67487823e-03, 1.78389909e-03, 1.93520433e-03, 2.00403134e-03,\n",
              "       2.09941305e-03, 2.30144574e-03, 2.40743372e-03, 2.49787393e-03,\n",
              "       2.62823385e-03, 2.65096886e-03, 3.09222797e-03, 3.81607263e-03,\n",
              "       4.29651934e-03, 4.90778373e-03, 5.38489539e-03, 6.98899314e-03,\n",
              "       7.14303075e-03, 1.03332221e-02, 3.47995139e-02, 7.61968072e-02,\n",
              "       1.09363718e-01, 1.67221582e-01, 1.85811143e-01])})</pre><b>In a Jupyter environment, please rerun this cell to show the HTML representation or trust the notebook. <br />On GitHub, the HTML representation is unable to render, please try loading this page with nbviewer.org.</b></div><div class=\"sk-container\" hidden><div class=\"sk-item sk-dashed-wrapped\"><div class=\"sk-label-container\"><div class=\"sk-label sk-toggleable\"><input class=\"sk-toggleable__control sk-hidden--visually\" id=\"sk-estimator-id-28\" type=\"checkbox\" ><label for=\"sk-estimator-id-28\" class=\"sk-toggleable__label sk-toggleable__label-arrow\">GridSearchCV</label><div class=\"sk-toggleable__content\"><pre>GridSearchCV(cv=10, estimator=DecisionTreeClassifier(random_state=2360873),\n",
              "             param_grid={&#x27;ccp_alpha&#x27;: array([0.00000000e+00, 1.23777219e-07, 5.44995104e-06, 6.96674540e-06,\n",
              "       7.04310757e-06, 7.64604257e-06, 9.48000132e-06, 9.51056033e-06,\n",
              "       9.97461008e-06, 1.10593595e-05, 1.82436050e-05, 2.47390551e-05,\n",
              "       2.96765259e-05, 3.15544286e-05, 3.69307877e-05, 4.13966031e-05,\n",
              "       4.219...\n",
              "       1.20133204e-03, 1.25126209e-03, 1.40661682e-03, 1.48212491e-03,\n",
              "       1.67487823e-03, 1.78389909e-03, 1.93520433e-03, 2.00403134e-03,\n",
              "       2.09941305e-03, 2.30144574e-03, 2.40743372e-03, 2.49787393e-03,\n",
              "       2.62823385e-03, 2.65096886e-03, 3.09222797e-03, 3.81607263e-03,\n",
              "       4.29651934e-03, 4.90778373e-03, 5.38489539e-03, 6.98899314e-03,\n",
              "       7.14303075e-03, 1.03332221e-02, 3.47995139e-02, 7.61968072e-02,\n",
              "       1.09363718e-01, 1.67221582e-01, 1.85811143e-01])})</pre></div></div></div><div class=\"sk-parallel\"><div class=\"sk-parallel-item\"><div class=\"sk-item\"><div class=\"sk-label-container\"><div class=\"sk-label sk-toggleable\"><input class=\"sk-toggleable__control sk-hidden--visually\" id=\"sk-estimator-id-29\" type=\"checkbox\" ><label for=\"sk-estimator-id-29\" class=\"sk-toggleable__label sk-toggleable__label-arrow\">estimator: DecisionTreeClassifier</label><div class=\"sk-toggleable__content\"><pre>DecisionTreeClassifier(random_state=2360873)</pre></div></div></div><div class=\"sk-serial\"><div class=\"sk-item\"><div class=\"sk-estimator sk-toggleable\"><input class=\"sk-toggleable__control sk-hidden--visually\" id=\"sk-estimator-id-30\" type=\"checkbox\" ><label for=\"sk-estimator-id-30\" class=\"sk-toggleable__label sk-toggleable__label-arrow\">DecisionTreeClassifier</label><div class=\"sk-toggleable__content\"><pre>DecisionTreeClassifier(random_state=2360873)</pre></div></div></div></div></div></div></div></div></div></div>"
            ]
          },
          "metadata": {},
          "execution_count": 181
        }
      ],
      "source": [
        "%%time\n",
        "\n",
        "clf = DecisionTreeClassifier(random_state=2360873)\n",
        "grid_parametros = {'ccp_alpha':ccp_alphas}\n",
        "grid = GridSearchCV(estimator = clf, param_grid=grid_parametros,cv=10)\n",
        "grid.fit(X_train[['tGravityAcc-energy()-X', 'fBodyAcc-mad()-X', 'angle(Y,gravityMean)']], y_train)\n",
        "\n"
      ]
    },
    {
      "cell_type": "code",
      "source": [
        "resultados = pd.DataFrame(grid.cv_results_)\n",
        "resultados.head()"
      ],
      "metadata": {
        "colab": {
          "base_uri": "https://localhost:8080/",
          "height": 365
        },
        "id": "6zsCKS5D_8xI",
        "outputId": "e8473873-7576-4659-bece-8269b16ae123"
      },
      "execution_count": 182,
      "outputs": [
        {
          "output_type": "execute_result",
          "data": {
            "text/plain": [
              "   mean_fit_time  std_fit_time  mean_score_time  std_score_time  \\\n",
              "0       0.024043      0.000804         0.004031        0.000719   \n",
              "1       0.025107      0.001254         0.004084        0.000750   \n",
              "2       0.024996      0.001003         0.003882        0.000057   \n",
              "3       0.024888      0.002109         0.004182        0.000867   \n",
              "4       0.025310      0.002337         0.004116        0.000848   \n",
              "\n",
              "  param_ccp_alpha                                 params  split0_test_score  \\\n",
              "0             0.0                     {'ccp_alpha': 0.0}           0.790761   \n",
              "1             0.0  {'ccp_alpha': 1.2377721861031067e-07}           0.790761   \n",
              "2        0.000005   {'ccp_alpha': 5.449951042985827e-06}           0.790761   \n",
              "3        0.000007   {'ccp_alpha': 6.966745401948242e-06}           0.790761   \n",
              "4        0.000007   {'ccp_alpha': 7.043107569088057e-06}           0.790761   \n",
              "\n",
              "   split1_test_score  split2_test_score  split3_test_score  split4_test_score  \\\n",
              "0           0.751359           0.793197           0.677551           0.790476   \n",
              "1           0.751359           0.793197           0.677551           0.790476   \n",
              "2           0.751359           0.793197           0.677551           0.790476   \n",
              "3           0.751359           0.793197           0.677551           0.790476   \n",
              "4           0.751359           0.793197           0.677551           0.790476   \n",
              "\n",
              "   split5_test_score  split6_test_score  split7_test_score  split8_test_score  \\\n",
              "0           0.768707           0.802721            0.77551           0.820408   \n",
              "1           0.768707           0.802721            0.77551           0.820408   \n",
              "2           0.768707           0.802721            0.77551           0.820408   \n",
              "3           0.768707           0.802721            0.77551           0.820408   \n",
              "4           0.768707           0.802721            0.77551           0.820408   \n",
              "\n",
              "   split9_test_score  mean_test_score  std_test_score  rank_test_score  \n",
              "0           0.767347         0.773804        0.037133               63  \n",
              "1           0.767347         0.773804        0.037133               63  \n",
              "2           0.767347         0.773804        0.037133               63  \n",
              "3           0.767347         0.773804        0.037133               63  \n",
              "4           0.767347         0.773804        0.037133               63  "
            ],
            "text/html": [
              "\n",
              "  <div id=\"df-c2d71dd1-66bf-4eda-bf25-a8c2ce0af043\" class=\"colab-df-container\">\n",
              "    <div>\n",
              "<style scoped>\n",
              "    .dataframe tbody tr th:only-of-type {\n",
              "        vertical-align: middle;\n",
              "    }\n",
              "\n",
              "    .dataframe tbody tr th {\n",
              "        vertical-align: top;\n",
              "    }\n",
              "\n",
              "    .dataframe thead th {\n",
              "        text-align: right;\n",
              "    }\n",
              "</style>\n",
              "<table border=\"1\" class=\"dataframe\">\n",
              "  <thead>\n",
              "    <tr style=\"text-align: right;\">\n",
              "      <th></th>\n",
              "      <th>mean_fit_time</th>\n",
              "      <th>std_fit_time</th>\n",
              "      <th>mean_score_time</th>\n",
              "      <th>std_score_time</th>\n",
              "      <th>param_ccp_alpha</th>\n",
              "      <th>params</th>\n",
              "      <th>split0_test_score</th>\n",
              "      <th>split1_test_score</th>\n",
              "      <th>split2_test_score</th>\n",
              "      <th>split3_test_score</th>\n",
              "      <th>split4_test_score</th>\n",
              "      <th>split5_test_score</th>\n",
              "      <th>split6_test_score</th>\n",
              "      <th>split7_test_score</th>\n",
              "      <th>split8_test_score</th>\n",
              "      <th>split9_test_score</th>\n",
              "      <th>mean_test_score</th>\n",
              "      <th>std_test_score</th>\n",
              "      <th>rank_test_score</th>\n",
              "    </tr>\n",
              "  </thead>\n",
              "  <tbody>\n",
              "    <tr>\n",
              "      <th>0</th>\n",
              "      <td>0.024043</td>\n",
              "      <td>0.000804</td>\n",
              "      <td>0.004031</td>\n",
              "      <td>0.000719</td>\n",
              "      <td>0.0</td>\n",
              "      <td>{'ccp_alpha': 0.0}</td>\n",
              "      <td>0.790761</td>\n",
              "      <td>0.751359</td>\n",
              "      <td>0.793197</td>\n",
              "      <td>0.677551</td>\n",
              "      <td>0.790476</td>\n",
              "      <td>0.768707</td>\n",
              "      <td>0.802721</td>\n",
              "      <td>0.77551</td>\n",
              "      <td>0.820408</td>\n",
              "      <td>0.767347</td>\n",
              "      <td>0.773804</td>\n",
              "      <td>0.037133</td>\n",
              "      <td>63</td>\n",
              "    </tr>\n",
              "    <tr>\n",
              "      <th>1</th>\n",
              "      <td>0.025107</td>\n",
              "      <td>0.001254</td>\n",
              "      <td>0.004084</td>\n",
              "      <td>0.000750</td>\n",
              "      <td>0.0</td>\n",
              "      <td>{'ccp_alpha': 1.2377721861031067e-07}</td>\n",
              "      <td>0.790761</td>\n",
              "      <td>0.751359</td>\n",
              "      <td>0.793197</td>\n",
              "      <td>0.677551</td>\n",
              "      <td>0.790476</td>\n",
              "      <td>0.768707</td>\n",
              "      <td>0.802721</td>\n",
              "      <td>0.77551</td>\n",
              "      <td>0.820408</td>\n",
              "      <td>0.767347</td>\n",
              "      <td>0.773804</td>\n",
              "      <td>0.037133</td>\n",
              "      <td>63</td>\n",
              "    </tr>\n",
              "    <tr>\n",
              "      <th>2</th>\n",
              "      <td>0.024996</td>\n",
              "      <td>0.001003</td>\n",
              "      <td>0.003882</td>\n",
              "      <td>0.000057</td>\n",
              "      <td>0.000005</td>\n",
              "      <td>{'ccp_alpha': 5.449951042985827e-06}</td>\n",
              "      <td>0.790761</td>\n",
              "      <td>0.751359</td>\n",
              "      <td>0.793197</td>\n",
              "      <td>0.677551</td>\n",
              "      <td>0.790476</td>\n",
              "      <td>0.768707</td>\n",
              "      <td>0.802721</td>\n",
              "      <td>0.77551</td>\n",
              "      <td>0.820408</td>\n",
              "      <td>0.767347</td>\n",
              "      <td>0.773804</td>\n",
              "      <td>0.037133</td>\n",
              "      <td>63</td>\n",
              "    </tr>\n",
              "    <tr>\n",
              "      <th>3</th>\n",
              "      <td>0.024888</td>\n",
              "      <td>0.002109</td>\n",
              "      <td>0.004182</td>\n",
              "      <td>0.000867</td>\n",
              "      <td>0.000007</td>\n",
              "      <td>{'ccp_alpha': 6.966745401948242e-06}</td>\n",
              "      <td>0.790761</td>\n",
              "      <td>0.751359</td>\n",
              "      <td>0.793197</td>\n",
              "      <td>0.677551</td>\n",
              "      <td>0.790476</td>\n",
              "      <td>0.768707</td>\n",
              "      <td>0.802721</td>\n",
              "      <td>0.77551</td>\n",
              "      <td>0.820408</td>\n",
              "      <td>0.767347</td>\n",
              "      <td>0.773804</td>\n",
              "      <td>0.037133</td>\n",
              "      <td>63</td>\n",
              "    </tr>\n",
              "    <tr>\n",
              "      <th>4</th>\n",
              "      <td>0.025310</td>\n",
              "      <td>0.002337</td>\n",
              "      <td>0.004116</td>\n",
              "      <td>0.000848</td>\n",
              "      <td>0.000007</td>\n",
              "      <td>{'ccp_alpha': 7.043107569088057e-06}</td>\n",
              "      <td>0.790761</td>\n",
              "      <td>0.751359</td>\n",
              "      <td>0.793197</td>\n",
              "      <td>0.677551</td>\n",
              "      <td>0.790476</td>\n",
              "      <td>0.768707</td>\n",
              "      <td>0.802721</td>\n",
              "      <td>0.77551</td>\n",
              "      <td>0.820408</td>\n",
              "      <td>0.767347</td>\n",
              "      <td>0.773804</td>\n",
              "      <td>0.037133</td>\n",
              "      <td>63</td>\n",
              "    </tr>\n",
              "  </tbody>\n",
              "</table>\n",
              "</div>\n",
              "    <div class=\"colab-df-buttons\">\n",
              "\n",
              "  <div class=\"colab-df-container\">\n",
              "    <button class=\"colab-df-convert\" onclick=\"convertToInteractive('df-c2d71dd1-66bf-4eda-bf25-a8c2ce0af043')\"\n",
              "            title=\"Convert this dataframe to an interactive table.\"\n",
              "            style=\"display:none;\">\n",
              "\n",
              "  <svg xmlns=\"http://www.w3.org/2000/svg\" height=\"24px\" viewBox=\"0 -960 960 960\">\n",
              "    <path d=\"M120-120v-720h720v720H120Zm60-500h600v-160H180v160Zm220 220h160v-160H400v160Zm0 220h160v-160H400v160ZM180-400h160v-160H180v160Zm440 0h160v-160H620v160ZM180-180h160v-160H180v160Zm440 0h160v-160H620v160Z\"/>\n",
              "  </svg>\n",
              "    </button>\n",
              "\n",
              "  <style>\n",
              "    .colab-df-container {\n",
              "      display:flex;\n",
              "      gap: 12px;\n",
              "    }\n",
              "\n",
              "    .colab-df-convert {\n",
              "      background-color: #E8F0FE;\n",
              "      border: none;\n",
              "      border-radius: 50%;\n",
              "      cursor: pointer;\n",
              "      display: none;\n",
              "      fill: #1967D2;\n",
              "      height: 32px;\n",
              "      padding: 0 0 0 0;\n",
              "      width: 32px;\n",
              "    }\n",
              "\n",
              "    .colab-df-convert:hover {\n",
              "      background-color: #E2EBFA;\n",
              "      box-shadow: 0px 1px 2px rgba(60, 64, 67, 0.3), 0px 1px 3px 1px rgba(60, 64, 67, 0.15);\n",
              "      fill: #174EA6;\n",
              "    }\n",
              "\n",
              "    .colab-df-buttons div {\n",
              "      margin-bottom: 4px;\n",
              "    }\n",
              "\n",
              "    [theme=dark] .colab-df-convert {\n",
              "      background-color: #3B4455;\n",
              "      fill: #D2E3FC;\n",
              "    }\n",
              "\n",
              "    [theme=dark] .colab-df-convert:hover {\n",
              "      background-color: #434B5C;\n",
              "      box-shadow: 0px 1px 3px 1px rgba(0, 0, 0, 0.15);\n",
              "      filter: drop-shadow(0px 1px 2px rgba(0, 0, 0, 0.3));\n",
              "      fill: #FFFFFF;\n",
              "    }\n",
              "  </style>\n",
              "\n",
              "    <script>\n",
              "      const buttonEl =\n",
              "        document.querySelector('#df-c2d71dd1-66bf-4eda-bf25-a8c2ce0af043 button.colab-df-convert');\n",
              "      buttonEl.style.display =\n",
              "        google.colab.kernel.accessAllowed ? 'block' : 'none';\n",
              "\n",
              "      async function convertToInteractive(key) {\n",
              "        const element = document.querySelector('#df-c2d71dd1-66bf-4eda-bf25-a8c2ce0af043');\n",
              "        const dataTable =\n",
              "          await google.colab.kernel.invokeFunction('convertToInteractive',\n",
              "                                                    [key], {});\n",
              "        if (!dataTable) return;\n",
              "\n",
              "        const docLinkHtml = 'Like what you see? Visit the ' +\n",
              "          '<a target=\"_blank\" href=https://colab.research.google.com/notebooks/data_table.ipynb>data table notebook</a>'\n",
              "          + ' to learn more about interactive tables.';\n",
              "        element.innerHTML = '';\n",
              "        dataTable['output_type'] = 'display_data';\n",
              "        await google.colab.output.renderOutput(dataTable, element);\n",
              "        const docLink = document.createElement('div');\n",
              "        docLink.innerHTML = docLinkHtml;\n",
              "        element.appendChild(docLink);\n",
              "      }\n",
              "    </script>\n",
              "  </div>\n",
              "\n",
              "\n",
              "<div id=\"df-cf35c752-96d1-4f38-bc1e-fb72bfce906f\">\n",
              "  <button class=\"colab-df-quickchart\" onclick=\"quickchart('df-cf35c752-96d1-4f38-bc1e-fb72bfce906f')\"\n",
              "            title=\"Suggest charts\"\n",
              "            style=\"display:none;\">\n",
              "\n",
              "<svg xmlns=\"http://www.w3.org/2000/svg\" height=\"24px\"viewBox=\"0 0 24 24\"\n",
              "     width=\"24px\">\n",
              "    <g>\n",
              "        <path d=\"M19 3H5c-1.1 0-2 .9-2 2v14c0 1.1.9 2 2 2h14c1.1 0 2-.9 2-2V5c0-1.1-.9-2-2-2zM9 17H7v-7h2v7zm4 0h-2V7h2v10zm4 0h-2v-4h2v4z\"/>\n",
              "    </g>\n",
              "</svg>\n",
              "  </button>\n",
              "\n",
              "<style>\n",
              "  .colab-df-quickchart {\n",
              "      --bg-color: #E8F0FE;\n",
              "      --fill-color: #1967D2;\n",
              "      --hover-bg-color: #E2EBFA;\n",
              "      --hover-fill-color: #174EA6;\n",
              "      --disabled-fill-color: #AAA;\n",
              "      --disabled-bg-color: #DDD;\n",
              "  }\n",
              "\n",
              "  [theme=dark] .colab-df-quickchart {\n",
              "      --bg-color: #3B4455;\n",
              "      --fill-color: #D2E3FC;\n",
              "      --hover-bg-color: #434B5C;\n",
              "      --hover-fill-color: #FFFFFF;\n",
              "      --disabled-bg-color: #3B4455;\n",
              "      --disabled-fill-color: #666;\n",
              "  }\n",
              "\n",
              "  .colab-df-quickchart {\n",
              "    background-color: var(--bg-color);\n",
              "    border: none;\n",
              "    border-radius: 50%;\n",
              "    cursor: pointer;\n",
              "    display: none;\n",
              "    fill: var(--fill-color);\n",
              "    height: 32px;\n",
              "    padding: 0;\n",
              "    width: 32px;\n",
              "  }\n",
              "\n",
              "  .colab-df-quickchart:hover {\n",
              "    background-color: var(--hover-bg-color);\n",
              "    box-shadow: 0 1px 2px rgba(60, 64, 67, 0.3), 0 1px 3px 1px rgba(60, 64, 67, 0.15);\n",
              "    fill: var(--button-hover-fill-color);\n",
              "  }\n",
              "\n",
              "  .colab-df-quickchart-complete:disabled,\n",
              "  .colab-df-quickchart-complete:disabled:hover {\n",
              "    background-color: var(--disabled-bg-color);\n",
              "    fill: var(--disabled-fill-color);\n",
              "    box-shadow: none;\n",
              "  }\n",
              "\n",
              "  .colab-df-spinner {\n",
              "    border: 2px solid var(--fill-color);\n",
              "    border-color: transparent;\n",
              "    border-bottom-color: var(--fill-color);\n",
              "    animation:\n",
              "      spin 1s steps(1) infinite;\n",
              "  }\n",
              "\n",
              "  @keyframes spin {\n",
              "    0% {\n",
              "      border-color: transparent;\n",
              "      border-bottom-color: var(--fill-color);\n",
              "      border-left-color: var(--fill-color);\n",
              "    }\n",
              "    20% {\n",
              "      border-color: transparent;\n",
              "      border-left-color: var(--fill-color);\n",
              "      border-top-color: var(--fill-color);\n",
              "    }\n",
              "    30% {\n",
              "      border-color: transparent;\n",
              "      border-left-color: var(--fill-color);\n",
              "      border-top-color: var(--fill-color);\n",
              "      border-right-color: var(--fill-color);\n",
              "    }\n",
              "    40% {\n",
              "      border-color: transparent;\n",
              "      border-right-color: var(--fill-color);\n",
              "      border-top-color: var(--fill-color);\n",
              "    }\n",
              "    60% {\n",
              "      border-color: transparent;\n",
              "      border-right-color: var(--fill-color);\n",
              "    }\n",
              "    80% {\n",
              "      border-color: transparent;\n",
              "      border-right-color: var(--fill-color);\n",
              "      border-bottom-color: var(--fill-color);\n",
              "    }\n",
              "    90% {\n",
              "      border-color: transparent;\n",
              "      border-bottom-color: var(--fill-color);\n",
              "    }\n",
              "  }\n",
              "</style>\n",
              "\n",
              "  <script>\n",
              "    async function quickchart(key) {\n",
              "      const quickchartButtonEl =\n",
              "        document.querySelector('#' + key + ' button');\n",
              "      quickchartButtonEl.disabled = true;  // To prevent multiple clicks.\n",
              "      quickchartButtonEl.classList.add('colab-df-spinner');\n",
              "      try {\n",
              "        const charts = await google.colab.kernel.invokeFunction(\n",
              "            'suggestCharts', [key], {});\n",
              "      } catch (error) {\n",
              "        console.error('Error during call to suggestCharts:', error);\n",
              "      }\n",
              "      quickchartButtonEl.classList.remove('colab-df-spinner');\n",
              "      quickchartButtonEl.classList.add('colab-df-quickchart-complete');\n",
              "    }\n",
              "    (() => {\n",
              "      let quickchartButtonEl =\n",
              "        document.querySelector('#df-cf35c752-96d1-4f38-bc1e-fb72bfce906f button');\n",
              "      quickchartButtonEl.style.display =\n",
              "        google.colab.kernel.accessAllowed ? 'block' : 'none';\n",
              "    })();\n",
              "  </script>\n",
              "</div>\n",
              "    </div>\n",
              "  </div>\n"
            ]
          },
          "metadata": {},
          "execution_count": 182
        }
      ]
    },
    {
      "cell_type": "markdown",
      "source": [
        "resultados.loc[resultados['rank_test_score'] == 1]"
      ],
      "metadata": {
        "id": "4NfqJ7XNBOCo"
      }
    },
    {
      "cell_type": "code",
      "source": [
        "grid.best_score_"
      ],
      "metadata": {
        "colab": {
          "base_uri": "https://localhost:8080/"
        },
        "id": "2BuFjXVw_-w_",
        "outputId": "e0151ed2-572e-418b-a7ff-581ca22947ca"
      },
      "execution_count": 183,
      "outputs": [
        {
          "output_type": "execute_result",
          "data": {
            "text/plain": [
              "0.8248042369121562"
            ]
          },
          "metadata": {},
          "execution_count": 183
        }
      ]
    },
    {
      "cell_type": "markdown",
      "metadata": {
        "id": "c9VTuq_MGrdR"
      },
      "source": [
        "### 4. Avaliando a árvore\n",
        "\n",
        "- Obtenha a árvore na melhor configuração treinada em toda a base de treino\n",
        "- Calcule a acurácia dessa árvore na base de testes\n",
        "- Visualize a matriz de confusão"
      ]
    },
    {
      "cell_type": "code",
      "source": [
        "melhor_ccp = resultados.iloc[grid.best_index_,4]\n",
        "melhor_ccp"
      ],
      "metadata": {
        "colab": {
          "base_uri": "https://localhost:8080/"
        },
        "id": "-BS_DJ89A7ta",
        "outputId": "c90a345a-f8be-46ea-cd11-6c67914badd6"
      },
      "execution_count": 184,
      "outputs": [
        {
          "output_type": "execute_result",
          "data": {
            "text/plain": [
              "0.0042965193422309055"
            ]
          },
          "metadata": {},
          "execution_count": 184
        }
      ]
    },
    {
      "cell_type": "code",
      "execution_count": 185,
      "metadata": {
        "id": "sxa-KEF1GrdT"
      },
      "outputs": [],
      "source": [
        "\n",
        "clf = DecisionTreeClassifier(random_state=2360873, ccp_alpha=melhor_ccp).fit(X_train[['tGravityAcc-energy()-X', 'fBodyAcc-mad()-X', 'angle(Y,gravityMean)']], y_train)"
      ]
    },
    {
      "cell_type": "code",
      "source": [
        "clf.score(X_test[['tGravityAcc-energy()-X', 'fBodyAcc-mad()-X', 'angle(Y,gravityMean)']], y_test)"
      ],
      "metadata": {
        "colab": {
          "base_uri": "https://localhost:8080/"
        },
        "id": "1UeUlbcrA00T",
        "outputId": "0b1bfaa7-5954-45b2-d7b4-92c0c5c28486"
      },
      "execution_count": 186,
      "outputs": [
        {
          "output_type": "execute_result",
          "data": {
            "text/plain": [
              "0.7241262300644723"
            ]
          },
          "metadata": {},
          "execution_count": 186
        }
      ]
    },
    {
      "cell_type": "code",
      "source": [
        "predicoes = clf.predict(X_test[['tGravityAcc-energy()-X', 'fBodyAcc-mad()-X', 'angle(Y,gravityMean)']])"
      ],
      "metadata": {
        "id": "JN9Sp9eNinxU"
      },
      "execution_count": 187,
      "outputs": []
    },
    {
      "cell_type": "code",
      "source": [
        "\n",
        "ConfusionMatrixDisplay.from_predictions(predicoes, y_test)"
      ],
      "metadata": {
        "colab": {
          "base_uri": "https://localhost:8080/",
          "height": 466
        },
        "id": "NXS6L02B8EGv",
        "outputId": "7e6549d1-f22e-4963-ecf3-008ebe818f3e"
      },
      "execution_count": 188,
      "outputs": [
        {
          "output_type": "execute_result",
          "data": {
            "text/plain": [
              "<sklearn.metrics._plot.confusion_matrix.ConfusionMatrixDisplay at 0x7bfbda6cfa30>"
            ]
          },
          "metadata": {},
          "execution_count": 188
        },
        {
          "output_type": "display_data",
          "data": {
            "text/plain": [
              "<Figure size 640x480 with 2 Axes>"
            ],
            "image/png": "[encoded data removed]"
          },
          "metadata": {}
        }
      ]
    },
    {
      "cell_type": "markdown",
      "metadata": {
        "id": "C3yfcuKhGrdU"
      },
      "source": [
        "### 5. Melhorando a árvore\n",
        "\n",
        "A melhor forma de se melhorar um algoritmo é colocando nele novas variáveis que agreguem valor. Podemos usar a força-bruta e ir colocando variáveis aleatoriamente - ou colocar todas e deixar rodando por um bom tempo - ou utilizar uma lógica eficiente e fazer uma seleção de variáveis.\n",
        "\n",
        "- Observe que há classes mais fáceis e mais difíceis de se identificar\n",
        "- Crie uma variável binária para uma das classes de maior erro\n",
        "- Fala uma árvore de classificação bem simples para esta variável:\n",
        "    - utilize ```mean_samples_leaf=20```\n",
        "    - utilize ```max_depth=4```\n",
        "    - coloque todas as variáveis\n",
        "- Observe a importância das variáveis, e selecione as 3 com maior importância\n",
        "- Rode novamente o algoritmo acima com as 3 novas variáveis e avalie a acurácia"
      ]
    },
    {
      "cell_type": "markdown",
      "source": [
        "*A classe mais difícil de identificar foi a \"2\"*"
      ],
      "metadata": {
        "id": "G2dK9wjWnm_A"
      }
    },
    {
      "cell_type": "code",
      "execution_count": 189,
      "metadata": {
        "id": "n75ZTQPoGrdW"
      },
      "outputs": [],
      "source": [
        "# criando  uma variável binária para uma das classes de maior erro (classe 2)\n",
        "\n",
        "y_train.columns = ['status']\n",
        "y_test.columns = ['status']\n",
        "\n",
        "X_train['status_2'] = pd.get_dummies(y_train, columns=['status'])['status_2']\n",
        "X_test['status_2'] = pd.get_dummies(y_test, columns=['status'])['status_2']"
      ]
    },
    {
      "cell_type": "code",
      "source": [
        "# rodando  uma árvore de classificação bem simples para esta variável\n",
        "\n",
        "clf = DecisionTreeClassifier(random_state=2360873, min_samples_leaf=20, max_depth=4).fit(X_train, y_train)"
      ],
      "metadata": {
        "id": "NQVybG_vWRme"
      },
      "execution_count": 190,
      "outputs": []
    },
    {
      "cell_type": "code",
      "source": [
        "# Observando a importância das variáveis, e selecione as 3 com maior importância\n",
        "\n",
        "indice_importancia = []\n",
        "\n",
        "lista_importancia = clf.feature_importances_\n",
        "\n",
        "while len(indice_importancia) < 3:\n",
        "\n",
        "  indice_importancia.append(np.argmax(lista_importancia))\n",
        "\n",
        "  lista_importancia[np.argmax(lista_importancia)] = 0\n",
        "\n",
        "\n",
        "X_train.columns[indice_importancia] # As 3 variáveis com maior importância"
      ],
      "metadata": {
        "colab": {
          "base_uri": "https://localhost:8080/"
        },
        "id": "7F1vzvJEZiGD",
        "outputId": "d5ff6c2c-ccc5-412c-95fe-c0334b62b78f"
      },
      "execution_count": 191,
      "outputs": [
        {
          "output_type": "execute_result",
          "data": {
            "text/plain": [
              "Index(['tGravityAcc-min()-X', 'fBodyAcc-mad()-X', 'status_2'], dtype='object')"
            ]
          },
          "metadata": {},
          "execution_count": 191
        }
      ]
    },
    {
      "cell_type": "code",
      "source": [
        "# Rodando novamente o algoritmo acima com as 3 novas variáveis\n",
        "\n",
        "caminho = DecisionTreeClassifier(random_state=2360873, min_samples_leaf=20).cost_complexity_pruning_path(X_train[['tGravityAcc-min()-X', 'fBodyAccJerk-entropy()-X', 'status_2']], y_train)\n",
        "ccp_alphas, impurities = caminho.ccp_alphas, caminho.impurities"
      ],
      "metadata": {
        "id": "xqds5nRoaV4F"
      },
      "execution_count": 192,
      "outputs": []
    },
    {
      "cell_type": "code",
      "source": [
        "\n",
        "ccp_alphas = np.unique(ccp_alphas[ccp_alphas>=0])"
      ],
      "metadata": {
        "id": "I1hPytdJa9me"
      },
      "execution_count": 193,
      "outputs": []
    },
    {
      "cell_type": "code",
      "source": [
        "clf = DecisionTreeClassifier(random_state=2360873)\n",
        "grid_parametros = {'ccp_alpha':ccp_alphas}\n",
        "grid = GridSearchCV(estimator = clf, param_grid=grid_parametros,cv=10)\n",
        "grid.fit(X_train[['tGravityAcc-min()-X', 'fBodyAccJerk-entropy()-X', 'status_2']], y_train)"
      ],
      "metadata": {
        "colab": {
          "base_uri": "https://localhost:8080/",
          "height": 119
        },
        "id": "KvqdUrqmbDIZ",
        "outputId": "02e4c701-2f1d-44e4-dc38-3927b5b6502d"
      },
      "execution_count": 194,
      "outputs": [
        {
          "output_type": "execute_result",
          "data": {
            "text/plain": [
              "GridSearchCV(cv=10, estimator=DecisionTreeClassifier(random_state=2360873),\n",
              "             param_grid={'ccp_alpha': array([0.00000000e+00, 2.11975185e-06, 6.08120167e-06, 6.80087051e-06,\n",
              "       7.37304991e-06, 7.47616671e-06, 8.05000999e-06, 8.74397637e-06,\n",
              "       1.31301283e-05, 1.40830969e-05, 1.87463842e-05, 1.88331799e-05,\n",
              "       1.99410140e-05, 2.12649915e-05, 2.51689588e-05, 2.87410702e-05,\n",
              "       2.877...\n",
              "       5.67351270e-04, 6.06390749e-04, 6.35547857e-04, 6.77244688e-04,\n",
              "       7.02310208e-04, 7.23212118e-04, 7.72246123e-04, 7.80284700e-04,\n",
              "       7.90506073e-04, 8.24499022e-04, 1.09173441e-03, 1.11364756e-03,\n",
              "       1.25905756e-03, 1.36601607e-03, 1.99269596e-03, 2.07977928e-03,\n",
              "       2.16105433e-03, 2.17169034e-03, 7.30382925e-03, 2.24888600e-02,\n",
              "       3.62773785e-02, 1.47968202e-01, 1.67148656e-01, 1.86138242e-01])})"
            ],
            "text/html": [
              "<style>#sk-container-id-11 {color: black;background-color: white;}#sk-container-id-11 pre{padding: 0;}#sk-container-id-11 div.sk-toggleable {background-color: white;}#sk-container-id-11 label.sk-toggleable__label {cursor: pointer;display: block;width: 100%;margin-bottom: 0;padding: 0.3em;box-sizing: border-box;text-align: center;}#sk-container-id-11 label.sk-toggleable__label-arrow:before {content: \"▸\";float: left;margin-right: 0.25em;color: #696969;}#sk-container-id-11 label.sk-toggleable__label-arrow:hover:before {color: black;}#sk-container-id-11 div.sk-estimator:hover label.sk-toggleable__label-arrow:before {color: black;}#sk-container-id-11 div.sk-toggleable__content {max-height: 0;max-width: 0;overflow: hidden;text-align: left;background-color: #f0f8ff;}#sk-container-id-11 div.sk-toggleable__content pre {margin: 0.2em;color: black;border-radius: 0.25em;background-color: #f0f8ff;}#sk-container-id-11 input.sk-toggleable__control:checked~div.sk-toggleable__content {max-height: 200px;max-width: 100%;overflow: auto;}#sk-container-id-11 input.sk-toggleable__control:checked~label.sk-toggleable__label-arrow:before {content: \"▾\";}#sk-container-id-11 div.sk-estimator input.sk-toggleable__control:checked~label.sk-toggleable__label {background-color: #d4ebff;}#sk-container-id-11 div.sk-label input.sk-toggleable__control:checked~label.sk-toggleable__label {background-color: #d4ebff;}#sk-container-id-11 input.sk-hidden--visually {border: 0;clip: rect(1px 1px 1px 1px);clip: rect(1px, 1px, 1px, 1px);height: 1px;margin: -1px;overflow: hidden;padding: 0;position: absolute;width: 1px;}#sk-container-id-11 div.sk-estimator {font-family: monospace;background-color: #f0f8ff;border: 1px dotted black;border-radius: 0.25em;box-sizing: border-box;margin-bottom: 0.5em;}#sk-container-id-11 div.sk-estimator:hover {background-color: #d4ebff;}#sk-container-id-11 div.sk-parallel-item::after {content: \"\";width: 100%;border-bottom: 1px solid gray;flex-grow: 1;}#sk-container-id-11 div.sk-label:hover label.sk-toggleable__label {background-color: #d4ebff;}#sk-container-id-11 div.sk-serial::before {content: \"\";position: absolute;border-left: 1px solid gray;box-sizing: border-box;top: 0;bottom: 0;left: 50%;z-index: 0;}#sk-container-id-11 div.sk-serial {display: flex;flex-direction: column;align-items: center;background-color: white;padding-right: 0.2em;padding-left: 0.2em;position: relative;}#sk-container-id-11 div.sk-item {position: relative;z-index: 1;}#sk-container-id-11 div.sk-parallel {display: flex;align-items: stretch;justify-content: center;background-color: white;position: relative;}#sk-container-id-11 div.sk-item::before, #sk-container-id-11 div.sk-parallel-item::before {content: \"\";position: absolute;border-left: 1px solid gray;box-sizing: border-box;top: 0;bottom: 0;left: 50%;z-index: -1;}#sk-container-id-11 div.sk-parallel-item {display: flex;flex-direction: column;z-index: 1;position: relative;background-color: white;}#sk-container-id-11 div.sk-parallel-item:first-child::after {align-self: flex-end;width: 50%;}#sk-container-id-11 div.sk-parallel-item:last-child::after {align-self: flex-start;width: 50%;}#sk-container-id-11 div.sk-parallel-item:only-child::after {width: 0;}#sk-container-id-11 div.sk-dashed-wrapped {border: 1px dashed gray;margin: 0 0.4em 0.5em 0.4em;box-sizing: border-box;padding-bottom: 0.4em;background-color: white;}#sk-container-id-11 div.sk-label label {font-family: monospace;font-weight: bold;display: inline-block;line-height: 1.2em;}#sk-container-id-11 div.sk-label-container {text-align: center;}#sk-container-id-11 div.sk-container {/* jupyter's `normalize.less` sets `[hidden] { display: none; }` but bootstrap.min.css set `[hidden] { display: none !important; }` so we also need the `!important` here to be able to override the default hidden behavior on the sphinx rendered scikit-learn.org. See: https://github.com/scikit-learn/scikit-learn/issues/21755 */display: inline-block !important;position: relative;}#sk-container-id-11 div.sk-text-repr-fallback {display: none;}</style><div id=\"sk-container-id-11\" class=\"sk-top-container\"><div class=\"sk-text-repr-fallback\"><pre>GridSearchCV(cv=10, estimator=DecisionTreeClassifier(random_state=2360873),\n",
              "             param_grid={&#x27;ccp_alpha&#x27;: array([0.00000000e+00, 2.11975185e-06, 6.08120167e-06, 6.80087051e-06,\n",
              "       7.37304991e-06, 7.47616671e-06, 8.05000999e-06, 8.74397637e-06,\n",
              "       1.31301283e-05, 1.40830969e-05, 1.87463842e-05, 1.88331799e-05,\n",
              "       1.99410140e-05, 2.12649915e-05, 2.51689588e-05, 2.87410702e-05,\n",
              "       2.877...\n",
              "       5.67351270e-04, 6.06390749e-04, 6.35547857e-04, 6.77244688e-04,\n",
              "       7.02310208e-04, 7.23212118e-04, 7.72246123e-04, 7.80284700e-04,\n",
              "       7.90506073e-04, 8.24499022e-04, 1.09173441e-03, 1.11364756e-03,\n",
              "       1.25905756e-03, 1.36601607e-03, 1.99269596e-03, 2.07977928e-03,\n",
              "       2.16105433e-03, 2.17169034e-03, 7.30382925e-03, 2.24888600e-02,\n",
              "       3.62773785e-02, 1.47968202e-01, 1.67148656e-01, 1.86138242e-01])})</pre><b>In a Jupyter environment, please rerun this cell to show the HTML representation or trust the notebook. <br />On GitHub, the HTML representation is unable to render, please try loading this page with nbviewer.org.</b></div><div class=\"sk-container\" hidden><div class=\"sk-item sk-dashed-wrapped\"><div class=\"sk-label-container\"><div class=\"sk-label sk-toggleable\"><input class=\"sk-toggleable__control sk-hidden--visually\" id=\"sk-estimator-id-31\" type=\"checkbox\" ><label for=\"sk-estimator-id-31\" class=\"sk-toggleable__label sk-toggleable__label-arrow\">GridSearchCV</label><div class=\"sk-toggleable__content\"><pre>GridSearchCV(cv=10, estimator=DecisionTreeClassifier(random_state=2360873),\n",
              "             param_grid={&#x27;ccp_alpha&#x27;: array([0.00000000e+00, 2.11975185e-06, 6.08120167e-06, 6.80087051e-06,\n",
              "       7.37304991e-06, 7.47616671e-06, 8.05000999e-06, 8.74397637e-06,\n",
              "       1.31301283e-05, 1.40830969e-05, 1.87463842e-05, 1.88331799e-05,\n",
              "       1.99410140e-05, 2.12649915e-05, 2.51689588e-05, 2.87410702e-05,\n",
              "       2.877...\n",
              "       5.67351270e-04, 6.06390749e-04, 6.35547857e-04, 6.77244688e-04,\n",
              "       7.02310208e-04, 7.23212118e-04, 7.72246123e-04, 7.80284700e-04,\n",
              "       7.90506073e-04, 8.24499022e-04, 1.09173441e-03, 1.11364756e-03,\n",
              "       1.25905756e-03, 1.36601607e-03, 1.99269596e-03, 2.07977928e-03,\n",
              "       2.16105433e-03, 2.17169034e-03, 7.30382925e-03, 2.24888600e-02,\n",
              "       3.62773785e-02, 1.47968202e-01, 1.67148656e-01, 1.86138242e-01])})</pre></div></div></div><div class=\"sk-parallel\"><div class=\"sk-parallel-item\"><div class=\"sk-item\"><div class=\"sk-label-container\"><div class=\"sk-label sk-toggleable\"><input class=\"sk-toggleable__control sk-hidden--visually\" id=\"sk-estimator-id-32\" type=\"checkbox\" ><label for=\"sk-estimator-id-32\" class=\"sk-toggleable__label sk-toggleable__label-arrow\">estimator: DecisionTreeClassifier</label><div class=\"sk-toggleable__content\"><pre>DecisionTreeClassifier(random_state=2360873)</pre></div></div></div><div class=\"sk-serial\"><div class=\"sk-item\"><div class=\"sk-estimator sk-toggleable\"><input class=\"sk-toggleable__control sk-hidden--visually\" id=\"sk-estimator-id-33\" type=\"checkbox\" ><label for=\"sk-estimator-id-33\" class=\"sk-toggleable__label sk-toggleable__label-arrow\">DecisionTreeClassifier</label><div class=\"sk-toggleable__content\"><pre>DecisionTreeClassifier(random_state=2360873)</pre></div></div></div></div></div></div></div></div></div></div>"
            ]
          },
          "metadata": {},
          "execution_count": 194
        }
      ]
    },
    {
      "cell_type": "code",
      "source": [
        "resultados = pd.DataFrame(grid.cv_results_)\n",
        "resultados.head()"
      ],
      "metadata": {
        "colab": {
          "base_uri": "https://localhost:8080/",
          "height": 365
        },
        "id": "notoYLy8bDD5",
        "outputId": "2a37e971-79b4-4e8b-c266-0c329e96fc71"
      },
      "execution_count": 195,
      "outputs": [
        {
          "output_type": "execute_result",
          "data": {
            "text/plain": [
              "   mean_fit_time  std_fit_time  mean_score_time  std_score_time  \\\n",
              "0       0.024351      0.001193         0.005845        0.000224   \n",
              "1       0.025641      0.001192         0.006603        0.001422   \n",
              "2       0.024921      0.001045         0.005774        0.000192   \n",
              "3       0.025042      0.000787         0.006147        0.000967   \n",
              "4       0.026573      0.003863         0.006858        0.001642   \n",
              "\n",
              "  param_ccp_alpha                                 params  split0_test_score  \\\n",
              "0             0.0                     {'ccp_alpha': 0.0}           0.724185   \n",
              "1        0.000002   {'ccp_alpha': 2.119751847716976e-06}           0.724185   \n",
              "2        0.000006  {'ccp_alpha': 6.0812016742376514e-06}           0.724185   \n",
              "3        0.000007   {'ccp_alpha': 6.800870511425479e-06}           0.724185   \n",
              "4        0.000007   {'ccp_alpha': 7.373049905103242e-06}           0.724185   \n",
              "\n",
              "   split1_test_score  split2_test_score  split3_test_score  split4_test_score  \\\n",
              "0           0.722826           0.738776           0.710204           0.722449   \n",
              "1           0.722826           0.738776           0.710204           0.722449   \n",
              "2           0.722826           0.738776           0.710204           0.722449   \n",
              "3           0.722826           0.738776           0.710204           0.722449   \n",
              "4           0.722826           0.738776           0.710204           0.722449   \n",
              "\n",
              "   split5_test_score  split6_test_score  split7_test_score  split8_test_score  \\\n",
              "0           0.706122            0.69932           0.733333           0.765986   \n",
              "1           0.706122            0.69932           0.733333           0.765986   \n",
              "2           0.706122            0.69932           0.733333           0.765986   \n",
              "3           0.706122            0.69932           0.733333           0.765986   \n",
              "4           0.706122            0.69932           0.733333           0.765986   \n",
              "\n",
              "   split9_test_score  mean_test_score  std_test_score  rank_test_score  \n",
              "0           0.703401          0.72266        0.018967               76  \n",
              "1           0.703401          0.72266        0.018967               76  \n",
              "2           0.703401          0.72266        0.018967               76  \n",
              "3           0.703401          0.72266        0.018967               76  \n",
              "4           0.703401          0.72266        0.018967               76  "
            ],
            "text/html": [
              "\n",
              "  <div id=\"df-2a24a900-abcd-458e-8204-0df4f253babc\" class=\"colab-df-container\">\n",
              "    <div>\n",
              "<style scoped>\n",
              "    .dataframe tbody tr th:only-of-type {\n",
              "        vertical-align: middle;\n",
              "    }\n",
              "\n",
              "    .dataframe tbody tr th {\n",
              "        vertical-align: top;\n",
              "    }\n",
              "\n",
              "    .dataframe thead th {\n",
              "        text-align: right;\n",
              "    }\n",
              "</style>\n",
              "<table border=\"1\" class=\"dataframe\">\n",
              "  <thead>\n",
              "    <tr style=\"text-align: right;\">\n",
              "      <th></th>\n",
              "      <th>mean_fit_time</th>\n",
              "      <th>std_fit_time</th>\n",
              "      <th>mean_score_time</th>\n",
              "      <th>std_score_time</th>\n",
              "      <th>param_ccp_alpha</th>\n",
              "      <th>params</th>\n",
              "      <th>split0_test_score</th>\n",
              "      <th>split1_test_score</th>\n",
              "      <th>split2_test_score</th>\n",
              "      <th>split3_test_score</th>\n",
              "      <th>split4_test_score</th>\n",
              "      <th>split5_test_score</th>\n",
              "      <th>split6_test_score</th>\n",
              "      <th>split7_test_score</th>\n",
              "      <th>split8_test_score</th>\n",
              "      <th>split9_test_score</th>\n",
              "      <th>mean_test_score</th>\n",
              "      <th>std_test_score</th>\n",
              "      <th>rank_test_score</th>\n",
              "    </tr>\n",
              "  </thead>\n",
              "  <tbody>\n",
              "    <tr>\n",
              "      <th>0</th>\n",
              "      <td>0.024351</td>\n",
              "      <td>0.001193</td>\n",
              "      <td>0.005845</td>\n",
              "      <td>0.000224</td>\n",
              "      <td>0.0</td>\n",
              "      <td>{'ccp_alpha': 0.0}</td>\n",
              "      <td>0.724185</td>\n",
              "      <td>0.722826</td>\n",
              "      <td>0.738776</td>\n",
              "      <td>0.710204</td>\n",
              "      <td>0.722449</td>\n",
              "      <td>0.706122</td>\n",
              "      <td>0.69932</td>\n",
              "      <td>0.733333</td>\n",
              "      <td>0.765986</td>\n",
              "      <td>0.703401</td>\n",
              "      <td>0.72266</td>\n",
              "      <td>0.018967</td>\n",
              "      <td>76</td>\n",
              "    </tr>\n",
              "    <tr>\n",
              "      <th>1</th>\n",
              "      <td>0.025641</td>\n",
              "      <td>0.001192</td>\n",
              "      <td>0.006603</td>\n",
              "      <td>0.001422</td>\n",
              "      <td>0.000002</td>\n",
              "      <td>{'ccp_alpha': 2.119751847716976e-06}</td>\n",
              "      <td>0.724185</td>\n",
              "      <td>0.722826</td>\n",
              "      <td>0.738776</td>\n",
              "      <td>0.710204</td>\n",
              "      <td>0.722449</td>\n",
              "      <td>0.706122</td>\n",
              "      <td>0.69932</td>\n",
              "      <td>0.733333</td>\n",
              "      <td>0.765986</td>\n",
              "      <td>0.703401</td>\n",
              "      <td>0.72266</td>\n",
              "      <td>0.018967</td>\n",
              "      <td>76</td>\n",
              "    </tr>\n",
              "    <tr>\n",
              "      <th>2</th>\n",
              "      <td>0.024921</td>\n",
              "      <td>0.001045</td>\n",
              "      <td>0.005774</td>\n",
              "      <td>0.000192</td>\n",
              "      <td>0.000006</td>\n",
              "      <td>{'ccp_alpha': 6.0812016742376514e-06}</td>\n",
              "      <td>0.724185</td>\n",
              "      <td>0.722826</td>\n",
              "      <td>0.738776</td>\n",
              "      <td>0.710204</td>\n",
              "      <td>0.722449</td>\n",
              "      <td>0.706122</td>\n",
              "      <td>0.69932</td>\n",
              "      <td>0.733333</td>\n",
              "      <td>0.765986</td>\n",
              "      <td>0.703401</td>\n",
              "      <td>0.72266</td>\n",
              "      <td>0.018967</td>\n",
              "      <td>76</td>\n",
              "    </tr>\n",
              "    <tr>\n",
              "      <th>3</th>\n",
              "      <td>0.025042</td>\n",
              "      <td>0.000787</td>\n",
              "      <td>0.006147</td>\n",
              "      <td>0.000967</td>\n",
              "      <td>0.000007</td>\n",
              "      <td>{'ccp_alpha': 6.800870511425479e-06}</td>\n",
              "      <td>0.724185</td>\n",
              "      <td>0.722826</td>\n",
              "      <td>0.738776</td>\n",
              "      <td>0.710204</td>\n",
              "      <td>0.722449</td>\n",
              "      <td>0.706122</td>\n",
              "      <td>0.69932</td>\n",
              "      <td>0.733333</td>\n",
              "      <td>0.765986</td>\n",
              "      <td>0.703401</td>\n",
              "      <td>0.72266</td>\n",
              "      <td>0.018967</td>\n",
              "      <td>76</td>\n",
              "    </tr>\n",
              "    <tr>\n",
              "      <th>4</th>\n",
              "      <td>0.026573</td>\n",
              "      <td>0.003863</td>\n",
              "      <td>0.006858</td>\n",
              "      <td>0.001642</td>\n",
              "      <td>0.000007</td>\n",
              "      <td>{'ccp_alpha': 7.373049905103242e-06}</td>\n",
              "      <td>0.724185</td>\n",
              "      <td>0.722826</td>\n",
              "      <td>0.738776</td>\n",
              "      <td>0.710204</td>\n",
              "      <td>0.722449</td>\n",
              "      <td>0.706122</td>\n",
              "      <td>0.69932</td>\n",
              "      <td>0.733333</td>\n",
              "      <td>0.765986</td>\n",
              "      <td>0.703401</td>\n",
              "      <td>0.72266</td>\n",
              "      <td>0.018967</td>\n",
              "      <td>76</td>\n",
              "    </tr>\n",
              "  </tbody>\n",
              "</table>\n",
              "</div>\n",
              "    <div class=\"colab-df-buttons\">\n",
              "\n",
              "  <div class=\"colab-df-container\">\n",
              "    <button class=\"colab-df-convert\" onclick=\"convertToInteractive('df-2a24a900-abcd-458e-8204-0df4f253babc')\"\n",
              "            title=\"Convert this dataframe to an interactive table.\"\n",
              "            style=\"display:none;\">\n",
              "\n",
              "  <svg xmlns=\"http://www.w3.org/2000/svg\" height=\"24px\" viewBox=\"0 -960 960 960\">\n",
              "    <path d=\"M120-120v-720h720v720H120Zm60-500h600v-160H180v160Zm220 220h160v-160H400v160Zm0 220h160v-160H400v160ZM180-400h160v-160H180v160Zm440 0h160v-160H620v160ZM180-180h160v-160H180v160Zm440 0h160v-160H620v160Z\"/>\n",
              "  </svg>\n",
              "    </button>\n",
              "\n",
              "  <style>\n",
              "    .colab-df-container {\n",
              "      display:flex;\n",
              "      gap: 12px;\n",
              "    }\n",
              "\n",
              "    .colab-df-convert {\n",
              "      background-color: #E8F0FE;\n",
              "      border: none;\n",
              "      border-radius: 50%;\n",
              "      cursor: pointer;\n",
              "      display: none;\n",
              "      fill: #1967D2;\n",
              "      height: 32px;\n",
              "      padding: 0 0 0 0;\n",
              "      width: 32px;\n",
              "    }\n",
              "\n",
              "    .colab-df-convert:hover {\n",
              "      background-color: #E2EBFA;\n",
              "      box-shadow: 0px 1px 2px rgba(60, 64, 67, 0.3), 0px 1px 3px 1px rgba(60, 64, 67, 0.15);\n",
              "      fill: #174EA6;\n",
              "    }\n",
              "\n",
              "    .colab-df-buttons div {\n",
              "      margin-bottom: 4px;\n",
              "    }\n",
              "\n",
              "    [theme=dark] .colab-df-convert {\n",
              "      background-color: #3B4455;\n",
              "      fill: #D2E3FC;\n",
              "    }\n",
              "\n",
              "    [theme=dark] .colab-df-convert:hover {\n",
              "      background-color: #434B5C;\n",
              "      box-shadow: 0px 1px 3px 1px rgba(0, 0, 0, 0.15);\n",
              "      filter: drop-shadow(0px 1px 2px rgba(0, 0, 0, 0.3));\n",
              "      fill: #FFFFFF;\n",
              "    }\n",
              "  </style>\n",
              "\n",
              "    <script>\n",
              "      const buttonEl =\n",
              "        document.querySelector('#df-2a24a900-abcd-458e-8204-0df4f253babc button.colab-df-convert');\n",
              "      buttonEl.style.display =\n",
              "        google.colab.kernel.accessAllowed ? 'block' : 'none';\n",
              "\n",
              "      async function convertToInteractive(key) {\n",
              "        const element = document.querySelector('#df-2a24a900-abcd-458e-8204-0df4f253babc');\n",
              "        const dataTable =\n",
              "          await google.colab.kernel.invokeFunction('convertToInteractive',\n",
              "                                                    [key], {});\n",
              "        if (!dataTable) return;\n",
              "\n",
              "        const docLinkHtml = 'Like what you see? Visit the ' +\n",
              "          '<a target=\"_blank\" href=https://colab.research.google.com/notebooks/data_table.ipynb>data table notebook</a>'\n",
              "          + ' to learn more about interactive tables.';\n",
              "        element.innerHTML = '';\n",
              "        dataTable['output_type'] = 'display_data';\n",
              "        await google.colab.output.renderOutput(dataTable, element);\n",
              "        const docLink = document.createElement('div');\n",
              "        docLink.innerHTML = docLinkHtml;\n",
              "        element.appendChild(docLink);\n",
              "      }\n",
              "    </script>\n",
              "  </div>\n",
              "\n",
              "\n",
              "<div id=\"df-a1baa759-5b8b-4861-b5c9-c3ca2c47811e\">\n",
              "  <button class=\"colab-df-quickchart\" onclick=\"quickchart('df-a1baa759-5b8b-4861-b5c9-c3ca2c47811e')\"\n",
              "            title=\"Suggest charts\"\n",
              "            style=\"display:none;\">\n",
              "\n",
              "<svg xmlns=\"http://www.w3.org/2000/svg\" height=\"24px\"viewBox=\"0 0 24 24\"\n",
              "     width=\"24px\">\n",
              "    <g>\n",
              "        <path d=\"M19 3H5c-1.1 0-2 .9-2 2v14c0 1.1.9 2 2 2h14c1.1 0 2-.9 2-2V5c0-1.1-.9-2-2-2zM9 17H7v-7h2v7zm4 0h-2V7h2v10zm4 0h-2v-4h2v4z\"/>\n",
              "    </g>\n",
              "</svg>\n",
              "  </button>\n",
              "\n",
              "<style>\n",
              "  .colab-df-quickchart {\n",
              "      --bg-color: #E8F0FE;\n",
              "      --fill-color: #1967D2;\n",
              "      --hover-bg-color: #E2EBFA;\n",
              "      --hover-fill-color: #174EA6;\n",
              "      --disabled-fill-color: #AAA;\n",
              "      --disabled-bg-color: #DDD;\n",
              "  }\n",
              "\n",
              "  [theme=dark] .colab-df-quickchart {\n",
              "      --bg-color: #3B4455;\n",
              "      --fill-color: #D2E3FC;\n",
              "      --hover-bg-color: #434B5C;\n",
              "      --hover-fill-color: #FFFFFF;\n",
              "      --disabled-bg-color: #3B4455;\n",
              "      --disabled-fill-color: #666;\n",
              "  }\n",
              "\n",
              "  .colab-df-quickchart {\n",
              "    background-color: var(--bg-color);\n",
              "    border: none;\n",
              "    border-radius: 50%;\n",
              "    cursor: pointer;\n",
              "    display: none;\n",
              "    fill: var(--fill-color);\n",
              "    height: 32px;\n",
              "    padding: 0;\n",
              "    width: 32px;\n",
              "  }\n",
              "\n",
              "  .colab-df-quickchart:hover {\n",
              "    background-color: var(--hover-bg-color);\n",
              "    box-shadow: 0 1px 2px rgba(60, 64, 67, 0.3), 0 1px 3px 1px rgba(60, 64, 67, 0.15);\n",
              "    fill: var(--button-hover-fill-color);\n",
              "  }\n",
              "\n",
              "  .colab-df-quickchart-complete:disabled,\n",
              "  .colab-df-quickchart-complete:disabled:hover {\n",
              "    background-color: var(--disabled-bg-color);\n",
              "    fill: var(--disabled-fill-color);\n",
              "    box-shadow: none;\n",
              "  }\n",
              "\n",
              "  .colab-df-spinner {\n",
              "    border: 2px solid var(--fill-color);\n",
              "    border-color: transparent;\n",
              "    border-bottom-color: var(--fill-color);\n",
              "    animation:\n",
              "      spin 1s steps(1) infinite;\n",
              "  }\n",
              "\n",
              "  @keyframes spin {\n",
              "    0% {\n",
              "      border-color: transparent;\n",
              "      border-bottom-color: var(--fill-color);\n",
              "      border-left-color: var(--fill-color);\n",
              "    }\n",
              "    20% {\n",
              "      border-color: transparent;\n",
              "      border-left-color: var(--fill-color);\n",
              "      border-top-color: var(--fill-color);\n",
              "    }\n",
              "    30% {\n",
              "      border-color: transparent;\n",
              "      border-left-color: var(--fill-color);\n",
              "      border-top-color: var(--fill-color);\n",
              "      border-right-color: var(--fill-color);\n",
              "    }\n",
              "    40% {\n",
              "      border-color: transparent;\n",
              "      border-right-color: var(--fill-color);\n",
              "      border-top-color: var(--fill-color);\n",
              "    }\n",
              "    60% {\n",
              "      border-color: transparent;\n",
              "      border-right-color: var(--fill-color);\n",
              "    }\n",
              "    80% {\n",
              "      border-color: transparent;\n",
              "      border-right-color: var(--fill-color);\n",
              "      border-bottom-color: var(--fill-color);\n",
              "    }\n",
              "    90% {\n",
              "      border-color: transparent;\n",
              "      border-bottom-color: var(--fill-color);\n",
              "    }\n",
              "  }\n",
              "</style>\n",
              "\n",
              "  <script>\n",
              "    async function quickchart(key) {\n",
              "      const quickchartButtonEl =\n",
              "        document.querySelector('#' + key + ' button');\n",
              "      quickchartButtonEl.disabled = true;  // To prevent multiple clicks.\n",
              "      quickchartButtonEl.classList.add('colab-df-spinner');\n",
              "      try {\n",
              "        const charts = await google.colab.kernel.invokeFunction(\n",
              "            'suggestCharts', [key], {});\n",
              "      } catch (error) {\n",
              "        console.error('Error during call to suggestCharts:', error);\n",
              "      }\n",
              "      quickchartButtonEl.classList.remove('colab-df-spinner');\n",
              "      quickchartButtonEl.classList.add('colab-df-quickchart-complete');\n",
              "    }\n",
              "    (() => {\n",
              "      let quickchartButtonEl =\n",
              "        document.querySelector('#df-a1baa759-5b8b-4861-b5c9-c3ca2c47811e button');\n",
              "      quickchartButtonEl.style.display =\n",
              "        google.colab.kernel.accessAllowed ? 'block' : 'none';\n",
              "    })();\n",
              "  </script>\n",
              "</div>\n",
              "    </div>\n",
              "  </div>\n"
            ]
          },
          "metadata": {},
          "execution_count": 195
        }
      ]
    },
    {
      "cell_type": "code",
      "source": [
        "grid.best_score_"
      ],
      "metadata": {
        "colab": {
          "base_uri": "https://localhost:8080/"
        },
        "id": "qE_3kCykbC3q",
        "outputId": "5da69c2c-2909-490c-f363-6a09e182f8cb"
      },
      "execution_count": 196,
      "outputs": [
        {
          "output_type": "execute_result",
          "data": {
            "text/plain": [
              "0.7819681677018633"
            ]
          },
          "metadata": {},
          "execution_count": 196
        }
      ]
    },
    {
      "cell_type": "code",
      "source": [
        "melhor_ccp = resultados.iloc[grid.best_index_,4]\n",
        "melhor_ccp"
      ],
      "metadata": {
        "colab": {
          "base_uri": "https://localhost:8080/"
        },
        "id": "g339at_ocw22",
        "outputId": "099a28b8-2f41-4ac7-8eb2-7b032bcd469c"
      },
      "execution_count": 197,
      "outputs": [
        {
          "output_type": "execute_result",
          "data": {
            "text/plain": [
              "0.007303829246539828"
            ]
          },
          "metadata": {},
          "execution_count": 197
        }
      ]
    },
    {
      "cell_type": "code",
      "source": [
        "clf = DecisionTreeClassifier(random_state=2360873, ccp_alpha=melhor_ccp).fit(X_train[['tGravityAcc-min()-X', 'fBodyAccJerk-entropy()-X', 'status_2']], y_train)"
      ],
      "metadata": {
        "id": "GH0LTZxzcwxm"
      },
      "execution_count": 198,
      "outputs": []
    },
    {
      "cell_type": "code",
      "source": [
        "# Avaliando o score na base de teste\n",
        "\n",
        "clf.score(X_test[['tGravityAcc-min()-X', 'fBodyAccJerk-entropy()-X', 'status_2']], y_test)"
      ],
      "metadata": {
        "colab": {
          "base_uri": "https://localhost:8080/"
        },
        "id": "vNOhNL_pcwrW",
        "outputId": "ff4f3274-0c02-4321-80ab-9c2a735ee5fc"
      },
      "execution_count": 199,
      "outputs": [
        {
          "output_type": "execute_result",
          "data": {
            "text/plain": [
              "0.7451645741431965"
            ]
          },
          "metadata": {},
          "execution_count": 199
        }
      ]
    },
    {
      "cell_type": "code",
      "source": [
        "previsoes = clf.predict(X_test[['tGravityAcc-min()-X', 'fBodyAccJerk-entropy()-X', 'status_2']])\n",
        "\n",
        "previsoes"
      ],
      "metadata": {
        "colab": {
          "base_uri": "https://localhost:8080/"
        },
        "id": "vfwN1VO-dTHW",
        "outputId": "7da3e7c0-6b0a-4b82-c4d6-cbd52ca6735b"
      },
      "execution_count": 200,
      "outputs": [
        {
          "output_type": "execute_result",
          "data": {
            "text/plain": [
              "array([5, 5, 5, ..., 2, 2, 2])"
            ]
          },
          "metadata": {},
          "execution_count": 200
        }
      ]
    },
    {
      "cell_type": "code",
      "source": [
        "\n",
        "ConfusionMatrixDisplay.from_predictions(previsoes, y_test)"
      ],
      "metadata": {
        "colab": {
          "base_uri": "https://localhost:8080/",
          "height": 466
        },
        "id": "uMvykd6PdTCG",
        "outputId": "ebdcd45a-c569-470c-9b90-ab3ce2052436"
      },
      "execution_count": 201,
      "outputs": [
        {
          "output_type": "execute_result",
          "data": {
            "text/plain": [
              "<sklearn.metrics._plot.confusion_matrix.ConfusionMatrixDisplay at 0x7bfbdaa3ec80>"
            ]
          },
          "metadata": {},
          "execution_count": 201
        },
        {
          "output_type": "display_data",
          "data": {
            "text/plain": [
              "<Figure size 640x480 with 2 Axes>"
            ],
            "image/png": "[encoded data removed]"
          },
          "metadata": {}
        }
      ]
    }
  ],
  "metadata": {
    "kernelspec": {
      "display_name": "Python 3",
      "language": "python",
      "name": "python3"
    },
    "language_info": {
      "codemirror_mode": {
        "name": "ipython",
        "version": 3
      },
      "file_extension": ".py",
      "mimetype": "text/x-python",
      "name": "python",
      "nbconvert_exporter": "python",
      "pygments_lexer": "ipython3",
      "version": "3.8.5"
    },
    "toc": {
      "base_numbering": 1,
      "nav_menu": {},
      "number_sections": false,
      "sideBar": true,
      "skip_h1_title": true,
      "title_cell": "Índice",
      "title_sidebar": "Conteúdo",
      "toc_cell": false,
      "toc_position": {},
      "toc_section_display": true,
      "toc_window_display": true
    },
    "varInspector": {
      "cols": {
        "lenName": 16,
        "lenType": 16,
        "lenVar": 40
      },
      "kernels_config": {
        "python": {
          "delete_cmd_postfix": "",
          "delete_cmd_prefix": "del ",
          "library": "var_list.py",
          "varRefreshCmd": "print(var_dic_list())"
        },
        "r": {
          "delete_cmd_postfix": ") ",
          "delete_cmd_prefix": "rm(",
          "library": "var_list.r",
          "varRefreshCmd": "cat(var_dic_list()) "
        }
      },
      "types_to_exclude": [
        "module",
        "function",
        "builtin_function_or_method",
        "instance",
        "_Feature"
      ],
      "window_display": false
    },
    "colab": {
      "provenance": []
    }
  },
  "nbformat": 4,
  "nbformat_minor": 0
}